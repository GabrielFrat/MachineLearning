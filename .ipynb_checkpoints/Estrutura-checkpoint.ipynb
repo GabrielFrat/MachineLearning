{
 "cells": [
  {
   "cell_type": "code",
   "execution_count": 41,
   "id": "e5255eda",
   "metadata": {},
   "outputs": [],
   "source": [
    "import pandas as pd\n",
    "import numpy as np\n",
    "import seaborn as sns\n",
    "import matplotlib.pyplot as plt\n",
    "import plotly.express as px\n",
    "!pip -q install yellowbrick"
   ]
  },
  {
   "cell_type": "code",
   "execution_count": 42,
   "id": "b6ef940f",
   "metadata": {},
   "outputs": [],
   "source": [
    "# Este código tem como objetivo estruturar meus conhecimentos em Machine Learning\n",
    "# Abordo os principais temas\n",
    "\n",
    "# Limpeza e tratamento de Dados\n",
    "# Pré Processamento de Dados\n",
    "# Aprendizagem Bayesiana\n",
    "# Regressão Logística\n",
    "# Árvores de Decisão\n",
    "\n",
    "# Todos esses modeloes de ML são aplicados em uma base real de Produtos Estruturados tendo como objetivo dar uma experiência mais precisa"
   ]
  },
  {
   "cell_type": "code",
   "execution_count": 43,
   "id": "2f301a91",
   "metadata": {},
   "outputs": [],
   "source": [
    "base_pe = pd.read_excel(r'C:\\Users\\gabri\\OneDrive - XP Investimentos\\Settima - BI\\Python Scripts\\7. Análise de Dados\\Bases\\base_estruturas.xlsx')\n",
    "base_pe.set_index('Cliente', inplace=True)"
   ]
  },
  {
   "cell_type": "code",
   "execution_count": 84,
   "id": "9e23a73d",
   "metadata": {},
   "outputs": [
    {
     "data": {
      "text/plain": [
       "(2403, 15)"
      ]
     },
     "execution_count": 84,
     "metadata": {},
     "output_type": "execute_result"
    }
   ],
   "source": [
    "x_estruturas = base_pe.iloc[:, 0:15].values\n",
    "y_estruturas = base_pe.iloc[:, 16].values\n",
    "print(x_estruturas)"
   ]
  },
  {
   "cell_type": "code",
   "execution_count": 45,
   "id": "da2e90cc",
   "metadata": {},
   "outputs": [],
   "source": [
    "from sklearn.preprocessing import LabelEncoder"
   ]
  },
  {
   "cell_type": "code",
   "execution_count": 46,
   "id": "fcc4a794",
   "metadata": {},
   "outputs": [],
   "source": [
    "label_encoder_profissao = LabelEncoder()\n",
    "label_encoder_sexo = LabelEncoder()\n",
    "label_encoder_segmento = LabelEncoder()\n",
    "label_encoder_perfil = LabelEncoder()\n",
    "label_encoder_saporte = LabelEncoder()\n",
    "label_encoder_idade = LabelEncoder()\n",
    "label_encoder_status = LabelEncoder()\n",
    "label_encoder_bolsa = LabelEncoder()\n",
    "label_encoder_afd = LabelEncoder()\n",
    "label_encoder_capLiqui = LabelEncoder()\n",
    "label_encoder_netM1 = LabelEncoder()\n",
    "label_encoder_netM = LabelEncoder()\n",
    "label_encoder_fii = LabelEncoder()\n",
    "label_encoder_rv = LabelEncoder()\n",
    "label_encoder_financeiro = LabelEncoder()"
   ]
  },
  {
   "cell_type": "code",
   "execution_count": 47,
   "id": "4a4e1566",
   "metadata": {},
   "outputs": [],
   "source": [
    "x_estruturas[:, 0] = label_encoder_profissao.fit_transform(x_estruturas[:, 0])\n",
    "x_estruturas[:, 1] = label_encoder_sexo.fit_transform(x_estruturas[:, 1])\n",
    "x_estruturas[:, 2] = label_encoder_segmento.fit_transform(x_estruturas[:, 2])\n",
    "x_estruturas[:, 3] = label_encoder_perfil.fit_transform(x_estruturas[:, 3])\n",
    "x_estruturas[:, 4] = label_encoder_saporte.fit_transform(x_estruturas[:, 4])\n",
    "x_estruturas[:, 5] = label_encoder_idade.fit_transform(x_estruturas[:, 5])\n",
    "x_estruturas[:, 6] = label_encoder_status.fit_transform(x_estruturas[:, 6])\n",
    "x_estruturas[:, 7] = label_encoder_bolsa.fit_transform(x_estruturas[:, 7])\n",
    "x_estruturas[:, 8] = label_encoder_afd.fit_transform(x_estruturas[:, 8])\n",
    "x_estruturas[:, 9] = label_encoder_capLiqui.fit_transform(x_estruturas[:, 9])\n",
    "x_estruturas[:, 10] = label_encoder_netM1.fit_transform(x_estruturas[:, 10])\n",
    "x_estruturas[:, 11] = label_encoder_netM.fit_transform(x_estruturas[:, 11])\n",
    "x_estruturas[:, 12] = label_encoder_fii.fit_transform(x_estruturas[:, 12])\n",
    "x_estruturas[:, 13] = label_encoder_rv.fit_transform(x_estruturas[:, 13])\n",
    "x_estruturas[:, 14] = label_encoder_financeiro.fit_transform(x_estruturas[:, 14])"
   ]
  },
  {
   "cell_type": "code",
   "execution_count": 48,
   "id": "5faf1bc2",
   "metadata": {},
   "outputs": [
    {
     "data": {
      "text/plain": [
       "array([[1, 1, 0, ..., 943, 2275, 822],\n",
       "       [74, 1, 0, ..., 996, 2274, 1365],\n",
       "       [75, 1, 0, ..., 1011, 2273, 1092],\n",
       "       ...,\n",
       "       [39, 1, 0, ..., 0, 1, 78],\n",
       "       [82, 1, 0, ..., 0, 0, 25],\n",
       "       [7, 1, 0, ..., 0, 0, 113]], dtype=object)"
      ]
     },
     "execution_count": 48,
     "metadata": {},
     "output_type": "execute_result"
    }
   ],
   "source": [
    "x_estruturas"
   ]
  },
  {
   "cell_type": "code",
   "execution_count": 49,
   "id": "9b78c6ff",
   "metadata": {},
   "outputs": [],
   "source": [
    "from sklearn.preprocessing import OneHotEncoder\n",
    "from sklearn.compose import ColumnTransformer"
   ]
  },
  {
   "cell_type": "code",
   "execution_count": 50,
   "id": "dc1932ab",
   "metadata": {},
   "outputs": [
    {
     "data": {
      "text/plain": [
       "array([[-1.4040642 ,  0.64195651, -0.55758313, ...,  2.30889279,\n",
       "         1.7772591 , -0.21656789],\n",
       "       [ 0.7298589 ,  0.64195651, -0.55758313, ...,  2.47756734,\n",
       "         1.77573194,  0.59965602],\n",
       "       [ 0.75909072,  0.64195651, -0.55758313, ...,  2.52530542,\n",
       "         1.77420479,  0.1892893 ],\n",
       "       ...,\n",
       "       [-0.29325492,  0.64195651, -0.55758313, ..., -0.69224125,\n",
       "        -1.69549179, -1.33492994],\n",
       "       [ 0.96371348,  0.64195651, -0.55758313, ..., -0.69224125,\n",
       "        -1.69701895, -1.4145982 ],\n",
       "       [-1.22867326,  0.64195651, -0.55758313, ..., -0.69224125,\n",
       "        -1.69701895, -1.28231882]])"
      ]
     },
     "execution_count": 50,
     "metadata": {},
     "output_type": "execute_result"
    }
   ],
   "source": [
    "from sklearn.preprocessing import StandardScaler\n",
    "scaler_estruturas = StandardScaler()\n",
    "x_estruturas = scaler_estruturas.fit_transform(x_estruturas)\n",
    "x_estruturas"
   ]
  },
  {
   "cell_type": "code",
   "execution_count": 51,
   "id": "18784933",
   "metadata": {},
   "outputs": [],
   "source": [
    "from sklearn.model_selection import train_test_split\n",
    "x_estruturas_treining, x_estruturas_testing, y_estruturas_treining, y_estruturas_testing = train_test_split(x_estruturas, y_estruturas, test_size=0.15, random_state=0)"
   ]
  },
  {
   "cell_type": "code",
   "execution_count": 52,
   "id": "9dea9164",
   "metadata": {},
   "outputs": [],
   "source": [
    "import pickle\n",
    "with open('estruturas.pkl', mode = 'wb') as f:\n",
    "    pickle.dump([x_estruturas_treining, y_estruturas_treining, x_estruturas_testing, y_estruturas_testing], f)"
   ]
  },
  {
   "cell_type": "code",
   "execution_count": 53,
   "id": "98d2a7b5",
   "metadata": {},
   "outputs": [],
   "source": [
    "import pandas as pd\n",
    "import pickle\n",
    "from sklearn.naive_bayes import GaussianNB"
   ]
  },
  {
   "cell_type": "code",
   "execution_count": 54,
   "id": "42393ab0",
   "metadata": {},
   "outputs": [
    {
     "data": {
      "text/plain": [
       "((2042, 16), (2042,), (361, 16), (361,))"
      ]
     },
     "execution_count": 54,
     "metadata": {},
     "output_type": "execute_result"
    }
   ],
   "source": [
    "with open(r'C:\\Users\\gabri\\OneDrive - XP Investimentos\\Settima - BI\\Python Scripts\\7. Análise de Dados\\Renda Variável\\estruturas.pkl', 'rb') as f:\n",
    "    x_estruturas_treining, y_estruturas_treining, x_estruturas_testing, y_estruturas_testing = pickle.load(f)\n",
    "    \n",
    "    \n",
    "x_estruturas_treining.shape, y_estruturas_treining.shape, x_estruturas_testing.shape, y_estruturas_testing.shape"
   ]
  },
  {
   "cell_type": "code",
   "execution_count": 55,
   "id": "08208715",
   "metadata": {},
   "outputs": [
    {
     "data": {
      "text/plain": [
       "((361,), (361,))"
      ]
     },
     "execution_count": 55,
     "metadata": {},
     "output_type": "execute_result"
    }
   ],
   "source": [
    "naive_estrutura_data = GaussianNB()\n",
    "naive_estrutura_data.fit(x_estruturas_treining, y_estruturas_treining)\n",
    "previsoes = naive_estrutura_data.predict(x_estruturas_testing)\n",
    "previsoes.shape, y_estruturas_testing.shape"
   ]
  },
  {
   "cell_type": "code",
   "execution_count": 56,
   "id": "f9a3bce7",
   "metadata": {},
   "outputs": [
    {
     "data": {
      "text/plain": [
       "0.6398891966759003"
      ]
     },
     "execution_count": 56,
     "metadata": {},
     "output_type": "execute_result"
    }
   ],
   "source": [
    "from sklearn.metrics import accuracy_score\n",
    "accuracy_score(y_estruturas_testing, previsoes)"
   ]
  },
  {
   "cell_type": "code",
   "execution_count": 57,
   "id": "7796cbd9",
   "metadata": {},
   "outputs": [],
   "source": [
    "from sklearn.linear_model import LogisticRegression"
   ]
  },
  {
   "cell_type": "code",
   "execution_count": 58,
   "id": "2dbab981",
   "metadata": {},
   "outputs": [
    {
     "data": {
      "text/html": [
       "<style>#sk-container-id-3 {color: black;background-color: white;}#sk-container-id-3 pre{padding: 0;}#sk-container-id-3 div.sk-toggleable {background-color: white;}#sk-container-id-3 label.sk-toggleable__label {cursor: pointer;display: block;width: 100%;margin-bottom: 0;padding: 0.3em;box-sizing: border-box;text-align: center;}#sk-container-id-3 label.sk-toggleable__label-arrow:before {content: \"▸\";float: left;margin-right: 0.25em;color: #696969;}#sk-container-id-3 label.sk-toggleable__label-arrow:hover:before {color: black;}#sk-container-id-3 div.sk-estimator:hover label.sk-toggleable__label-arrow:before {color: black;}#sk-container-id-3 div.sk-toggleable__content {max-height: 0;max-width: 0;overflow: hidden;text-align: left;background-color: #f0f8ff;}#sk-container-id-3 div.sk-toggleable__content pre {margin: 0.2em;color: black;border-radius: 0.25em;background-color: #f0f8ff;}#sk-container-id-3 input.sk-toggleable__control:checked~div.sk-toggleable__content {max-height: 200px;max-width: 100%;overflow: auto;}#sk-container-id-3 input.sk-toggleable__control:checked~label.sk-toggleable__label-arrow:before {content: \"▾\";}#sk-container-id-3 div.sk-estimator input.sk-toggleable__control:checked~label.sk-toggleable__label {background-color: #d4ebff;}#sk-container-id-3 div.sk-label input.sk-toggleable__control:checked~label.sk-toggleable__label {background-color: #d4ebff;}#sk-container-id-3 input.sk-hidden--visually {border: 0;clip: rect(1px 1px 1px 1px);clip: rect(1px, 1px, 1px, 1px);height: 1px;margin: -1px;overflow: hidden;padding: 0;position: absolute;width: 1px;}#sk-container-id-3 div.sk-estimator {font-family: monospace;background-color: #f0f8ff;border: 1px dotted black;border-radius: 0.25em;box-sizing: border-box;margin-bottom: 0.5em;}#sk-container-id-3 div.sk-estimator:hover {background-color: #d4ebff;}#sk-container-id-3 div.sk-parallel-item::after {content: \"\";width: 100%;border-bottom: 1px solid gray;flex-grow: 1;}#sk-container-id-3 div.sk-label:hover label.sk-toggleable__label {background-color: #d4ebff;}#sk-container-id-3 div.sk-serial::before {content: \"\";position: absolute;border-left: 1px solid gray;box-sizing: border-box;top: 0;bottom: 0;left: 50%;z-index: 0;}#sk-container-id-3 div.sk-serial {display: flex;flex-direction: column;align-items: center;background-color: white;padding-right: 0.2em;padding-left: 0.2em;position: relative;}#sk-container-id-3 div.sk-item {position: relative;z-index: 1;}#sk-container-id-3 div.sk-parallel {display: flex;align-items: stretch;justify-content: center;background-color: white;position: relative;}#sk-container-id-3 div.sk-item::before, #sk-container-id-3 div.sk-parallel-item::before {content: \"\";position: absolute;border-left: 1px solid gray;box-sizing: border-box;top: 0;bottom: 0;left: 50%;z-index: -1;}#sk-container-id-3 div.sk-parallel-item {display: flex;flex-direction: column;z-index: 1;position: relative;background-color: white;}#sk-container-id-3 div.sk-parallel-item:first-child::after {align-self: flex-end;width: 50%;}#sk-container-id-3 div.sk-parallel-item:last-child::after {align-self: flex-start;width: 50%;}#sk-container-id-3 div.sk-parallel-item:only-child::after {width: 0;}#sk-container-id-3 div.sk-dashed-wrapped {border: 1px dashed gray;margin: 0 0.4em 0.5em 0.4em;box-sizing: border-box;padding-bottom: 0.4em;background-color: white;}#sk-container-id-3 div.sk-label label {font-family: monospace;font-weight: bold;display: inline-block;line-height: 1.2em;}#sk-container-id-3 div.sk-label-container {text-align: center;}#sk-container-id-3 div.sk-container {/* jupyter's `normalize.less` sets `[hidden] { display: none; }` but bootstrap.min.css set `[hidden] { display: none !important; }` so we also need the `!important` here to be able to override the default hidden behavior on the sphinx rendered scikit-learn.org. See: https://github.com/scikit-learn/scikit-learn/issues/21755 */display: inline-block !important;position: relative;}#sk-container-id-3 div.sk-text-repr-fallback {display: none;}</style><div id=\"sk-container-id-3\" class=\"sk-top-container\"><div class=\"sk-text-repr-fallback\"><pre>LogisticRegression(random_state=1)</pre><b>In a Jupyter environment, please rerun this cell to show the HTML representation or trust the notebook. <br />On GitHub, the HTML representation is unable to render, please try loading this page with nbviewer.org.</b></div><div class=\"sk-container\" hidden><div class=\"sk-item\"><div class=\"sk-estimator sk-toggleable\"><input class=\"sk-toggleable__control sk-hidden--visually\" id=\"sk-estimator-id-3\" type=\"checkbox\" checked><label for=\"sk-estimator-id-3\" class=\"sk-toggleable__label sk-toggleable__label-arrow\">LogisticRegression</label><div class=\"sk-toggleable__content\"><pre>LogisticRegression(random_state=1)</pre></div></div></div></div></div>"
      ],
      "text/plain": [
       "LogisticRegression(random_state=1)"
      ]
     },
     "execution_count": 58,
     "metadata": {},
     "output_type": "execute_result"
    }
   ],
   "source": [
    "logistic_estrutura = LogisticRegression(random_state=1)\n",
    "logistic_estrutura.fit(x_estruturas_treining, y_estruturas_treining)"
   ]
  },
  {
   "cell_type": "code",
   "execution_count": 59,
   "id": "31a32c97",
   "metadata": {},
   "outputs": [
    {
     "data": {
      "text/plain": [
       "array([-0.65394599])"
      ]
     },
     "execution_count": 59,
     "metadata": {},
     "output_type": "execute_result"
    }
   ],
   "source": [
    "logistic_estrutura.intercept_"
   ]
  },
  {
   "cell_type": "code",
   "execution_count": 60,
   "id": "a369b516",
   "metadata": {},
   "outputs": [
    {
     "data": {
      "text/plain": [
       "array([[ 0.06219198, -0.11252974, -0.05642497, -0.31160442,  0.07449824,\n",
       "        -0.22564725, -0.0065238 ,  0.        ,  0.4088645 , -0.23997347,\n",
       "        -0.01046219,  0.20163772,  0.52669968, -0.3314238 ,  0.19632974,\n",
       "         0.04591595]])"
      ]
     },
     "execution_count": 60,
     "metadata": {},
     "output_type": "execute_result"
    }
   ],
   "source": [
    "logistic_estrutura.coef_"
   ]
  },
  {
   "cell_type": "code",
   "execution_count": 61,
   "id": "5a51677e",
   "metadata": {},
   "outputs": [
    {
     "data": {
      "text/plain": [
       "array([0, 0, 0, 1, 1, 0, 0, 1, 0, 0, 1, 0, 0, 0, 0, 1, 0, 1, 0, 0, 1, 0,\n",
       "       0, 1, 1, 1, 1, 0, 0, 0, 0, 0, 0, 0, 1, 0, 1, 0, 1, 1, 0, 1, 0, 1,\n",
       "       0, 1, 0, 0, 0, 1, 0, 0, 1, 0, 0, 1, 0, 1, 1, 0, 1, 1, 1, 0, 0, 0,\n",
       "       0, 0, 0, 1, 1, 0, 1, 0, 0, 0, 0, 1, 0, 0, 1, 1, 0, 0, 1, 0, 0, 0,\n",
       "       1, 0, 1, 1, 0, 0, 1, 0, 0, 0, 0, 0, 0, 1, 0, 0, 0, 1, 0, 1, 0, 0,\n",
       "       0, 0, 0, 0, 0, 0, 1, 1, 1, 1, 0, 0, 0, 1, 0, 0, 0, 0, 0, 0, 0, 0,\n",
       "       0, 1, 0, 0, 0, 0, 1, 0, 0, 1, 0, 0, 1, 0, 0, 0, 1, 1, 0, 0, 1, 1,\n",
       "       1, 0, 1, 0, 0, 1, 0, 0, 0, 0, 0, 0, 0, 0, 0, 0, 0, 0, 1, 0, 0, 0,\n",
       "       1, 0, 1, 1, 1, 0, 0, 0, 0, 1, 0, 0, 0, 0, 0, 0, 0, 0, 0, 0, 1, 1,\n",
       "       0, 0, 0, 1, 0, 1, 0, 0, 0, 0, 0, 0, 0, 1, 0, 0, 0, 0, 1, 1, 0, 0,\n",
       "       0, 0, 0, 0, 0, 1, 0, 0, 1, 0, 0, 0, 0, 1, 1, 1, 1, 0, 0, 0, 0, 1,\n",
       "       0, 1, 0, 0, 0, 0, 0, 0, 1, 0, 0, 0, 1, 0, 0, 0, 0, 1, 1, 0, 0, 0,\n",
       "       0, 1, 0, 1, 0, 0, 0, 0, 0, 0, 1, 0, 0, 0, 0, 1, 1, 1, 0, 0, 0, 1,\n",
       "       1, 1, 1, 1, 0, 0, 0, 0, 0, 0, 0, 0, 0, 1, 1, 0, 0, 0, 0, 0, 0, 1,\n",
       "       1, 1, 0, 1, 0, 1, 0, 1, 0, 1, 0, 0, 0, 0, 0, 1, 0, 1, 0, 1, 1, 0,\n",
       "       0, 1, 0, 1, 0, 1, 0, 0, 1, 1, 0, 1, 1, 1, 0, 0, 0, 1, 0, 0, 0, 0,\n",
       "       0, 0, 0, 0, 0, 0, 0, 0, 0], dtype=int64)"
      ]
     },
     "execution_count": 61,
     "metadata": {},
     "output_type": "execute_result"
    }
   ],
   "source": [
    "previsoes = logistic_estrutura.predict(x_estruturas_testing)\n",
    "previsoes"
   ]
  },
  {
   "cell_type": "code",
   "execution_count": 62,
   "id": "52929b98",
   "metadata": {},
   "outputs": [
    {
     "data": {
      "text/plain": [
       "0.6897506925207756"
      ]
     },
     "execution_count": 62,
     "metadata": {},
     "output_type": "execute_result"
    }
   ],
   "source": [
    "from sklearn.metrics import accuracy_score, classification_report\n",
    "accuracy_score(y_estruturas_testing, previsoes)"
   ]
  },
  {
   "cell_type": "code",
   "execution_count": 63,
   "id": "229dae7f",
   "metadata": {},
   "outputs": [
    {
     "data": {
      "text/plain": [
       "0.6897506925207756"
      ]
     },
     "execution_count": 63,
     "metadata": {},
     "output_type": "execute_result"
    },
    {
     "data": {
      "image/png": "[encoded data removed]",
      "text/plain": [
       "<Figure size 800x550 with 1 Axes>"
      ]
     },
     "metadata": {},
     "output_type": "display_data"
    }
   ],
   "source": [
    "from yellowbrick.classifier import ConfusionMatrix\n",
    "cm = ConfusionMatrix(logistic_estrutura)\n",
    "cm.fit(x_estruturas_treining, y_estruturas_treining)\n",
    "cm.score(x_estruturas_testing, y_estruturas_testing)"
   ]
  },
  {
   "cell_type": "code",
   "execution_count": 64,
   "id": "232413cf",
   "metadata": {},
   "outputs": [
    {
     "name": "stdout",
     "output_type": "stream",
     "text": [
      "              precision    recall  f1-score   support\n",
      "\n",
      "           0       0.75      0.78      0.77       237\n",
      "           1       0.55      0.51      0.53       124\n",
      "\n",
      "    accuracy                           0.69       361\n",
      "   macro avg       0.65      0.65      0.65       361\n",
      "weighted avg       0.68      0.69      0.69       361\n",
      "\n"
     ]
    }
   ],
   "source": [
    "print(classification_report(y_estruturas_testing, previsoes))"
   ]
  },
  {
   "cell_type": "code",
   "execution_count": 65,
   "id": "9d4e7af9",
   "metadata": {},
   "outputs": [],
   "source": [
    "# Árvores de Decisão\n",
    "from sklearn.tree import DecisionTreeClassifier\n",
    "\n"
   ]
  },
  {
   "cell_type": "code",
   "execution_count": 66,
   "id": "2f7a742c",
   "metadata": {},
   "outputs": [
    {
     "data": {
      "text/plain": [
       "((361, 16), (361,))"
      ]
     },
     "execution_count": 66,
     "metadata": {},
     "output_type": "execute_result"
    }
   ],
   "source": [
    "x_estruturas_treining.shape, y_estruturas_treining.shape\n",
    "x_estruturas_testing.shape, y_estruturas_testing.shape"
   ]
  },
  {
   "cell_type": "code",
   "execution_count": 67,
   "id": "9ef09c1d",
   "metadata": {},
   "outputs": [
    {
     "data": {
      "text/html": [
       "<style>#sk-container-id-4 {color: black;background-color: white;}#sk-container-id-4 pre{padding: 0;}#sk-container-id-4 div.sk-toggleable {background-color: white;}#sk-container-id-4 label.sk-toggleable__label {cursor: pointer;display: block;width: 100%;margin-bottom: 0;padding: 0.3em;box-sizing: border-box;text-align: center;}#sk-container-id-4 label.sk-toggleable__label-arrow:before {content: \"▸\";float: left;margin-right: 0.25em;color: #696969;}#sk-container-id-4 label.sk-toggleable__label-arrow:hover:before {color: black;}#sk-container-id-4 div.sk-estimator:hover label.sk-toggleable__label-arrow:before {color: black;}#sk-container-id-4 div.sk-toggleable__content {max-height: 0;max-width: 0;overflow: hidden;text-align: left;background-color: #f0f8ff;}#sk-container-id-4 div.sk-toggleable__content pre {margin: 0.2em;color: black;border-radius: 0.25em;background-color: #f0f8ff;}#sk-container-id-4 input.sk-toggleable__control:checked~div.sk-toggleable__content {max-height: 200px;max-width: 100%;overflow: auto;}#sk-container-id-4 input.sk-toggleable__control:checked~label.sk-toggleable__label-arrow:before {content: \"▾\";}#sk-container-id-4 div.sk-estimator input.sk-toggleable__control:checked~label.sk-toggleable__label {background-color: #d4ebff;}#sk-container-id-4 div.sk-label input.sk-toggleable__control:checked~label.sk-toggleable__label {background-color: #d4ebff;}#sk-container-id-4 input.sk-hidden--visually {border: 0;clip: rect(1px 1px 1px 1px);clip: rect(1px, 1px, 1px, 1px);height: 1px;margin: -1px;overflow: hidden;padding: 0;position: absolute;width: 1px;}#sk-container-id-4 div.sk-estimator {font-family: monospace;background-color: #f0f8ff;border: 1px dotted black;border-radius: 0.25em;box-sizing: border-box;margin-bottom: 0.5em;}#sk-container-id-4 div.sk-estimator:hover {background-color: #d4ebff;}#sk-container-id-4 div.sk-parallel-item::after {content: \"\";width: 100%;border-bottom: 1px solid gray;flex-grow: 1;}#sk-container-id-4 div.sk-label:hover label.sk-toggleable__label {background-color: #d4ebff;}#sk-container-id-4 div.sk-serial::before {content: \"\";position: absolute;border-left: 1px solid gray;box-sizing: border-box;top: 0;bottom: 0;left: 50%;z-index: 0;}#sk-container-id-4 div.sk-serial {display: flex;flex-direction: column;align-items: center;background-color: white;padding-right: 0.2em;padding-left: 0.2em;position: relative;}#sk-container-id-4 div.sk-item {position: relative;z-index: 1;}#sk-container-id-4 div.sk-parallel {display: flex;align-items: stretch;justify-content: center;background-color: white;position: relative;}#sk-container-id-4 div.sk-item::before, #sk-container-id-4 div.sk-parallel-item::before {content: \"\";position: absolute;border-left: 1px solid gray;box-sizing: border-box;top: 0;bottom: 0;left: 50%;z-index: -1;}#sk-container-id-4 div.sk-parallel-item {display: flex;flex-direction: column;z-index: 1;position: relative;background-color: white;}#sk-container-id-4 div.sk-parallel-item:first-child::after {align-self: flex-end;width: 50%;}#sk-container-id-4 div.sk-parallel-item:last-child::after {align-self: flex-start;width: 50%;}#sk-container-id-4 div.sk-parallel-item:only-child::after {width: 0;}#sk-container-id-4 div.sk-dashed-wrapped {border: 1px dashed gray;margin: 0 0.4em 0.5em 0.4em;box-sizing: border-box;padding-bottom: 0.4em;background-color: white;}#sk-container-id-4 div.sk-label label {font-family: monospace;font-weight: bold;display: inline-block;line-height: 1.2em;}#sk-container-id-4 div.sk-label-container {text-align: center;}#sk-container-id-4 div.sk-container {/* jupyter's `normalize.less` sets `[hidden] { display: none; }` but bootstrap.min.css set `[hidden] { display: none !important; }` so we also need the `!important` here to be able to override the default hidden behavior on the sphinx rendered scikit-learn.org. See: https://github.com/scikit-learn/scikit-learn/issues/21755 */display: inline-block !important;position: relative;}#sk-container-id-4 div.sk-text-repr-fallback {display: none;}</style><div id=\"sk-container-id-4\" class=\"sk-top-container\"><div class=\"sk-text-repr-fallback\"><pre>DecisionTreeClassifier(criterion=&#x27;entropy&#x27;, random_state=0)</pre><b>In a Jupyter environment, please rerun this cell to show the HTML representation or trust the notebook. <br />On GitHub, the HTML representation is unable to render, please try loading this page with nbviewer.org.</b></div><div class=\"sk-container\" hidden><div class=\"sk-item\"><div class=\"sk-estimator sk-toggleable\"><input class=\"sk-toggleable__control sk-hidden--visually\" id=\"sk-estimator-id-4\" type=\"checkbox\" checked><label for=\"sk-estimator-id-4\" class=\"sk-toggleable__label sk-toggleable__label-arrow\">DecisionTreeClassifier</label><div class=\"sk-toggleable__content\"><pre>DecisionTreeClassifier(criterion=&#x27;entropy&#x27;, random_state=0)</pre></div></div></div></div></div>"
      ],
      "text/plain": [
       "DecisionTreeClassifier(criterion='entropy', random_state=0)"
      ]
     },
     "execution_count": 67,
     "metadata": {},
     "output_type": "execute_result"
    }
   ],
   "source": [
    "arvore_estrutura = DecisionTreeClassifier(criterion='entropy', random_state=0)\n",
    "arvore_estrutura.fit(x_estruturas_treining, y_estruturas_treining)"
   ]
  },
  {
   "cell_type": "code",
   "execution_count": 68,
   "id": "9d1c934d",
   "metadata": {},
   "outputs": [
    {
     "data": {
      "text/plain": [
       "array([0, 1, 0, 1, 0, 0, 0, 0, 0, 0, 1, 1, 1, 0, 0, 1, 0, 1, 0, 1, 0, 0,\n",
       "       0, 0, 0, 0, 0, 1, 0, 0, 0, 1, 1, 1, 1, 0, 1, 0, 0, 1, 0, 1, 0, 1,\n",
       "       0, 1, 0, 1, 1, 0, 0, 1, 1, 1, 0, 1, 0, 0, 1, 1, 1, 0, 1, 0, 0, 0,\n",
       "       0, 0, 0, 0, 0, 1, 0, 0, 0, 0, 0, 1, 0, 0, 0, 0, 1, 0, 1, 0, 1, 0,\n",
       "       1, 0, 1, 1, 0, 0, 0, 0, 0, 0, 1, 0, 1, 1, 0, 0, 0, 0, 0, 0, 0, 0,\n",
       "       0, 1, 1, 0, 1, 0, 1, 1, 0, 1, 1, 0, 0, 1, 1, 0, 1, 0, 0, 1, 0, 0,\n",
       "       0, 1, 1, 0, 0, 1, 1, 0, 0, 0, 0, 0, 1, 1, 0, 0, 0, 0, 0, 0, 1, 0,\n",
       "       1, 0, 0, 0, 0, 0, 1, 0, 0, 1, 0, 0, 0, 0, 0, 1, 0, 0, 0, 0, 0, 1,\n",
       "       1, 1, 1, 0, 0, 0, 1, 0, 0, 1, 0, 1, 0, 0, 0, 0, 0, 1, 0, 0, 0, 0,\n",
       "       0, 0, 0, 1, 0, 1, 1, 0, 0, 1, 0, 0, 0, 0, 0, 0, 0, 1, 1, 1, 1, 0,\n",
       "       1, 0, 1, 1, 0, 0, 0, 1, 0, 0, 0, 0, 0, 1, 1, 1, 0, 1, 0, 0, 0, 0,\n",
       "       0, 0, 0, 1, 0, 0, 1, 1, 1, 0, 0, 0, 0, 0, 0, 0, 1, 1, 0, 0, 0, 0,\n",
       "       1, 1, 0, 0, 0, 1, 0, 0, 0, 0, 0, 1, 1, 0, 0, 1, 1, 0, 0, 1, 1, 1,\n",
       "       1, 0, 1, 1, 0, 0, 0, 0, 1, 0, 1, 1, 0, 1, 1, 1, 1, 1, 0, 0, 0, 1,\n",
       "       1, 0, 0, 0, 0, 1, 0, 0, 0, 1, 0, 1, 0, 0, 1, 1, 0, 0, 1, 0, 1, 1,\n",
       "       1, 1, 1, 1, 1, 1, 0, 0, 1, 1, 0, 0, 0, 1, 1, 0, 0, 1, 0, 0, 0, 0,\n",
       "       0, 1, 0, 0, 1, 0, 0, 0, 1], dtype=int64)"
      ]
     },
     "execution_count": 68,
     "metadata": {},
     "output_type": "execute_result"
    }
   ],
   "source": [
    "previsoes = arvore_estrutura.predict(x_estruturas_testing)\n",
    "previsoes"
   ]
  },
  {
   "cell_type": "code",
   "execution_count": 69,
   "id": "7f2e122f",
   "metadata": {},
   "outputs": [
    {
     "data": {
      "text/plain": [
       "0.590027700831025"
      ]
     },
     "execution_count": 69,
     "metadata": {},
     "output_type": "execute_result"
    }
   ],
   "source": [
    "accuracy_score(y_estruturas_testing, previsoes)"
   ]
  },
  {
   "cell_type": "code",
   "execution_count": 76,
   "id": "b03dc286",
   "metadata": {},
   "outputs": [
    {
     "data": {
      "text/plain": [
       "0.590027700831025"
      ]
     },
     "execution_count": 76,
     "metadata": {},
     "output_type": "execute_result"
    },
    {
     "data": {
      "image/png": "[encoded data removed]",
      "text/plain": [
       "<Figure size 800x550 with 1 Axes>"
      ]
     },
     "metadata": {},
     "output_type": "display_data"
    }
   ],
   "source": [
    "from yellowbrick.classifier import ConfusionMatrix\n",
    "cm = ConfusionMatrix(arvore_estrutura)\n",
    "cm.fit(x_estruturas_treining, y_estruturas_treining)\n",
    "cm.score(x_estruturas_testing, y_estruturas_testing)"
   ]
  },
  {
   "cell_type": "code",
   "execution_count": 77,
   "id": "18bb6496",
   "metadata": {},
   "outputs": [
    {
     "name": "stdout",
     "output_type": "stream",
     "text": [
      "              precision    recall  f1-score   support\n",
      "\n",
      "           0       0.70      0.66      0.68       237\n",
      "           1       0.41      0.45      0.43       124\n",
      "\n",
      "    accuracy                           0.59       361\n",
      "   macro avg       0.55      0.56      0.56       361\n",
      "weighted avg       0.60      0.59      0.59       361\n",
      "\n"
     ]
    }
   ],
   "source": [
    "print(classification_report(y_estruturas_testing, previsoes))"
   ]
  },
  {
   "cell_type": "code",
   "execution_count": 78,
   "id": "3e97ed10",
   "metadata": {},
   "outputs": [
    {
     "ename": "IndexError",
     "evalue": "list index out of range",
     "output_type": "error",
     "traceback": [
      "\u001b[1;31m---------------------------------------------------------------------------\u001b[0m",
      "\u001b[1;31mIndexError\u001b[0m                                Traceback (most recent call last)",
      "Cell \u001b[1;32mIn[78], line 6\u001b[0m\n\u001b[0;32m      2\u001b[0m previsores \u001b[38;5;241m=\u001b[39m [\u001b[38;5;124m\"\u001b[39m\u001b[38;5;124mProfissão\u001b[39m\u001b[38;5;124m\"\u001b[39m, \u001b[38;5;124m\"\u001b[39m\u001b[38;5;124mSexo\u001b[39m\u001b[38;5;124m\"\u001b[39m, \u001b[38;5;124m\"\u001b[39m\u001b[38;5;124mSegmento\u001b[39m\u001b[38;5;124m\"\u001b[39m, \u001b[38;5;124m\"\u001b[39m\u001b[38;5;124mPerfil\u001b[39m\u001b[38;5;124m\"\u001b[39m, \u001b[38;5;124m\"\u001b[39m\u001b[38;5;124mFez Segundo Aporte?\u001b[39m\u001b[38;5;124m\"\u001b[39m, \u001b[38;5;124m\"\u001b[39m\u001b[38;5;124mIdade\u001b[39m\u001b[38;5;124m\"\u001b[39m,\n\u001b[0;32m      3\u001b[0m               \u001b[38;5;124m\"\u001b[39m\u001b[38;5;124mStatus\u001b[39m\u001b[38;5;124m\"\u001b[39m, \u001b[38;5;124m\"\u001b[39m\u001b[38;5;124mOperou Bolsa?\u001b[39m\u001b[38;5;124m\"\u001b[39m, \u001b[38;5;124m\"\u001b[39m\u001b[38;5;124mAplicação Financeira Declarada\u001b[39m\u001b[38;5;124m\"\u001b[39m, \u001b[38;5;124m\"\u001b[39m\u001b[38;5;124mCaptação Líquida em M\u001b[39m\u001b[38;5;124m\"\u001b[39m, \n\u001b[0;32m      4\u001b[0m               \u001b[38;5;124m\"\u001b[39m\u001b[38;5;124mNet em M-1\u001b[39m\u001b[38;5;124m\"\u001b[39m, \u001b[38;5;124m\"\u001b[39m\u001b[38;5;124mNet Em M\u001b[39m\u001b[38;5;124m\"\u001b[39m, \u001b[38;5;124m\"\u001b[39m\u001b[38;5;124mNet Fundos Imobiliários\u001b[39m\u001b[38;5;124m\"\u001b[39m, \u001b[38;5;124m\"\u001b[39m\u001b[38;5;124mNet Renda Variável\u001b[39m\u001b[38;5;124m\"\u001b[39m, \u001b[38;5;124m\"\u001b[39m\u001b[38;5;124mNet Financeiro\u001b[39m\u001b[38;5;124m\"\u001b[39m]\n\u001b[0;32m      5\u001b[0m fig, axes \u001b[38;5;241m=\u001b[39m plt\u001b[38;5;241m.\u001b[39msubplots(nrows\u001b[38;5;241m=\u001b[39m\u001b[38;5;241m1\u001b[39m, ncols\u001b[38;5;241m=\u001b[39m\u001b[38;5;241m1\u001b[39m, figsize\u001b[38;5;241m=\u001b[39m(\u001b[38;5;241m20\u001b[39m, \u001b[38;5;241m20\u001b[39m))\n\u001b[1;32m----> 6\u001b[0m \u001b[43mtree\u001b[49m\u001b[38;5;241;43m.\u001b[39;49m\u001b[43mplot_tree\u001b[49m\u001b[43m(\u001b[49m\u001b[43marvore_estrutura\u001b[49m\u001b[43m,\u001b[49m\u001b[43m \u001b[49m\u001b[43mfeature_names\u001b[49m\u001b[38;5;241;43m=\u001b[39;49m\u001b[43mprevisores\u001b[49m\u001b[43m,\u001b[49m\u001b[43m \u001b[49m\u001b[43mclass_names\u001b[49m\u001b[38;5;241;43m=\u001b[39;49m\u001b[38;5;28;43mstr\u001b[39;49m\u001b[43m(\u001b[49m\u001b[43marvore_estrutura\u001b[49m\u001b[38;5;241;43m.\u001b[39;49m\u001b[43mclasses_\u001b[49m\u001b[43m)\u001b[49m\u001b[43m,\u001b[49m\u001b[43m \u001b[49m\u001b[43mfilled\u001b[49m\u001b[38;5;241;43m=\u001b[39;49m\u001b[38;5;28;43;01mTrue\u001b[39;49;00m\u001b[43m)\u001b[49m;\n\u001b[0;32m      7\u001b[0m fig\u001b[38;5;241m.\u001b[39msavefig(\u001b[38;5;124m'\u001b[39m\u001b[38;5;124marvore_estrutura.png\u001b[39m\u001b[38;5;124m'\u001b[39m)\n",
      "File \u001b[1;32m~\\anaconda3\\lib\\site-packages\\sklearn\\tree\\_export.py:195\u001b[0m, in \u001b[0;36mplot_tree\u001b[1;34m(decision_tree, max_depth, feature_names, class_names, label, filled, impurity, node_ids, proportion, rounded, precision, ax, fontsize)\u001b[0m\n\u001b[0;32m    180\u001b[0m check_is_fitted(decision_tree)\n\u001b[0;32m    182\u001b[0m exporter \u001b[38;5;241m=\u001b[39m _MPLTreeExporter(\n\u001b[0;32m    183\u001b[0m     max_depth\u001b[38;5;241m=\u001b[39mmax_depth,\n\u001b[0;32m    184\u001b[0m     feature_names\u001b[38;5;241m=\u001b[39mfeature_names,\n\u001b[1;32m   (...)\u001b[0m\n\u001b[0;32m    193\u001b[0m     fontsize\u001b[38;5;241m=\u001b[39mfontsize,\n\u001b[0;32m    194\u001b[0m )\n\u001b[1;32m--> 195\u001b[0m \u001b[38;5;28;01mreturn\u001b[39;00m \u001b[43mexporter\u001b[49m\u001b[38;5;241;43m.\u001b[39;49m\u001b[43mexport\u001b[49m\u001b[43m(\u001b[49m\u001b[43mdecision_tree\u001b[49m\u001b[43m,\u001b[49m\u001b[43m \u001b[49m\u001b[43max\u001b[49m\u001b[38;5;241;43m=\u001b[39;49m\u001b[43max\u001b[49m\u001b[43m)\u001b[49m\n",
      "File \u001b[1;32m~\\anaconda3\\lib\\site-packages\\sklearn\\tree\\_export.py:656\u001b[0m, in \u001b[0;36m_MPLTreeExporter.export\u001b[1;34m(self, decision_tree, ax)\u001b[0m\n\u001b[0;32m    654\u001b[0m ax\u001b[38;5;241m.\u001b[39mclear()\n\u001b[0;32m    655\u001b[0m ax\u001b[38;5;241m.\u001b[39mset_axis_off()\n\u001b[1;32m--> 656\u001b[0m my_tree \u001b[38;5;241m=\u001b[39m \u001b[38;5;28;43mself\u001b[39;49m\u001b[38;5;241;43m.\u001b[39;49m\u001b[43m_make_tree\u001b[49m\u001b[43m(\u001b[49m\u001b[38;5;241;43m0\u001b[39;49m\u001b[43m,\u001b[49m\u001b[43m \u001b[49m\u001b[43mdecision_tree\u001b[49m\u001b[38;5;241;43m.\u001b[39;49m\u001b[43mtree_\u001b[49m\u001b[43m,\u001b[49m\u001b[43m \u001b[49m\u001b[43mdecision_tree\u001b[49m\u001b[38;5;241;43m.\u001b[39;49m\u001b[43mcriterion\u001b[49m\u001b[43m)\u001b[49m\n\u001b[0;32m    657\u001b[0m draw_tree \u001b[38;5;241m=\u001b[39m buchheim(my_tree)\n\u001b[0;32m    659\u001b[0m \u001b[38;5;66;03m# important to make sure we're still\u001b[39;00m\n\u001b[0;32m    660\u001b[0m \u001b[38;5;66;03m# inside the axis after drawing the box\u001b[39;00m\n\u001b[0;32m    661\u001b[0m \u001b[38;5;66;03m# this makes sense because the width of a box\u001b[39;00m\n\u001b[0;32m    662\u001b[0m \u001b[38;5;66;03m# is about the same as the distance between boxes\u001b[39;00m\n",
      "File \u001b[1;32m~\\anaconda3\\lib\\site-packages\\sklearn\\tree\\_export.py:637\u001b[0m, in \u001b[0;36m_MPLTreeExporter._make_tree\u001b[1;34m(self, node_id, et, criterion, depth)\u001b[0m\n\u001b[0;32m    632\u001b[0m name \u001b[38;5;241m=\u001b[39m \u001b[38;5;28mself\u001b[39m\u001b[38;5;241m.\u001b[39mnode_to_str(et, node_id, criterion\u001b[38;5;241m=\u001b[39mcriterion)\n\u001b[0;32m    633\u001b[0m \u001b[38;5;28;01mif\u001b[39;00m et\u001b[38;5;241m.\u001b[39mchildren_left[node_id] \u001b[38;5;241m!=\u001b[39m _tree\u001b[38;5;241m.\u001b[39mTREE_LEAF \u001b[38;5;129;01mand\u001b[39;00m (\n\u001b[0;32m    634\u001b[0m     \u001b[38;5;28mself\u001b[39m\u001b[38;5;241m.\u001b[39mmax_depth \u001b[38;5;129;01mis\u001b[39;00m \u001b[38;5;28;01mNone\u001b[39;00m \u001b[38;5;129;01mor\u001b[39;00m depth \u001b[38;5;241m<\u001b[39m\u001b[38;5;241m=\u001b[39m \u001b[38;5;28mself\u001b[39m\u001b[38;5;241m.\u001b[39mmax_depth\n\u001b[0;32m    635\u001b[0m ):\n\u001b[0;32m    636\u001b[0m     children \u001b[38;5;241m=\u001b[39m [\n\u001b[1;32m--> 637\u001b[0m         \u001b[38;5;28;43mself\u001b[39;49m\u001b[38;5;241;43m.\u001b[39;49m\u001b[43m_make_tree\u001b[49m\u001b[43m(\u001b[49m\n\u001b[0;32m    638\u001b[0m \u001b[43m            \u001b[49m\u001b[43met\u001b[49m\u001b[38;5;241;43m.\u001b[39;49m\u001b[43mchildren_left\u001b[49m\u001b[43m[\u001b[49m\u001b[43mnode_id\u001b[49m\u001b[43m]\u001b[49m\u001b[43m,\u001b[49m\u001b[43m \u001b[49m\u001b[43met\u001b[49m\u001b[43m,\u001b[49m\u001b[43m \u001b[49m\u001b[43mcriterion\u001b[49m\u001b[43m,\u001b[49m\u001b[43m \u001b[49m\u001b[43mdepth\u001b[49m\u001b[38;5;241;43m=\u001b[39;49m\u001b[43mdepth\u001b[49m\u001b[43m \u001b[49m\u001b[38;5;241;43m+\u001b[39;49m\u001b[43m \u001b[49m\u001b[38;5;241;43m1\u001b[39;49m\n\u001b[0;32m    639\u001b[0m \u001b[43m        \u001b[49m\u001b[43m)\u001b[49m,\n\u001b[0;32m    640\u001b[0m         \u001b[38;5;28mself\u001b[39m\u001b[38;5;241m.\u001b[39m_make_tree(\n\u001b[0;32m    641\u001b[0m             et\u001b[38;5;241m.\u001b[39mchildren_right[node_id], et, criterion, depth\u001b[38;5;241m=\u001b[39mdepth \u001b[38;5;241m+\u001b[39m \u001b[38;5;241m1\u001b[39m\n\u001b[0;32m    642\u001b[0m         ),\n\u001b[0;32m    643\u001b[0m     ]\n\u001b[0;32m    644\u001b[0m \u001b[38;5;28;01melse\u001b[39;00m:\n\u001b[0;32m    645\u001b[0m     \u001b[38;5;28;01mreturn\u001b[39;00m Tree(name, node_id)\n",
      "File \u001b[1;32m~\\anaconda3\\lib\\site-packages\\sklearn\\tree\\_export.py:637\u001b[0m, in \u001b[0;36m_MPLTreeExporter._make_tree\u001b[1;34m(self, node_id, et, criterion, depth)\u001b[0m\n\u001b[0;32m    632\u001b[0m name \u001b[38;5;241m=\u001b[39m \u001b[38;5;28mself\u001b[39m\u001b[38;5;241m.\u001b[39mnode_to_str(et, node_id, criterion\u001b[38;5;241m=\u001b[39mcriterion)\n\u001b[0;32m    633\u001b[0m \u001b[38;5;28;01mif\u001b[39;00m et\u001b[38;5;241m.\u001b[39mchildren_left[node_id] \u001b[38;5;241m!=\u001b[39m _tree\u001b[38;5;241m.\u001b[39mTREE_LEAF \u001b[38;5;129;01mand\u001b[39;00m (\n\u001b[0;32m    634\u001b[0m     \u001b[38;5;28mself\u001b[39m\u001b[38;5;241m.\u001b[39mmax_depth \u001b[38;5;129;01mis\u001b[39;00m \u001b[38;5;28;01mNone\u001b[39;00m \u001b[38;5;129;01mor\u001b[39;00m depth \u001b[38;5;241m<\u001b[39m\u001b[38;5;241m=\u001b[39m \u001b[38;5;28mself\u001b[39m\u001b[38;5;241m.\u001b[39mmax_depth\n\u001b[0;32m    635\u001b[0m ):\n\u001b[0;32m    636\u001b[0m     children \u001b[38;5;241m=\u001b[39m [\n\u001b[1;32m--> 637\u001b[0m         \u001b[38;5;28;43mself\u001b[39;49m\u001b[38;5;241;43m.\u001b[39;49m\u001b[43m_make_tree\u001b[49m\u001b[43m(\u001b[49m\n\u001b[0;32m    638\u001b[0m \u001b[43m            \u001b[49m\u001b[43met\u001b[49m\u001b[38;5;241;43m.\u001b[39;49m\u001b[43mchildren_left\u001b[49m\u001b[43m[\u001b[49m\u001b[43mnode_id\u001b[49m\u001b[43m]\u001b[49m\u001b[43m,\u001b[49m\u001b[43m \u001b[49m\u001b[43met\u001b[49m\u001b[43m,\u001b[49m\u001b[43m \u001b[49m\u001b[43mcriterion\u001b[49m\u001b[43m,\u001b[49m\u001b[43m \u001b[49m\u001b[43mdepth\u001b[49m\u001b[38;5;241;43m=\u001b[39;49m\u001b[43mdepth\u001b[49m\u001b[43m \u001b[49m\u001b[38;5;241;43m+\u001b[39;49m\u001b[43m \u001b[49m\u001b[38;5;241;43m1\u001b[39;49m\n\u001b[0;32m    639\u001b[0m \u001b[43m        \u001b[49m\u001b[43m)\u001b[49m,\n\u001b[0;32m    640\u001b[0m         \u001b[38;5;28mself\u001b[39m\u001b[38;5;241m.\u001b[39m_make_tree(\n\u001b[0;32m    641\u001b[0m             et\u001b[38;5;241m.\u001b[39mchildren_right[node_id], et, criterion, depth\u001b[38;5;241m=\u001b[39mdepth \u001b[38;5;241m+\u001b[39m \u001b[38;5;241m1\u001b[39m\n\u001b[0;32m    642\u001b[0m         ),\n\u001b[0;32m    643\u001b[0m     ]\n\u001b[0;32m    644\u001b[0m \u001b[38;5;28;01melse\u001b[39;00m:\n\u001b[0;32m    645\u001b[0m     \u001b[38;5;28;01mreturn\u001b[39;00m Tree(name, node_id)\n",
      "    \u001b[1;31m[... skipping similar frames: _MPLTreeExporter._make_tree at line 637 (2 times)]\u001b[0m\n",
      "File \u001b[1;32m~\\anaconda3\\lib\\site-packages\\sklearn\\tree\\_export.py:637\u001b[0m, in \u001b[0;36m_MPLTreeExporter._make_tree\u001b[1;34m(self, node_id, et, criterion, depth)\u001b[0m\n\u001b[0;32m    632\u001b[0m name \u001b[38;5;241m=\u001b[39m \u001b[38;5;28mself\u001b[39m\u001b[38;5;241m.\u001b[39mnode_to_str(et, node_id, criterion\u001b[38;5;241m=\u001b[39mcriterion)\n\u001b[0;32m    633\u001b[0m \u001b[38;5;28;01mif\u001b[39;00m et\u001b[38;5;241m.\u001b[39mchildren_left[node_id] \u001b[38;5;241m!=\u001b[39m _tree\u001b[38;5;241m.\u001b[39mTREE_LEAF \u001b[38;5;129;01mand\u001b[39;00m (\n\u001b[0;32m    634\u001b[0m     \u001b[38;5;28mself\u001b[39m\u001b[38;5;241m.\u001b[39mmax_depth \u001b[38;5;129;01mis\u001b[39;00m \u001b[38;5;28;01mNone\u001b[39;00m \u001b[38;5;129;01mor\u001b[39;00m depth \u001b[38;5;241m<\u001b[39m\u001b[38;5;241m=\u001b[39m \u001b[38;5;28mself\u001b[39m\u001b[38;5;241m.\u001b[39mmax_depth\n\u001b[0;32m    635\u001b[0m ):\n\u001b[0;32m    636\u001b[0m     children \u001b[38;5;241m=\u001b[39m [\n\u001b[1;32m--> 637\u001b[0m         \u001b[38;5;28;43mself\u001b[39;49m\u001b[38;5;241;43m.\u001b[39;49m\u001b[43m_make_tree\u001b[49m\u001b[43m(\u001b[49m\n\u001b[0;32m    638\u001b[0m \u001b[43m            \u001b[49m\u001b[43met\u001b[49m\u001b[38;5;241;43m.\u001b[39;49m\u001b[43mchildren_left\u001b[49m\u001b[43m[\u001b[49m\u001b[43mnode_id\u001b[49m\u001b[43m]\u001b[49m\u001b[43m,\u001b[49m\u001b[43m \u001b[49m\u001b[43met\u001b[49m\u001b[43m,\u001b[49m\u001b[43m \u001b[49m\u001b[43mcriterion\u001b[49m\u001b[43m,\u001b[49m\u001b[43m \u001b[49m\u001b[43mdepth\u001b[49m\u001b[38;5;241;43m=\u001b[39;49m\u001b[43mdepth\u001b[49m\u001b[43m \u001b[49m\u001b[38;5;241;43m+\u001b[39;49m\u001b[43m \u001b[49m\u001b[38;5;241;43m1\u001b[39;49m\n\u001b[0;32m    639\u001b[0m \u001b[43m        \u001b[49m\u001b[43m)\u001b[49m,\n\u001b[0;32m    640\u001b[0m         \u001b[38;5;28mself\u001b[39m\u001b[38;5;241m.\u001b[39m_make_tree(\n\u001b[0;32m    641\u001b[0m             et\u001b[38;5;241m.\u001b[39mchildren_right[node_id], et, criterion, depth\u001b[38;5;241m=\u001b[39mdepth \u001b[38;5;241m+\u001b[39m \u001b[38;5;241m1\u001b[39m\n\u001b[0;32m    642\u001b[0m         ),\n\u001b[0;32m    643\u001b[0m     ]\n\u001b[0;32m    644\u001b[0m \u001b[38;5;28;01melse\u001b[39;00m:\n\u001b[0;32m    645\u001b[0m     \u001b[38;5;28;01mreturn\u001b[39;00m Tree(name, node_id)\n",
      "File \u001b[1;32m~\\anaconda3\\lib\\site-packages\\sklearn\\tree\\_export.py:640\u001b[0m, in \u001b[0;36m_MPLTreeExporter._make_tree\u001b[1;34m(self, node_id, et, criterion, depth)\u001b[0m\n\u001b[0;32m    632\u001b[0m name \u001b[38;5;241m=\u001b[39m \u001b[38;5;28mself\u001b[39m\u001b[38;5;241m.\u001b[39mnode_to_str(et, node_id, criterion\u001b[38;5;241m=\u001b[39mcriterion)\n\u001b[0;32m    633\u001b[0m \u001b[38;5;28;01mif\u001b[39;00m et\u001b[38;5;241m.\u001b[39mchildren_left[node_id] \u001b[38;5;241m!=\u001b[39m _tree\u001b[38;5;241m.\u001b[39mTREE_LEAF \u001b[38;5;129;01mand\u001b[39;00m (\n\u001b[0;32m    634\u001b[0m     \u001b[38;5;28mself\u001b[39m\u001b[38;5;241m.\u001b[39mmax_depth \u001b[38;5;129;01mis\u001b[39;00m \u001b[38;5;28;01mNone\u001b[39;00m \u001b[38;5;129;01mor\u001b[39;00m depth \u001b[38;5;241m<\u001b[39m\u001b[38;5;241m=\u001b[39m \u001b[38;5;28mself\u001b[39m\u001b[38;5;241m.\u001b[39mmax_depth\n\u001b[0;32m    635\u001b[0m ):\n\u001b[0;32m    636\u001b[0m     children \u001b[38;5;241m=\u001b[39m [\n\u001b[0;32m    637\u001b[0m         \u001b[38;5;28mself\u001b[39m\u001b[38;5;241m.\u001b[39m_make_tree(\n\u001b[0;32m    638\u001b[0m             et\u001b[38;5;241m.\u001b[39mchildren_left[node_id], et, criterion, depth\u001b[38;5;241m=\u001b[39mdepth \u001b[38;5;241m+\u001b[39m \u001b[38;5;241m1\u001b[39m\n\u001b[0;32m    639\u001b[0m         ),\n\u001b[1;32m--> 640\u001b[0m         \u001b[38;5;28;43mself\u001b[39;49m\u001b[38;5;241;43m.\u001b[39;49m\u001b[43m_make_tree\u001b[49m\u001b[43m(\u001b[49m\n\u001b[0;32m    641\u001b[0m \u001b[43m            \u001b[49m\u001b[43met\u001b[49m\u001b[38;5;241;43m.\u001b[39;49m\u001b[43mchildren_right\u001b[49m\u001b[43m[\u001b[49m\u001b[43mnode_id\u001b[49m\u001b[43m]\u001b[49m\u001b[43m,\u001b[49m\u001b[43m \u001b[49m\u001b[43met\u001b[49m\u001b[43m,\u001b[49m\u001b[43m \u001b[49m\u001b[43mcriterion\u001b[49m\u001b[43m,\u001b[49m\u001b[43m \u001b[49m\u001b[43mdepth\u001b[49m\u001b[38;5;241;43m=\u001b[39;49m\u001b[43mdepth\u001b[49m\u001b[43m \u001b[49m\u001b[38;5;241;43m+\u001b[39;49m\u001b[43m \u001b[49m\u001b[38;5;241;43m1\u001b[39;49m\n\u001b[0;32m    642\u001b[0m \u001b[43m        \u001b[49m\u001b[43m)\u001b[49m,\n\u001b[0;32m    643\u001b[0m     ]\n\u001b[0;32m    644\u001b[0m \u001b[38;5;28;01melse\u001b[39;00m:\n\u001b[0;32m    645\u001b[0m     \u001b[38;5;28;01mreturn\u001b[39;00m Tree(name, node_id)\n",
      "File \u001b[1;32m~\\anaconda3\\lib\\site-packages\\sklearn\\tree\\_export.py:632\u001b[0m, in \u001b[0;36m_MPLTreeExporter._make_tree\u001b[1;34m(self, node_id, et, criterion, depth)\u001b[0m\n\u001b[0;32m    629\u001b[0m \u001b[38;5;28;01mdef\u001b[39;00m \u001b[38;5;21m_make_tree\u001b[39m(\u001b[38;5;28mself\u001b[39m, node_id, et, criterion, depth\u001b[38;5;241m=\u001b[39m\u001b[38;5;241m0\u001b[39m):\n\u001b[0;32m    630\u001b[0m     \u001b[38;5;66;03m# traverses _tree.Tree recursively, builds intermediate\u001b[39;00m\n\u001b[0;32m    631\u001b[0m     \u001b[38;5;66;03m# \"_reingold_tilford.Tree\" object\u001b[39;00m\n\u001b[1;32m--> 632\u001b[0m     name \u001b[38;5;241m=\u001b[39m \u001b[38;5;28;43mself\u001b[39;49m\u001b[38;5;241;43m.\u001b[39;49m\u001b[43mnode_to_str\u001b[49m\u001b[43m(\u001b[49m\u001b[43met\u001b[49m\u001b[43m,\u001b[49m\u001b[43m \u001b[49m\u001b[43mnode_id\u001b[49m\u001b[43m,\u001b[49m\u001b[43m \u001b[49m\u001b[43mcriterion\u001b[49m\u001b[38;5;241;43m=\u001b[39;49m\u001b[43mcriterion\u001b[49m\u001b[43m)\u001b[49m\n\u001b[0;32m    633\u001b[0m     \u001b[38;5;28;01mif\u001b[39;00m et\u001b[38;5;241m.\u001b[39mchildren_left[node_id] \u001b[38;5;241m!=\u001b[39m _tree\u001b[38;5;241m.\u001b[39mTREE_LEAF \u001b[38;5;129;01mand\u001b[39;00m (\n\u001b[0;32m    634\u001b[0m         \u001b[38;5;28mself\u001b[39m\u001b[38;5;241m.\u001b[39mmax_depth \u001b[38;5;129;01mis\u001b[39;00m \u001b[38;5;28;01mNone\u001b[39;00m \u001b[38;5;129;01mor\u001b[39;00m depth \u001b[38;5;241m<\u001b[39m\u001b[38;5;241m=\u001b[39m \u001b[38;5;28mself\u001b[39m\u001b[38;5;241m.\u001b[39mmax_depth\n\u001b[0;32m    635\u001b[0m     ):\n\u001b[0;32m    636\u001b[0m         children \u001b[38;5;241m=\u001b[39m [\n\u001b[0;32m    637\u001b[0m             \u001b[38;5;28mself\u001b[39m\u001b[38;5;241m.\u001b[39m_make_tree(\n\u001b[0;32m    638\u001b[0m                 et\u001b[38;5;241m.\u001b[39mchildren_left[node_id], et, criterion, depth\u001b[38;5;241m=\u001b[39mdepth \u001b[38;5;241m+\u001b[39m \u001b[38;5;241m1\u001b[39m\n\u001b[1;32m   (...)\u001b[0m\n\u001b[0;32m    642\u001b[0m             ),\n\u001b[0;32m    643\u001b[0m         ]\n",
      "File \u001b[1;32m~\\anaconda3\\lib\\site-packages\\sklearn\\tree\\_export.py:292\u001b[0m, in \u001b[0;36m_BaseTreeExporter.node_to_str\u001b[1;34m(self, tree, node_id, criterion)\u001b[0m\n\u001b[0;32m    289\u001b[0m \u001b[38;5;28;01mif\u001b[39;00m tree\u001b[38;5;241m.\u001b[39mchildren_left[node_id] \u001b[38;5;241m!=\u001b[39m _tree\u001b[38;5;241m.\u001b[39mTREE_LEAF:\n\u001b[0;32m    290\u001b[0m     \u001b[38;5;66;03m# Always write node decision criteria, except for leaves\u001b[39;00m\n\u001b[0;32m    291\u001b[0m     \u001b[38;5;28;01mif\u001b[39;00m \u001b[38;5;28mself\u001b[39m\u001b[38;5;241m.\u001b[39mfeature_names \u001b[38;5;129;01mis\u001b[39;00m \u001b[38;5;129;01mnot\u001b[39;00m \u001b[38;5;28;01mNone\u001b[39;00m:\n\u001b[1;32m--> 292\u001b[0m         feature \u001b[38;5;241m=\u001b[39m \u001b[38;5;28;43mself\u001b[39;49m\u001b[38;5;241;43m.\u001b[39;49m\u001b[43mfeature_names\u001b[49m\u001b[43m[\u001b[49m\u001b[43mtree\u001b[49m\u001b[38;5;241;43m.\u001b[39;49m\u001b[43mfeature\u001b[49m\u001b[43m[\u001b[49m\u001b[43mnode_id\u001b[49m\u001b[43m]\u001b[49m\u001b[43m]\u001b[49m\n\u001b[0;32m    293\u001b[0m     \u001b[38;5;28;01melse\u001b[39;00m:\n\u001b[0;32m    294\u001b[0m         feature \u001b[38;5;241m=\u001b[39m \u001b[38;5;124m\"\u001b[39m\u001b[38;5;124mX\u001b[39m\u001b[38;5;132;01m%s\u001b[39;00m\u001b[38;5;132;01m%s\u001b[39;00m\u001b[38;5;132;01m%s\u001b[39;00m\u001b[38;5;124m\"\u001b[39m \u001b[38;5;241m%\u001b[39m (\n\u001b[0;32m    295\u001b[0m             characters[\u001b[38;5;241m1\u001b[39m],\n\u001b[0;32m    296\u001b[0m             tree\u001b[38;5;241m.\u001b[39mfeature[node_id],\n\u001b[0;32m    297\u001b[0m             characters[\u001b[38;5;241m2\u001b[39m],\n\u001b[0;32m    298\u001b[0m         )\n",
      "\u001b[1;31mIndexError\u001b[0m: list index out of range"
     ]
    },
    {
     "data": {
      "image/png": "[encoded data removed]",
      "text/plain": [
       "<Figure size 2000x2000 with 1 Axes>"
      ]
     },
     "metadata": {},
     "output_type": "display_data"
    }
   ],
   "source": [
    "from sklearn import tree\n",
    "previsores = [\"Profissão\", \"Sexo\", \"Segmento\", \"Perfil\", \"Fez Segundo Aporte?\", \"Idade\",\n",
    "              \"Status\", \"Operou Bolsa?\", \"Aplicação Financeira Declarada\", \"Captação Líquida em M\", \n",
    "              \"Net em M-1\", \"Net Em M\", \"Net Fundos Imobiliários\", \"Net Renda Variável\", \"Net Financeiro\"]\n",
    "fig, axes = plt.subplots(nrows=1, ncols=1, figsize=(20, 20))\n",
    "tree.plot_tree(arvore_estrutura, feature_names=previsores, class_names=str(arvore_estrutura.classes_), filled=True);\n",
    "fig.savefig('arvore_estrutura.png')"
   ]
  },
  {
   "cell_type": "code",
   "execution_count": 169,
   "id": "8ce8ee1a",
   "metadata": {},
   "outputs": [],
   "source": [
    "# Random Forest\n",
    "from sklearn.ensemble import RandomForestClassifier"
   ]
  },
  {
   "cell_type": "code",
   "execution_count": 170,
   "id": "9f75ffdf",
   "metadata": {},
   "outputs": [
    {
     "data": {
      "text/html": [
       "<style>#sk-container-id-25 {color: black;background-color: white;}#sk-container-id-25 pre{padding: 0;}#sk-container-id-25 div.sk-toggleable {background-color: white;}#sk-container-id-25 label.sk-toggleable__label {cursor: pointer;display: block;width: 100%;margin-bottom: 0;padding: 0.3em;box-sizing: border-box;text-align: center;}#sk-container-id-25 label.sk-toggleable__label-arrow:before {content: \"▸\";float: left;margin-right: 0.25em;color: #696969;}#sk-container-id-25 label.sk-toggleable__label-arrow:hover:before {color: black;}#sk-container-id-25 div.sk-estimator:hover label.sk-toggleable__label-arrow:before {color: black;}#sk-container-id-25 div.sk-toggleable__content {max-height: 0;max-width: 0;overflow: hidden;text-align: left;background-color: #f0f8ff;}#sk-container-id-25 div.sk-toggleable__content pre {margin: 0.2em;color: black;border-radius: 0.25em;background-color: #f0f8ff;}#sk-container-id-25 input.sk-toggleable__control:checked~div.sk-toggleable__content {max-height: 200px;max-width: 100%;overflow: auto;}#sk-container-id-25 input.sk-toggleable__control:checked~label.sk-toggleable__label-arrow:before {content: \"▾\";}#sk-container-id-25 div.sk-estimator input.sk-toggleable__control:checked~label.sk-toggleable__label {background-color: #d4ebff;}#sk-container-id-25 div.sk-label input.sk-toggleable__control:checked~label.sk-toggleable__label {background-color: #d4ebff;}#sk-container-id-25 input.sk-hidden--visually {border: 0;clip: rect(1px 1px 1px 1px);clip: rect(1px, 1px, 1px, 1px);height: 1px;margin: -1px;overflow: hidden;padding: 0;position: absolute;width: 1px;}#sk-container-id-25 div.sk-estimator {font-family: monospace;background-color: #f0f8ff;border: 1px dotted black;border-radius: 0.25em;box-sizing: border-box;margin-bottom: 0.5em;}#sk-container-id-25 div.sk-estimator:hover {background-color: #d4ebff;}#sk-container-id-25 div.sk-parallel-item::after {content: \"\";width: 100%;border-bottom: 1px solid gray;flex-grow: 1;}#sk-container-id-25 div.sk-label:hover label.sk-toggleable__label {background-color: #d4ebff;}#sk-container-id-25 div.sk-serial::before {content: \"\";position: absolute;border-left: 1px solid gray;box-sizing: border-box;top: 0;bottom: 0;left: 50%;z-index: 0;}#sk-container-id-25 div.sk-serial {display: flex;flex-direction: column;align-items: center;background-color: white;padding-right: 0.2em;padding-left: 0.2em;position: relative;}#sk-container-id-25 div.sk-item {position: relative;z-index: 1;}#sk-container-id-25 div.sk-parallel {display: flex;align-items: stretch;justify-content: center;background-color: white;position: relative;}#sk-container-id-25 div.sk-item::before, #sk-container-id-25 div.sk-parallel-item::before {content: \"\";position: absolute;border-left: 1px solid gray;box-sizing: border-box;top: 0;bottom: 0;left: 50%;z-index: -1;}#sk-container-id-25 div.sk-parallel-item {display: flex;flex-direction: column;z-index: 1;position: relative;background-color: white;}#sk-container-id-25 div.sk-parallel-item:first-child::after {align-self: flex-end;width: 50%;}#sk-container-id-25 div.sk-parallel-item:last-child::after {align-self: flex-start;width: 50%;}#sk-container-id-25 div.sk-parallel-item:only-child::after {width: 0;}#sk-container-id-25 div.sk-dashed-wrapped {border: 1px dashed gray;margin: 0 0.4em 0.5em 0.4em;box-sizing: border-box;padding-bottom: 0.4em;background-color: white;}#sk-container-id-25 div.sk-label label {font-family: monospace;font-weight: bold;display: inline-block;line-height: 1.2em;}#sk-container-id-25 div.sk-label-container {text-align: center;}#sk-container-id-25 div.sk-container {/* jupyter's `normalize.less` sets `[hidden] { display: none; }` but bootstrap.min.css set `[hidden] { display: none !important; }` so we also need the `!important` here to be able to override the default hidden behavior on the sphinx rendered scikit-learn.org. See: https://github.com/scikit-learn/scikit-learn/issues/21755 */display: inline-block !important;position: relative;}#sk-container-id-25 div.sk-text-repr-fallback {display: none;}</style><div id=\"sk-container-id-25\" class=\"sk-top-container\"><div class=\"sk-text-repr-fallback\"><pre>RandomForestClassifier(criterion=&#x27;entropy&#x27;, n_estimators=50, random_state=0)</pre><b>In a Jupyter environment, please rerun this cell to show the HTML representation or trust the notebook. <br />On GitHub, the HTML representation is unable to render, please try loading this page with nbviewer.org.</b></div><div class=\"sk-container\" hidden><div class=\"sk-item\"><div class=\"sk-estimator sk-toggleable\"><input class=\"sk-toggleable__control sk-hidden--visually\" id=\"sk-estimator-id-25\" type=\"checkbox\" checked><label for=\"sk-estimator-id-25\" class=\"sk-toggleable__label sk-toggleable__label-arrow\">RandomForestClassifier</label><div class=\"sk-toggleable__content\"><pre>RandomForestClassifier(criterion=&#x27;entropy&#x27;, n_estimators=50, random_state=0)</pre></div></div></div></div></div>"
      ],
      "text/plain": [
       "RandomForestClassifier(criterion='entropy', n_estimators=50, random_state=0)"
      ]
     },
     "execution_count": 170,
     "metadata": {},
     "output_type": "execute_result"
    }
   ],
   "source": [
    "random_forest_estrutura = RandomForestClassifier(n_estimators=50, criterion=\"entropy\", random_state=0)\n",
    "random_forest_estrutura.fit(x_estruturas_treining, y_estruturas_treining)"
   ]
  },
  {
   "cell_type": "code",
   "execution_count": 171,
   "id": "8f2ea131",
   "metadata": {},
   "outputs": [
    {
     "data": {
      "text/plain": [
       "array([0, 0, 0, 1, 1, 0, 0, 0, 1, 0, 1, 0, 0, 0, 0, 1, 0, 1, 1, 0, 1, 0,\n",
       "       0, 1, 0, 1, 1, 1, 0, 0, 0, 0, 1, 0, 1, 0, 1, 0, 1, 1, 0, 1, 0, 1,\n",
       "       0, 1, 0, 0, 0, 0, 0, 0, 1, 1, 0, 1, 1, 1, 1, 0, 1, 1, 0, 0, 0, 0,\n",
       "       0, 0, 0, 0, 0, 0, 1, 0, 0, 0, 0, 0, 0, 1, 0, 1, 0, 0, 1, 0, 1, 0,\n",
       "       1, 0, 1, 1, 0, 0, 1, 0, 0, 0, 0, 0, 0, 0, 0, 0, 0, 0, 0, 0, 0, 0,\n",
       "       0, 1, 0, 1, 0, 0, 1, 1, 0, 1, 0, 0, 0, 1, 0, 0, 0, 0, 0, 0, 0, 0,\n",
       "       0, 0, 0, 1, 0, 0, 1, 0, 0, 1, 0, 0, 0, 1, 0, 0, 1, 0, 0, 0, 1, 0,\n",
       "       1, 0, 0, 0, 0, 0, 1, 0, 1, 1, 0, 0, 0, 0, 0, 0, 0, 1, 1, 0, 0, 1,\n",
       "       1, 0, 1, 0, 0, 0, 1, 0, 1, 0, 0, 1, 0, 0, 0, 0, 0, 0, 0, 0, 0, 1,\n",
       "       0, 0, 0, 1, 0, 1, 0, 0, 0, 0, 0, 0, 0, 1, 0, 1, 0, 0, 0, 1, 0, 0,\n",
       "       0, 0, 0, 1, 0, 1, 0, 0, 1, 0, 0, 0, 0, 1, 1, 1, 1, 1, 0, 0, 0, 1,\n",
       "       0, 1, 0, 0, 0, 0, 0, 0, 1, 0, 0, 0, 0, 0, 0, 0, 0, 1, 0, 1, 0, 0,\n",
       "       0, 0, 0, 1, 1, 0, 0, 0, 0, 0, 0, 0, 0, 0, 1, 1, 1, 1, 0, 0, 0, 1,\n",
       "       1, 0, 0, 1, 0, 0, 1, 0, 0, 0, 0, 0, 0, 1, 1, 0, 0, 0, 0, 0, 0, 1,\n",
       "       1, 1, 0, 1, 0, 1, 0, 1, 0, 1, 0, 1, 0, 0, 0, 1, 0, 1, 0, 0, 1, 0,\n",
       "       0, 1, 1, 1, 0, 1, 0, 0, 1, 1, 0, 0, 1, 1, 0, 0, 0, 0, 0, 0, 0, 0,\n",
       "       0, 0, 0, 1, 1, 0, 0, 0, 0], dtype=int64)"
      ]
     },
     "execution_count": 171,
     "metadata": {},
     "output_type": "execute_result"
    }
   ],
   "source": [
    "previsoes = random_forest_estrutura.predict(x_estruturas_testing)\n",
    "previsoes"
   ]
  },
  {
   "cell_type": "code",
   "execution_count": 172,
   "id": "449d3a65",
   "metadata": {},
   "outputs": [
    {
     "data": {
      "text/plain": [
       "0.7202216066481995"
      ]
     },
     "execution_count": 172,
     "metadata": {},
     "output_type": "execute_result"
    }
   ],
   "source": [
    "accuracy_score(y_estruturas_testing, previsoes)"
   ]
  },
  {
   "cell_type": "code",
   "execution_count": 173,
   "id": "9c0482d2",
   "metadata": {},
   "outputs": [
    {
     "data": {
      "text/plain": [
       "0.7202216066481995"
      ]
     },
     "execution_count": 173,
     "metadata": {},
     "output_type": "execute_result"
    },
    {
     "data": {
      "image/png": "[encoded data removed]",
      "text/plain": [
       "<Figure size 800x550 with 1 Axes>"
      ]
     },
     "metadata": {},
     "output_type": "display_data"
    }
   ],
   "source": [
    "from yellowbrick.classifier import ConfusionMatrix\n",
    "cm = ConfusionMatrix(random_forest_estrutura)\n",
    "cm.fit(x_estruturas_treining, y_estruturas_treining)\n",
    "cm.score(x_estruturas_testing, y_estruturas_testing)"
   ]
  },
  {
   "cell_type": "code",
   "execution_count": 174,
   "id": "bc66181c",
   "metadata": {},
   "outputs": [],
   "source": [
    "# kNN\n",
    "from sklearn.neighbors import KNeighborsClassifier"
   ]
  },
  {
   "cell_type": "code",
   "execution_count": 175,
   "id": "a50b9307",
   "metadata": {},
   "outputs": [
    {
     "data": {
      "text/html": [
       "<style>#sk-container-id-26 {color: black;background-color: white;}#sk-container-id-26 pre{padding: 0;}#sk-container-id-26 div.sk-toggleable {background-color: white;}#sk-container-id-26 label.sk-toggleable__label {cursor: pointer;display: block;width: 100%;margin-bottom: 0;padding: 0.3em;box-sizing: border-box;text-align: center;}#sk-container-id-26 label.sk-toggleable__label-arrow:before {content: \"▸\";float: left;margin-right: 0.25em;color: #696969;}#sk-container-id-26 label.sk-toggleable__label-arrow:hover:before {color: black;}#sk-container-id-26 div.sk-estimator:hover label.sk-toggleable__label-arrow:before {color: black;}#sk-container-id-26 div.sk-toggleable__content {max-height: 0;max-width: 0;overflow: hidden;text-align: left;background-color: #f0f8ff;}#sk-container-id-26 div.sk-toggleable__content pre {margin: 0.2em;color: black;border-radius: 0.25em;background-color: #f0f8ff;}#sk-container-id-26 input.sk-toggleable__control:checked~div.sk-toggleable__content {max-height: 200px;max-width: 100%;overflow: auto;}#sk-container-id-26 input.sk-toggleable__control:checked~label.sk-toggleable__label-arrow:before {content: \"▾\";}#sk-container-id-26 div.sk-estimator input.sk-toggleable__control:checked~label.sk-toggleable__label {background-color: #d4ebff;}#sk-container-id-26 div.sk-label input.sk-toggleable__control:checked~label.sk-toggleable__label {background-color: #d4ebff;}#sk-container-id-26 input.sk-hidden--visually {border: 0;clip: rect(1px 1px 1px 1px);clip: rect(1px, 1px, 1px, 1px);height: 1px;margin: -1px;overflow: hidden;padding: 0;position: absolute;width: 1px;}#sk-container-id-26 div.sk-estimator {font-family: monospace;background-color: #f0f8ff;border: 1px dotted black;border-radius: 0.25em;box-sizing: border-box;margin-bottom: 0.5em;}#sk-container-id-26 div.sk-estimator:hover {background-color: #d4ebff;}#sk-container-id-26 div.sk-parallel-item::after {content: \"\";width: 100%;border-bottom: 1px solid gray;flex-grow: 1;}#sk-container-id-26 div.sk-label:hover label.sk-toggleable__label {background-color: #d4ebff;}#sk-container-id-26 div.sk-serial::before {content: \"\";position: absolute;border-left: 1px solid gray;box-sizing: border-box;top: 0;bottom: 0;left: 50%;z-index: 0;}#sk-container-id-26 div.sk-serial {display: flex;flex-direction: column;align-items: center;background-color: white;padding-right: 0.2em;padding-left: 0.2em;position: relative;}#sk-container-id-26 div.sk-item {position: relative;z-index: 1;}#sk-container-id-26 div.sk-parallel {display: flex;align-items: stretch;justify-content: center;background-color: white;position: relative;}#sk-container-id-26 div.sk-item::before, #sk-container-id-26 div.sk-parallel-item::before {content: \"\";position: absolute;border-left: 1px solid gray;box-sizing: border-box;top: 0;bottom: 0;left: 50%;z-index: -1;}#sk-container-id-26 div.sk-parallel-item {display: flex;flex-direction: column;z-index: 1;position: relative;background-color: white;}#sk-container-id-26 div.sk-parallel-item:first-child::after {align-self: flex-end;width: 50%;}#sk-container-id-26 div.sk-parallel-item:last-child::after {align-self: flex-start;width: 50%;}#sk-container-id-26 div.sk-parallel-item:only-child::after {width: 0;}#sk-container-id-26 div.sk-dashed-wrapped {border: 1px dashed gray;margin: 0 0.4em 0.5em 0.4em;box-sizing: border-box;padding-bottom: 0.4em;background-color: white;}#sk-container-id-26 div.sk-label label {font-family: monospace;font-weight: bold;display: inline-block;line-height: 1.2em;}#sk-container-id-26 div.sk-label-container {text-align: center;}#sk-container-id-26 div.sk-container {/* jupyter's `normalize.less` sets `[hidden] { display: none; }` but bootstrap.min.css set `[hidden] { display: none !important; }` so we also need the `!important` here to be able to override the default hidden behavior on the sphinx rendered scikit-learn.org. See: https://github.com/scikit-learn/scikit-learn/issues/21755 */display: inline-block !important;position: relative;}#sk-container-id-26 div.sk-text-repr-fallback {display: none;}</style><div id=\"sk-container-id-26\" class=\"sk-top-container\"><div class=\"sk-text-repr-fallback\"><pre>KNeighborsClassifier()</pre><b>In a Jupyter environment, please rerun this cell to show the HTML representation or trust the notebook. <br />On GitHub, the HTML representation is unable to render, please try loading this page with nbviewer.org.</b></div><div class=\"sk-container\" hidden><div class=\"sk-item\"><div class=\"sk-estimator sk-toggleable\"><input class=\"sk-toggleable__control sk-hidden--visually\" id=\"sk-estimator-id-26\" type=\"checkbox\" checked><label for=\"sk-estimator-id-26\" class=\"sk-toggleable__label sk-toggleable__label-arrow\">KNeighborsClassifier</label><div class=\"sk-toggleable__content\"><pre>KNeighborsClassifier()</pre></div></div></div></div></div>"
      ],
      "text/plain": [
       "KNeighborsClassifier()"
      ]
     },
     "execution_count": 175,
     "metadata": {},
     "output_type": "execute_result"
    }
   ],
   "source": [
    "knn_estrutura = KNeighborsClassifier(n_neighbors=5, metric='minkowski', p=2)\n",
    "knn_estrutura.fit(x_estruturas_treining, y_estruturas_treining)\n"
   ]
  },
  {
   "cell_type": "code",
   "execution_count": 176,
   "id": "d9b06955",
   "metadata": {},
   "outputs": [
    {
     "data": {
      "text/plain": [
       "array([0, 1, 0, 1, 1, 0, 0, 1, 1, 0, 1, 0, 0, 0, 0, 1, 0, 1, 0, 0, 1, 0,\n",
       "       0, 0, 1, 0, 1, 1, 0, 0, 1, 0, 1, 0, 1, 0, 1, 1, 1, 0, 0, 0, 1, 1,\n",
       "       0, 1, 0, 0, 0, 1, 0, 1, 0, 1, 0, 1, 0, 1, 1, 0, 1, 1, 0, 1, 0, 0,\n",
       "       0, 0, 0, 0, 1, 1, 1, 0, 0, 0, 0, 1, 0, 1, 0, 1, 0, 0, 1, 0, 1, 0,\n",
       "       1, 1, 1, 0, 0, 0, 1, 0, 0, 0, 0, 0, 0, 1, 0, 1, 1, 1, 0, 1, 0, 0,\n",
       "       0, 1, 0, 1, 0, 0, 1, 1, 1, 1, 1, 0, 0, 1, 0, 0, 0, 1, 0, 0, 0, 0,\n",
       "       0, 1, 1, 1, 0, 0, 0, 0, 1, 0, 0, 0, 0, 1, 1, 0, 0, 1, 0, 1, 1, 1,\n",
       "       0, 0, 1, 0, 0, 0, 1, 0, 0, 1, 0, 0, 0, 0, 0, 0, 0, 0, 0, 0, 0, 1,\n",
       "       1, 1, 1, 1, 1, 0, 1, 0, 0, 1, 0, 1, 0, 0, 1, 0, 0, 0, 0, 1, 0, 1,\n",
       "       1, 0, 0, 1, 0, 1, 1, 0, 0, 0, 0, 0, 0, 0, 0, 1, 1, 1, 1, 1, 0, 0,\n",
       "       0, 0, 1, 0, 0, 1, 1, 0, 1, 0, 0, 0, 0, 1, 1, 1, 1, 0, 0, 0, 0, 1,\n",
       "       0, 0, 0, 0, 0, 0, 0, 0, 1, 0, 0, 0, 0, 0, 0, 0, 1, 1, 0, 1, 0, 0,\n",
       "       0, 1, 0, 0, 1, 0, 0, 1, 0, 1, 1, 0, 0, 0, 1, 1, 0, 1, 0, 0, 0, 1,\n",
       "       1, 1, 1, 1, 0, 0, 0, 0, 0, 0, 0, 0, 0, 0, 0, 1, 1, 0, 0, 0, 0, 1,\n",
       "       1, 0, 0, 1, 0, 1, 1, 1, 0, 1, 0, 1, 0, 0, 1, 1, 0, 0, 1, 0, 1, 0,\n",
       "       0, 1, 1, 1, 0, 1, 0, 0, 0, 1, 0, 1, 1, 0, 0, 0, 0, 0, 0, 0, 0, 1,\n",
       "       1, 0, 0, 0, 0, 0, 0, 0, 1], dtype=int64)"
      ]
     },
     "execution_count": 176,
     "metadata": {},
     "output_type": "execute_result"
    }
   ],
   "source": [
    "previsoes = knn_estrutura.predict(x_estruturas_testing)\n",
    "previsoes"
   ]
  },
  {
   "cell_type": "code",
   "execution_count": 177,
   "id": "6d2f87a3",
   "metadata": {},
   "outputs": [
    {
     "data": {
      "text/plain": [
       "array([0, 0, 0, 1, 1, 0, 0, 0, 0, 0, 1, 0, 1, 0, 0, 0, 0, 1, 0, 1, 1, 0,\n",
       "       0, 0, 1, 1, 1, 1, 0, 0, 0, 0, 0, 0, 1, 0, 1, 1, 0, 1, 0, 0, 0, 1,\n",
       "       0, 0, 0, 0, 0, 0, 0, 1, 0, 1, 0, 0, 0, 1, 1, 1, 1, 1, 0, 0, 0, 0,\n",
       "       1, 0, 0, 1, 0, 1, 0, 0, 0, 0, 1, 0, 0, 1, 0, 1, 0, 1, 0, 0, 1, 0,\n",
       "       1, 0, 0, 1, 0, 0, 1, 0, 0, 0, 0, 0, 0, 1, 1, 0, 0, 1, 1, 0, 0, 1,\n",
       "       0, 1, 0, 1, 0, 0, 1, 0, 1, 1, 1, 1, 1, 1, 0, 0, 0, 1, 0, 0, 0, 1,\n",
       "       0, 0, 0, 0, 0, 0, 0, 0, 0, 1, 0, 0, 0, 0, 0, 0, 1, 0, 0, 0, 1, 0,\n",
       "       0, 1, 0, 0, 0, 1, 1, 1, 1, 0, 0, 1, 1, 1, 0, 0, 0, 1, 0, 0, 0, 0,\n",
       "       1, 0, 1, 1, 0, 0, 0, 0, 0, 1, 0, 0, 0, 0, 1, 1, 0, 0, 0, 0, 0, 0,\n",
       "       0, 0, 0, 1, 0, 0, 0, 1, 0, 0, 0, 0, 0, 1, 1, 1, 0, 1, 0, 0, 0, 0,\n",
       "       0, 1, 0, 0, 0, 1, 1, 0, 0, 1, 0, 1, 0, 1, 1, 1, 1, 1, 1, 0, 0, 0,\n",
       "       0, 1, 0, 1, 0, 1, 0, 0, 0, 1, 0, 0, 0, 0, 1, 0, 0, 1, 0, 1, 1, 0,\n",
       "       0, 0, 0, 0, 0, 0, 0, 0, 0, 1, 1, 0, 0, 0, 1, 0, 0, 1, 0, 0, 0, 0,\n",
       "       0, 0, 0, 1, 0, 0, 0, 0, 1, 0, 0, 0, 0, 1, 1, 1, 0, 0, 0, 1, 0, 1,\n",
       "       0, 1, 0, 1, 0, 0, 0, 1, 1, 0, 0, 1, 0, 0, 1, 1, 0, 1, 0, 0, 1, 0,\n",
       "       0, 1, 0, 1, 0, 1, 0, 0, 1, 0, 0, 1, 1, 1, 1, 0, 0, 0, 1, 0, 0, 0,\n",
       "       0, 0, 0, 0, 1, 0, 0, 0, 1], dtype=int64)"
      ]
     },
     "execution_count": 177,
     "metadata": {},
     "output_type": "execute_result"
    }
   ],
   "source": [
    "y_estruturas_testing"
   ]
  },
  {
   "cell_type": "code",
   "execution_count": 178,
   "id": "23093d41",
   "metadata": {},
   "outputs": [
    {
     "data": {
      "text/plain": [
       "0.6620498614958449"
      ]
     },
     "execution_count": 178,
     "metadata": {},
     "output_type": "execute_result"
    }
   ],
   "source": [
    "accuracy_score(y_estruturas_testing, previsoes)"
   ]
  },
  {
   "cell_type": "code",
   "execution_count": 179,
   "id": "85c10b46",
   "metadata": {},
   "outputs": [
    {
     "data": {
      "text/plain": [
       "0.6620498614958449"
      ]
     },
     "execution_count": 179,
     "metadata": {},
     "output_type": "execute_result"
    },
    {
     "data": {
      "image/png": "[encoded data removed]",
      "text/plain": [
       "<Figure size 800x550 with 1 Axes>"
      ]
     },
     "metadata": {},
     "output_type": "display_data"
    }
   ],
   "source": [
    "from yellowbrick.classifier import ConfusionMatrix\n",
    "cm = ConfusionMatrix(knn_estrutura)\n",
    "cm.fit(x_estruturas_treining, y_estruturas_treining)\n",
    "cm.score(x_estruturas_testing, y_estruturas_testing)"
   ]
  },
  {
   "cell_type": "code",
   "execution_count": 180,
   "id": "d404d631",
   "metadata": {},
   "outputs": [],
   "source": [
    "from sklearn.svm import SVC"
   ]
  },
  {
   "cell_type": "code",
   "execution_count": 181,
   "id": "8ff4e259",
   "metadata": {},
   "outputs": [
    {
     "data": {
      "text/html": [
       "<style>#sk-container-id-27 {color: black;background-color: white;}#sk-container-id-27 pre{padding: 0;}#sk-container-id-27 div.sk-toggleable {background-color: white;}#sk-container-id-27 label.sk-toggleable__label {cursor: pointer;display: block;width: 100%;margin-bottom: 0;padding: 0.3em;box-sizing: border-box;text-align: center;}#sk-container-id-27 label.sk-toggleable__label-arrow:before {content: \"▸\";float: left;margin-right: 0.25em;color: #696969;}#sk-container-id-27 label.sk-toggleable__label-arrow:hover:before {color: black;}#sk-container-id-27 div.sk-estimator:hover label.sk-toggleable__label-arrow:before {color: black;}#sk-container-id-27 div.sk-toggleable__content {max-height: 0;max-width: 0;overflow: hidden;text-align: left;background-color: #f0f8ff;}#sk-container-id-27 div.sk-toggleable__content pre {margin: 0.2em;color: black;border-radius: 0.25em;background-color: #f0f8ff;}#sk-container-id-27 input.sk-toggleable__control:checked~div.sk-toggleable__content {max-height: 200px;max-width: 100%;overflow: auto;}#sk-container-id-27 input.sk-toggleable__control:checked~label.sk-toggleable__label-arrow:before {content: \"▾\";}#sk-container-id-27 div.sk-estimator input.sk-toggleable__control:checked~label.sk-toggleable__label {background-color: #d4ebff;}#sk-container-id-27 div.sk-label input.sk-toggleable__control:checked~label.sk-toggleable__label {background-color: #d4ebff;}#sk-container-id-27 input.sk-hidden--visually {border: 0;clip: rect(1px 1px 1px 1px);clip: rect(1px, 1px, 1px, 1px);height: 1px;margin: -1px;overflow: hidden;padding: 0;position: absolute;width: 1px;}#sk-container-id-27 div.sk-estimator {font-family: monospace;background-color: #f0f8ff;border: 1px dotted black;border-radius: 0.25em;box-sizing: border-box;margin-bottom: 0.5em;}#sk-container-id-27 div.sk-estimator:hover {background-color: #d4ebff;}#sk-container-id-27 div.sk-parallel-item::after {content: \"\";width: 100%;border-bottom: 1px solid gray;flex-grow: 1;}#sk-container-id-27 div.sk-label:hover label.sk-toggleable__label {background-color: #d4ebff;}#sk-container-id-27 div.sk-serial::before {content: \"\";position: absolute;border-left: 1px solid gray;box-sizing: border-box;top: 0;bottom: 0;left: 50%;z-index: 0;}#sk-container-id-27 div.sk-serial {display: flex;flex-direction: column;align-items: center;background-color: white;padding-right: 0.2em;padding-left: 0.2em;position: relative;}#sk-container-id-27 div.sk-item {position: relative;z-index: 1;}#sk-container-id-27 div.sk-parallel {display: flex;align-items: stretch;justify-content: center;background-color: white;position: relative;}#sk-container-id-27 div.sk-item::before, #sk-container-id-27 div.sk-parallel-item::before {content: \"\";position: absolute;border-left: 1px solid gray;box-sizing: border-box;top: 0;bottom: 0;left: 50%;z-index: -1;}#sk-container-id-27 div.sk-parallel-item {display: flex;flex-direction: column;z-index: 1;position: relative;background-color: white;}#sk-container-id-27 div.sk-parallel-item:first-child::after {align-self: flex-end;width: 50%;}#sk-container-id-27 div.sk-parallel-item:last-child::after {align-self: flex-start;width: 50%;}#sk-container-id-27 div.sk-parallel-item:only-child::after {width: 0;}#sk-container-id-27 div.sk-dashed-wrapped {border: 1px dashed gray;margin: 0 0.4em 0.5em 0.4em;box-sizing: border-box;padding-bottom: 0.4em;background-color: white;}#sk-container-id-27 div.sk-label label {font-family: monospace;font-weight: bold;display: inline-block;line-height: 1.2em;}#sk-container-id-27 div.sk-label-container {text-align: center;}#sk-container-id-27 div.sk-container {/* jupyter's `normalize.less` sets `[hidden] { display: none; }` but bootstrap.min.css set `[hidden] { display: none !important; }` so we also need the `!important` here to be able to override the default hidden behavior on the sphinx rendered scikit-learn.org. See: https://github.com/scikit-learn/scikit-learn/issues/21755 */display: inline-block !important;position: relative;}#sk-container-id-27 div.sk-text-repr-fallback {display: none;}</style><div id=\"sk-container-id-27\" class=\"sk-top-container\"><div class=\"sk-text-repr-fallback\"><pre>SVC(C=10.0, kernel=&#x27;linear&#x27;, random_state=1)</pre><b>In a Jupyter environment, please rerun this cell to show the HTML representation or trust the notebook. <br />On GitHub, the HTML representation is unable to render, please try loading this page with nbviewer.org.</b></div><div class=\"sk-container\" hidden><div class=\"sk-item\"><div class=\"sk-estimator sk-toggleable\"><input class=\"sk-toggleable__control sk-hidden--visually\" id=\"sk-estimator-id-27\" type=\"checkbox\" checked><label for=\"sk-estimator-id-27\" class=\"sk-toggleable__label sk-toggleable__label-arrow\">SVC</label><div class=\"sk-toggleable__content\"><pre>SVC(C=10.0, kernel=&#x27;linear&#x27;, random_state=1)</pre></div></div></div></div></div>"
      ],
      "text/plain": [
       "SVC(C=10.0, kernel='linear', random_state=1)"
      ]
     },
     "execution_count": 181,
     "metadata": {},
     "output_type": "execute_result"
    }
   ],
   "source": [
    "svm_estrutura = SVC(kernel='linear', random_state=1, C=10.0)\n",
    "svm_estrutura.fit(x_estruturas_treining, y_estruturas_treining)"
   ]
  },
  {
   "cell_type": "code",
   "execution_count": 182,
   "id": "3a27af11",
   "metadata": {},
   "outputs": [
    {
     "data": {
      "text/plain": [
       "array([0, 0, 0, 1, 1, 0, 0, 1, 0, 0, 1, 0, 0, 0, 0, 1, 0, 1, 0, 0, 1, 0,\n",
       "       0, 1, 1, 1, 1, 1, 0, 0, 0, 0, 0, 0, 1, 0, 1, 0, 1, 1, 0, 1, 0, 1,\n",
       "       0, 1, 0, 1, 0, 1, 0, 0, 1, 0, 0, 1, 0, 1, 1, 0, 1, 1, 1, 0, 0, 0,\n",
       "       0, 0, 0, 1, 1, 1, 1, 0, 0, 0, 0, 1, 0, 0, 1, 1, 0, 0, 1, 0, 0, 0,\n",
       "       1, 0, 1, 1, 0, 0, 1, 0, 0, 0, 0, 0, 0, 1, 0, 0, 0, 1, 1, 1, 0, 0,\n",
       "       0, 0, 0, 0, 0, 0, 1, 1, 1, 1, 0, 0, 0, 1, 0, 0, 0, 0, 0, 0, 0, 0,\n",
       "       0, 1, 0, 0, 0, 0, 1, 0, 0, 1, 0, 0, 1, 0, 0, 0, 1, 1, 0, 1, 1, 1,\n",
       "       1, 0, 1, 0, 0, 1, 0, 0, 0, 1, 0, 0, 0, 0, 0, 0, 0, 0, 1, 0, 0, 0,\n",
       "       1, 0, 1, 1, 1, 0, 0, 0, 0, 1, 0, 0, 0, 0, 1, 0, 0, 0, 0, 0, 1, 1,\n",
       "       0, 0, 0, 1, 0, 1, 0, 0, 0, 0, 0, 0, 0, 1, 0, 0, 0, 0, 1, 1, 0, 0,\n",
       "       0, 0, 1, 1, 0, 1, 0, 0, 1, 0, 0, 0, 0, 1, 1, 1, 1, 0, 0, 0, 0, 1,\n",
       "       1, 1, 0, 0, 0, 0, 0, 0, 1, 0, 0, 0, 1, 0, 0, 0, 0, 1, 1, 0, 0, 0,\n",
       "       0, 1, 0, 1, 0, 0, 0, 0, 0, 0, 1, 0, 0, 0, 0, 1, 1, 1, 0, 0, 0, 1,\n",
       "       1, 1, 1, 1, 0, 0, 0, 0, 0, 0, 0, 0, 0, 1, 1, 0, 0, 0, 0, 0, 0, 1,\n",
       "       1, 1, 0, 1, 0, 1, 0, 1, 0, 1, 0, 1, 0, 0, 0, 1, 0, 1, 0, 1, 1, 0,\n",
       "       0, 1, 0, 1, 0, 1, 0, 0, 1, 1, 0, 1, 1, 1, 0, 0, 0, 1, 0, 0, 0, 0,\n",
       "       0, 0, 0, 0, 0, 0, 0, 0, 0], dtype=int64)"
      ]
     },
     "execution_count": 182,
     "metadata": {},
     "output_type": "execute_result"
    }
   ],
   "source": [
    "previsoes = svm_estrutura.predict(x_estruturas_testing)\n",
    "previsoes"
   ]
  },
  {
   "cell_type": "code",
   "execution_count": 183,
   "id": "0a483578",
   "metadata": {},
   "outputs": [
    {
     "data": {
      "text/plain": [
       "0.6869806094182825"
      ]
     },
     "execution_count": 183,
     "metadata": {},
     "output_type": "execute_result"
    }
   ],
   "source": [
    "accuracy_score(y_estruturas_testing, previsoes)"
   ]
  },
  {
   "cell_type": "code",
   "execution_count": 184,
   "id": "87f40159",
   "metadata": {},
   "outputs": [
    {
     "name": "stdout",
     "output_type": "stream",
     "text": [
      "Iteration 1, loss = 0.63626312\n",
      "Iteration 2, loss = 0.57926233\n",
      "Iteration 3, loss = 0.56423481\n",
      "Iteration 4, loss = 0.55141657\n",
      "Iteration 5, loss = 0.54473998\n",
      "Iteration 6, loss = 0.53806109\n",
      "Iteration 7, loss = 0.53293988\n",
      "Iteration 8, loss = 0.52824291\n",
      "Iteration 9, loss = 0.52440155\n",
      "Iteration 10, loss = 0.52006677\n",
      "Iteration 11, loss = 0.51584210\n",
      "Iteration 12, loss = 0.51247901\n",
      "Iteration 13, loss = 0.50945277\n",
      "Iteration 14, loss = 0.50562894\n",
      "Iteration 15, loss = 0.50341919\n",
      "Iteration 16, loss = 0.49880080\n",
      "Iteration 17, loss = 0.49477073\n",
      "Iteration 18, loss = 0.49160603\n",
      "Iteration 19, loss = 0.48893794\n",
      "Iteration 20, loss = 0.48557186\n",
      "Iteration 21, loss = 0.48311757\n",
      "Iteration 22, loss = 0.47869184\n",
      "Iteration 23, loss = 0.47527345\n",
      "Iteration 24, loss = 0.47352406\n",
      "Iteration 25, loss = 0.47178325\n",
      "Iteration 26, loss = 0.46866222\n",
      "Iteration 27, loss = 0.46119524\n",
      "Iteration 28, loss = 0.45932830\n",
      "Iteration 29, loss = 0.45690715\n",
      "Iteration 30, loss = 0.45164286\n",
      "Iteration 31, loss = 0.44954026\n",
      "Iteration 32, loss = 0.44458545\n",
      "Iteration 33, loss = 0.44098181\n",
      "Iteration 34, loss = 0.43798248\n",
      "Iteration 35, loss = 0.43524894\n",
      "Iteration 36, loss = 0.43334269\n",
      "Iteration 37, loss = 0.42857720\n",
      "Iteration 38, loss = 0.42676535\n",
      "Iteration 39, loss = 0.42351872\n",
      "Iteration 40, loss = 0.41784667\n",
      "Iteration 41, loss = 0.41457884\n",
      "Iteration 42, loss = 0.41132614\n",
      "Iteration 43, loss = 0.40857447\n",
      "Iteration 44, loss = 0.40399272\n",
      "Iteration 45, loss = 0.40587080\n",
      "Iteration 46, loss = 0.39924096\n",
      "Iteration 47, loss = 0.39702872\n",
      "Iteration 48, loss = 0.39282484\n",
      "Iteration 49, loss = 0.38836991\n",
      "Iteration 50, loss = 0.38898066\n",
      "Iteration 51, loss = 0.38382866\n",
      "Iteration 52, loss = 0.37813150\n",
      "Iteration 53, loss = 0.37718324\n",
      "Iteration 54, loss = 0.37634834\n",
      "Iteration 55, loss = 0.37206849\n",
      "Iteration 56, loss = 0.37133826\n",
      "Iteration 57, loss = 0.36330144\n",
      "Iteration 58, loss = 0.36002998\n",
      "Iteration 59, loss = 0.35630532\n",
      "Iteration 60, loss = 0.35357331\n",
      "Iteration 61, loss = 0.35179136\n",
      "Iteration 62, loss = 0.34924759\n",
      "Iteration 63, loss = 0.34357398\n",
      "Iteration 64, loss = 0.34108309\n",
      "Iteration 65, loss = 0.33686895\n",
      "Iteration 66, loss = 0.33472101\n",
      "Iteration 67, loss = 0.32899405\n",
      "Iteration 68, loss = 0.32803930\n",
      "Iteration 69, loss = 0.32549956\n",
      "Iteration 70, loss = 0.32529937\n",
      "Iteration 71, loss = 0.32243194\n",
      "Iteration 72, loss = 0.31673664\n",
      "Iteration 73, loss = 0.31253850\n",
      "Iteration 74, loss = 0.31327448\n",
      "Iteration 75, loss = 0.30797529\n",
      "Iteration 76, loss = 0.30618529\n",
      "Iteration 77, loss = 0.30375572\n",
      "Iteration 78, loss = 0.30212801\n",
      "Iteration 79, loss = 0.30674603\n",
      "Iteration 80, loss = 0.29553699\n",
      "Iteration 81, loss = 0.29460192\n",
      "Iteration 82, loss = 0.28814000\n",
      "Iteration 83, loss = 0.28462209\n",
      "Iteration 84, loss = 0.28108683\n",
      "Iteration 85, loss = 0.27888135\n",
      "Iteration 86, loss = 0.27486968\n",
      "Iteration 87, loss = 0.27558327\n",
      "Iteration 88, loss = 0.27814999\n",
      "Iteration 89, loss = 0.26795853\n",
      "Iteration 90, loss = 0.26412394\n",
      "Iteration 91, loss = 0.26364553\n",
      "Iteration 92, loss = 0.25985587\n",
      "Iteration 93, loss = 0.26753213\n",
      "Iteration 94, loss = 0.25824784\n",
      "Iteration 95, loss = 0.25482754\n",
      "Iteration 96, loss = 0.25597110\n",
      "Iteration 97, loss = 0.25636225\n",
      "Iteration 98, loss = 0.24553318\n",
      "Iteration 99, loss = 0.24865360\n",
      "Iteration 100, loss = 0.24266183\n",
      "Iteration 101, loss = 0.24255301\n",
      "Iteration 102, loss = 0.23856745\n",
      "Iteration 103, loss = 0.23631467\n",
      "Iteration 104, loss = 0.24055181\n",
      "Iteration 105, loss = 0.24204281\n",
      "Iteration 106, loss = 0.23668213\n",
      "Iteration 107, loss = 0.22484124\n",
      "Iteration 108, loss = 0.22314578\n",
      "Iteration 109, loss = 0.23062999\n",
      "Iteration 110, loss = 0.22833980\n",
      "Iteration 111, loss = 0.22327347\n",
      "Iteration 112, loss = 0.21957334\n",
      "Iteration 113, loss = 0.21538389\n",
      "Iteration 114, loss = 0.21284445\n",
      "Iteration 115, loss = 0.20839663\n",
      "Iteration 116, loss = 0.21126409\n",
      "Iteration 117, loss = 0.20862153\n",
      "Iteration 118, loss = 0.20591972\n",
      "Iteration 119, loss = 0.20203748\n",
      "Iteration 120, loss = 0.20222019\n",
      "Iteration 121, loss = 0.19858941\n",
      "Iteration 122, loss = 0.19430337\n",
      "Iteration 123, loss = 0.19325927\n",
      "Iteration 124, loss = 0.19525227\n",
      "Iteration 125, loss = 0.19146561\n",
      "Iteration 126, loss = 0.18936529\n",
      "Iteration 127, loss = 0.18945513\n",
      "Iteration 128, loss = 0.19043475\n",
      "Iteration 129, loss = 0.18654217\n",
      "Iteration 130, loss = 0.18179646\n",
      "Iteration 131, loss = 0.17835958\n",
      "Iteration 132, loss = 0.17910836\n",
      "Iteration 133, loss = 0.17810978\n",
      "Iteration 134, loss = 0.17531735\n",
      "Iteration 135, loss = 0.17214114\n",
      "Iteration 136, loss = 0.17183470\n",
      "Iteration 137, loss = 0.17259541\n",
      "Iteration 138, loss = 0.16747961\n",
      "Iteration 139, loss = 0.16695728\n",
      "Iteration 140, loss = 0.16439942\n",
      "Iteration 141, loss = 0.16484559\n",
      "Iteration 142, loss = 0.16034074\n",
      "Iteration 143, loss = 0.16078404\n",
      "Iteration 144, loss = 0.16051815\n",
      "Iteration 145, loss = 0.15782982\n",
      "Iteration 146, loss = 0.15965730\n",
      "Iteration 147, loss = 0.15513043\n",
      "Iteration 148, loss = 0.15040616\n",
      "Iteration 149, loss = 0.14975551\n",
      "Iteration 150, loss = 0.14465723\n",
      "Iteration 151, loss = 0.14699202\n",
      "Iteration 152, loss = 0.14552805\n",
      "Iteration 153, loss = 0.14149582\n",
      "Iteration 154, loss = 0.13942782\n",
      "Iteration 155, loss = 0.14080837\n",
      "Iteration 156, loss = 0.14049788\n",
      "Iteration 157, loss = 0.13825802\n",
      "Iteration 158, loss = 0.14136109\n",
      "Iteration 159, loss = 0.13435448\n",
      "Iteration 160, loss = 0.13248496\n",
      "Iteration 161, loss = 0.13095518\n",
      "Iteration 162, loss = 0.13165425\n",
      "Iteration 163, loss = 0.12864202\n",
      "Iteration 164, loss = 0.12858687\n",
      "Iteration 165, loss = 0.12507838\n",
      "Iteration 166, loss = 0.12837170\n",
      "Iteration 167, loss = 0.12723161\n",
      "Iteration 168, loss = 0.12384729\n",
      "Iteration 169, loss = 0.12453002\n",
      "Iteration 170, loss = 0.11860848\n",
      "Iteration 171, loss = 0.12414777\n",
      "Iteration 172, loss = 0.11717277\n",
      "Iteration 173, loss = 0.11801082\n",
      "Iteration 174, loss = 0.12022268\n",
      "Iteration 175, loss = 0.11351033\n",
      "Iteration 176, loss = 0.11109613\n",
      "Iteration 177, loss = 0.11257865\n",
      "Iteration 178, loss = 0.12512716\n",
      "Iteration 179, loss = 0.11579660\n",
      "Iteration 180, loss = 0.10780287\n",
      "Iteration 181, loss = 0.10661613\n",
      "Iteration 182, loss = 0.11281662\n",
      "Iteration 183, loss = 0.10857741\n",
      "Iteration 184, loss = 0.11113324\n",
      "Iteration 185, loss = 0.10454005\n",
      "Iteration 186, loss = 0.10389407\n",
      "Iteration 187, loss = 0.10427922\n",
      "Iteration 188, loss = 0.09832248\n",
      "Iteration 189, loss = 0.10021205\n",
      "Iteration 190, loss = 0.10041266\n",
      "Iteration 191, loss = 0.09747689\n",
      "Iteration 192, loss = 0.09569233\n",
      "Iteration 193, loss = 0.09937025\n",
      "Iteration 194, loss = 0.09809009\n",
      "Iteration 195, loss = 0.09559395\n",
      "Iteration 196, loss = 0.09209071\n",
      "Iteration 197, loss = 0.09136097\n",
      "Iteration 198, loss = 0.09175798\n",
      "Iteration 199, loss = 0.08901192\n",
      "Iteration 200, loss = 0.08755480\n",
      "Iteration 201, loss = 0.08643226\n",
      "Iteration 202, loss = 0.08513021\n",
      "Iteration 203, loss = 0.08529630\n",
      "Iteration 204, loss = 0.08464145\n",
      "Iteration 205, loss = 0.08488551\n",
      "Iteration 206, loss = 0.08466204\n",
      "Iteration 207, loss = 0.08342777\n",
      "Iteration 208, loss = 0.08276830\n",
      "Iteration 209, loss = 0.08434489\n",
      "Iteration 210, loss = 0.08044586\n",
      "Iteration 211, loss = 0.08018459\n",
      "Iteration 212, loss = 0.07776647\n",
      "Iteration 213, loss = 0.07592381\n",
      "Iteration 214, loss = 0.07597618\n",
      "Iteration 215, loss = 0.07671936\n",
      "Iteration 216, loss = 0.07389784\n",
      "Iteration 217, loss = 0.07404130\n",
      "Iteration 218, loss = 0.07444984\n",
      "Iteration 219, loss = 0.07145271\n",
      "Iteration 220, loss = 0.07124013\n",
      "Iteration 221, loss = 0.07021484\n",
      "Iteration 222, loss = 0.07163866\n",
      "Iteration 223, loss = 0.07216028\n",
      "Iteration 224, loss = 0.07658701\n",
      "Iteration 225, loss = 0.06976343\n",
      "Iteration 226, loss = 0.06751114\n",
      "Iteration 227, loss = 0.06615949\n",
      "Iteration 228, loss = 0.06547483\n",
      "Iteration 229, loss = 0.06745622\n",
      "Iteration 230, loss = 0.06513482\n",
      "Iteration 231, loss = 0.06440513\n",
      "Iteration 232, loss = 0.06490000\n",
      "Iteration 233, loss = 0.06483821\n",
      "Iteration 234, loss = 0.06173150\n",
      "Iteration 235, loss = 0.06330731\n",
      "Iteration 236, loss = 0.06264124\n",
      "Iteration 237, loss = 0.06124866\n",
      "Iteration 238, loss = 0.06016358\n",
      "Iteration 239, loss = 0.06133260\n",
      "Iteration 240, loss = 0.06023796\n",
      "Iteration 241, loss = 0.05895992\n",
      "Iteration 242, loss = 0.05787257\n",
      "Iteration 243, loss = 0.05539624\n",
      "Iteration 244, loss = 0.05674150\n",
      "Iteration 245, loss = 0.05651863\n",
      "Iteration 246, loss = 0.05903927\n",
      "Iteration 247, loss = 0.05962334\n",
      "Iteration 248, loss = 0.05764422\n",
      "Iteration 249, loss = 0.05772924\n",
      "Iteration 250, loss = 0.05420281\n",
      "Iteration 251, loss = 0.05449129\n",
      "Iteration 252, loss = 0.05312529\n",
      "Iteration 253, loss = 0.05191462\n",
      "Iteration 254, loss = 0.05051821\n",
      "Iteration 255, loss = 0.05378529\n",
      "Iteration 256, loss = 0.05212361\n",
      "Iteration 257, loss = 0.05046076\n",
      "Iteration 258, loss = 0.05162042\n",
      "Iteration 259, loss = 0.05100769\n",
      "Iteration 260, loss = 0.05081912\n",
      "Iteration 261, loss = 0.04987178\n"
     ]
    },
    {
     "name": "stdout",
     "output_type": "stream",
     "text": [
      "Iteration 262, loss = 0.05362326\n",
      "Iteration 263, loss = 0.04908423\n",
      "Iteration 264, loss = 0.04579025\n",
      "Iteration 265, loss = 0.04452437\n",
      "Iteration 266, loss = 0.04425133\n",
      "Iteration 267, loss = 0.04420320\n",
      "Iteration 268, loss = 0.04339524\n",
      "Iteration 269, loss = 0.04359851\n",
      "Iteration 270, loss = 0.04700233\n",
      "Iteration 271, loss = 0.04342273\n",
      "Iteration 272, loss = 0.04281827\n",
      "Iteration 273, loss = 0.04447112\n",
      "Iteration 274, loss = 0.04589385\n",
      "Iteration 275, loss = 0.04658081\n",
      "Iteration 276, loss = 0.04805272\n",
      "Iteration 277, loss = 0.04622009\n",
      "Iteration 278, loss = 0.04030001\n",
      "Iteration 279, loss = 0.04152365\n",
      "Iteration 280, loss = 0.03894079\n",
      "Iteration 281, loss = 0.03849680\n",
      "Iteration 282, loss = 0.03786628\n",
      "Iteration 283, loss = 0.03848619\n",
      "Iteration 284, loss = 0.04096784\n",
      "Iteration 285, loss = 0.04685687\n",
      "Iteration 286, loss = 0.03875866\n",
      "Iteration 287, loss = 0.03853808\n",
      "Iteration 288, loss = 0.03660978\n",
      "Iteration 289, loss = 0.03563092\n",
      "Iteration 290, loss = 0.03641753\n",
      "Iteration 291, loss = 0.03479365\n",
      "Iteration 292, loss = 0.03474058\n",
      "Iteration 293, loss = 0.03577983\n",
      "Iteration 294, loss = 0.03617657\n",
      "Iteration 295, loss = 0.03718143\n",
      "Iteration 296, loss = 0.03747264\n",
      "Iteration 297, loss = 0.03559617\n",
      "Iteration 298, loss = 0.03477676\n",
      "Iteration 299, loss = 0.03385240\n",
      "Iteration 300, loss = 0.03482167\n",
      "Iteration 301, loss = 0.03405037\n",
      "Iteration 302, loss = 0.03430022\n",
      "Iteration 303, loss = 0.03245840\n",
      "Iteration 304, loss = 0.03699980\n",
      "Iteration 305, loss = 0.03449198\n",
      "Iteration 306, loss = 0.03197988\n",
      "Iteration 307, loss = 0.03089096\n",
      "Iteration 308, loss = 0.02987433\n",
      "Iteration 309, loss = 0.02985733\n",
      "Iteration 310, loss = 0.03049782\n",
      "Iteration 311, loss = 0.03034282\n",
      "Iteration 312, loss = 0.02906179\n",
      "Iteration 313, loss = 0.02876666\n",
      "Iteration 314, loss = 0.02832813\n",
      "Iteration 315, loss = 0.02745850\n",
      "Iteration 316, loss = 0.02794705\n",
      "Iteration 317, loss = 0.02909113\n",
      "Iteration 318, loss = 0.02756996\n",
      "Iteration 319, loss = 0.02954818\n",
      "Iteration 320, loss = 0.02743943\n",
      "Iteration 321, loss = 0.02748610\n",
      "Iteration 322, loss = 0.02662191\n",
      "Iteration 323, loss = 0.02675315\n",
      "Iteration 324, loss = 0.02673350\n",
      "Iteration 325, loss = 0.02675574\n",
      "Iteration 326, loss = 0.02650272\n",
      "Iteration 327, loss = 0.02485375\n",
      "Iteration 328, loss = 0.02465014\n",
      "Iteration 329, loss = 0.02468270\n",
      "Iteration 330, loss = 0.02511215\n",
      "Iteration 331, loss = 0.02519300\n",
      "Iteration 332, loss = 0.02533501\n",
      "Iteration 333, loss = 0.02545577\n",
      "Iteration 334, loss = 0.02575401\n",
      "Iteration 335, loss = 0.02519725\n",
      "Iteration 336, loss = 0.02481536\n",
      "Iteration 337, loss = 0.02435857\n",
      "Iteration 338, loss = 0.02434914\n",
      "Iteration 339, loss = 0.02412432\n",
      "Iteration 340, loss = 0.02334067\n",
      "Iteration 341, loss = 0.02405835\n",
      "Iteration 342, loss = 0.02242070\n",
      "Iteration 343, loss = 0.02183065\n",
      "Iteration 344, loss = 0.02201263\n",
      "Iteration 345, loss = 0.02169868\n",
      "Iteration 346, loss = 0.02125754\n",
      "Iteration 347, loss = 0.02098635\n",
      "Iteration 348, loss = 0.02093565\n",
      "Iteration 349, loss = 0.02085628\n",
      "Iteration 350, loss = 0.02050119\n",
      "Iteration 351, loss = 0.02159645\n",
      "Iteration 352, loss = 0.02231110\n",
      "Iteration 353, loss = 0.02176699\n",
      "Iteration 354, loss = 0.02131045\n",
      "Iteration 355, loss = 0.02107942\n",
      "Iteration 356, loss = 0.01955611\n",
      "Iteration 357, loss = 0.01899337\n",
      "Iteration 358, loss = 0.01881605\n",
      "Iteration 359, loss = 0.01925405\n",
      "Iteration 360, loss = 0.02055553\n",
      "Iteration 361, loss = 0.01919246\n",
      "Iteration 362, loss = 0.01876561\n",
      "Iteration 363, loss = 0.01941058\n",
      "Iteration 364, loss = 0.01870968\n",
      "Iteration 365, loss = 0.01796857\n",
      "Iteration 366, loss = 0.01942327\n",
      "Iteration 367, loss = 0.01819970\n",
      "Iteration 368, loss = 0.01827574\n",
      "Iteration 369, loss = 0.02377830\n",
      "Iteration 370, loss = 0.02213677\n",
      "Iteration 371, loss = 0.02170311\n",
      "Iteration 372, loss = 0.02150533\n",
      "Iteration 373, loss = 0.01956919\n",
      "Iteration 374, loss = 0.01868667\n",
      "Iteration 375, loss = 0.01742768\n",
      "Iteration 376, loss = 0.01673000\n",
      "Iteration 377, loss = 0.01579195\n",
      "Iteration 378, loss = 0.01560982\n",
      "Iteration 379, loss = 0.01586349\n",
      "Iteration 380, loss = 0.01633362\n",
      "Iteration 381, loss = 0.02057499\n",
      "Iteration 382, loss = 0.02096211\n",
      "Iteration 383, loss = 0.01778354\n",
      "Iteration 384, loss = 0.01700727\n",
      "Iteration 385, loss = 0.01740141\n",
      "Iteration 386, loss = 0.01545918\n",
      "Iteration 387, loss = 0.01480974\n",
      "Iteration 388, loss = 0.01744913\n",
      "Iteration 389, loss = 0.01873184\n",
      "Iteration 390, loss = 0.01787998\n",
      "Iteration 391, loss = 0.01494999\n",
      "Iteration 392, loss = 0.01473398\n",
      "Iteration 393, loss = 0.01579436\n",
      "Iteration 394, loss = 0.01466347\n",
      "Iteration 395, loss = 0.01460782\n",
      "Iteration 396, loss = 0.01399755\n",
      "Iteration 397, loss = 0.01419491\n",
      "Iteration 398, loss = 0.01383030\n",
      "Iteration 399, loss = 0.01354732\n",
      "Iteration 400, loss = 0.01326476\n",
      "Iteration 401, loss = 0.01273684\n",
      "Iteration 402, loss = 0.01261066\n",
      "Iteration 403, loss = 0.01291929\n",
      "Iteration 404, loss = 0.01492200\n",
      "Iteration 405, loss = 0.01514076\n",
      "Iteration 406, loss = 0.01374489\n",
      "Iteration 407, loss = 0.01320687\n",
      "Iteration 408, loss = 0.01262941\n",
      "Iteration 409, loss = 0.01256782\n",
      "Iteration 410, loss = 0.01206027\n",
      "Iteration 411, loss = 0.01188511\n",
      "Iteration 412, loss = 0.01222947\n",
      "Iteration 413, loss = 0.01196372\n",
      "Iteration 414, loss = 0.01148459\n",
      "Iteration 415, loss = 0.01155632\n",
      "Iteration 416, loss = 0.01225265\n",
      "Iteration 417, loss = 0.01185244\n",
      "Iteration 418, loss = 0.01168116\n",
      "Iteration 419, loss = 0.01158348\n",
      "Iteration 420, loss = 0.01190773\n",
      "Iteration 421, loss = 0.01113328\n",
      "Iteration 422, loss = 0.01082267\n",
      "Iteration 423, loss = 0.01065182\n",
      "Iteration 424, loss = 0.01107893\n",
      "Iteration 425, loss = 0.01131476\n",
      "Iteration 426, loss = 0.01227919\n",
      "Iteration 427, loss = 0.01131664\n",
      "Iteration 428, loss = 0.01174155\n",
      "Iteration 429, loss = 0.01087534\n",
      "Iteration 430, loss = 0.01077922\n",
      "Iteration 431, loss = 0.01091858\n",
      "Iteration 432, loss = 0.01022639\n",
      "Iteration 433, loss = 0.01039900\n",
      "Iteration 434, loss = 0.01079433\n",
      "Iteration 435, loss = 0.01008693\n",
      "Iteration 436, loss = 0.00972503\n",
      "Iteration 437, loss = 0.00957087\n",
      "Iteration 438, loss = 0.00960127\n",
      "Iteration 439, loss = 0.01151924\n",
      "Iteration 440, loss = 0.01127036\n",
      "Iteration 441, loss = 0.00966990\n",
      "Iteration 442, loss = 0.01064687\n",
      "Iteration 443, loss = 0.00965924\n",
      "Iteration 444, loss = 0.00912670\n",
      "Iteration 445, loss = 0.00887029\n",
      "Iteration 446, loss = 0.00918723\n",
      "Iteration 447, loss = 0.00899874\n",
      "Iteration 448, loss = 0.00902791\n",
      "Iteration 449, loss = 0.00876443\n",
      "Iteration 450, loss = 0.00866591\n",
      "Iteration 451, loss = 0.00865929\n",
      "Iteration 452, loss = 0.00880539\n",
      "Iteration 453, loss = 0.00927108\n",
      "Iteration 454, loss = 0.00946710\n",
      "Iteration 455, loss = 0.00853294\n",
      "Iteration 456, loss = 0.01031647\n",
      "Iteration 457, loss = 0.00998386\n",
      "Iteration 458, loss = 0.00913876\n",
      "Iteration 459, loss = 0.00851125\n",
      "Iteration 460, loss = 0.00891122\n",
      "Iteration 461, loss = 0.00865583\n",
      "Iteration 462, loss = 0.00806106\n",
      "Iteration 463, loss = 0.00785412\n",
      "Iteration 464, loss = 0.00795707\n",
      "Iteration 465, loss = 0.00763397\n",
      "Iteration 466, loss = 0.00809078\n",
      "Iteration 467, loss = 0.00817653\n",
      "Iteration 468, loss = 0.00770528\n",
      "Iteration 469, loss = 0.00776226\n",
      "Iteration 470, loss = 0.00772002\n",
      "Iteration 471, loss = 0.00750833\n",
      "Iteration 472, loss = 0.00731930\n",
      "Iteration 473, loss = 0.00728911\n",
      "Iteration 474, loss = 0.00724740\n",
      "Iteration 475, loss = 0.00697542\n",
      "Iteration 476, loss = 0.00759614\n",
      "Iteration 477, loss = 0.01289152\n",
      "Iteration 478, loss = 0.00917354\n",
      "Iteration 479, loss = 0.00789755\n",
      "Iteration 480, loss = 0.00782069\n",
      "Iteration 481, loss = 0.00795656\n",
      "Iteration 482, loss = 0.00773173\n",
      "Iteration 483, loss = 0.00746960\n",
      "Iteration 484, loss = 0.00783140\n",
      "Iteration 485, loss = 0.00714900\n",
      "Iteration 486, loss = 0.00674130\n",
      "Iteration 487, loss = 0.00663795\n",
      "Iteration 488, loss = 0.00635918\n",
      "Iteration 489, loss = 0.00666064\n",
      "Iteration 490, loss = 0.00729812\n",
      "Iteration 491, loss = 0.00695953\n",
      "Iteration 492, loss = 0.00708727\n",
      "Iteration 493, loss = 0.00645024\n",
      "Iteration 494, loss = 0.00784731\n",
      "Iteration 495, loss = 0.00715967\n",
      "Iteration 496, loss = 0.00700821\n",
      "Iteration 497, loss = 0.00653430\n",
      "Iteration 498, loss = 0.00647475\n",
      "Iteration 499, loss = 0.00677751\n",
      "Training loss did not improve more than tol=0.000100 for 10 consecutive epochs. Stopping.\n"
     ]
    },
    {
     "data": {
      "text/html": [
       "<style>#sk-container-id-28 {color: black;background-color: white;}#sk-container-id-28 pre{padding: 0;}#sk-container-id-28 div.sk-toggleable {background-color: white;}#sk-container-id-28 label.sk-toggleable__label {cursor: pointer;display: block;width: 100%;margin-bottom: 0;padding: 0.3em;box-sizing: border-box;text-align: center;}#sk-container-id-28 label.sk-toggleable__label-arrow:before {content: \"▸\";float: left;margin-right: 0.25em;color: #696969;}#sk-container-id-28 label.sk-toggleable__label-arrow:hover:before {color: black;}#sk-container-id-28 div.sk-estimator:hover label.sk-toggleable__label-arrow:before {color: black;}#sk-container-id-28 div.sk-toggleable__content {max-height: 0;max-width: 0;overflow: hidden;text-align: left;background-color: #f0f8ff;}#sk-container-id-28 div.sk-toggleable__content pre {margin: 0.2em;color: black;border-radius: 0.25em;background-color: #f0f8ff;}#sk-container-id-28 input.sk-toggleable__control:checked~div.sk-toggleable__content {max-height: 200px;max-width: 100%;overflow: auto;}#sk-container-id-28 input.sk-toggleable__control:checked~label.sk-toggleable__label-arrow:before {content: \"▾\";}#sk-container-id-28 div.sk-estimator input.sk-toggleable__control:checked~label.sk-toggleable__label {background-color: #d4ebff;}#sk-container-id-28 div.sk-label input.sk-toggleable__control:checked~label.sk-toggleable__label {background-color: #d4ebff;}#sk-container-id-28 input.sk-hidden--visually {border: 0;clip: rect(1px 1px 1px 1px);clip: rect(1px, 1px, 1px, 1px);height: 1px;margin: -1px;overflow: hidden;padding: 0;position: absolute;width: 1px;}#sk-container-id-28 div.sk-estimator {font-family: monospace;background-color: #f0f8ff;border: 1px dotted black;border-radius: 0.25em;box-sizing: border-box;margin-bottom: 0.5em;}#sk-container-id-28 div.sk-estimator:hover {background-color: #d4ebff;}#sk-container-id-28 div.sk-parallel-item::after {content: \"\";width: 100%;border-bottom: 1px solid gray;flex-grow: 1;}#sk-container-id-28 div.sk-label:hover label.sk-toggleable__label {background-color: #d4ebff;}#sk-container-id-28 div.sk-serial::before {content: \"\";position: absolute;border-left: 1px solid gray;box-sizing: border-box;top: 0;bottom: 0;left: 50%;z-index: 0;}#sk-container-id-28 div.sk-serial {display: flex;flex-direction: column;align-items: center;background-color: white;padding-right: 0.2em;padding-left: 0.2em;position: relative;}#sk-container-id-28 div.sk-item {position: relative;z-index: 1;}#sk-container-id-28 div.sk-parallel {display: flex;align-items: stretch;justify-content: center;background-color: white;position: relative;}#sk-container-id-28 div.sk-item::before, #sk-container-id-28 div.sk-parallel-item::before {content: \"\";position: absolute;border-left: 1px solid gray;box-sizing: border-box;top: 0;bottom: 0;left: 50%;z-index: -1;}#sk-container-id-28 div.sk-parallel-item {display: flex;flex-direction: column;z-index: 1;position: relative;background-color: white;}#sk-container-id-28 div.sk-parallel-item:first-child::after {align-self: flex-end;width: 50%;}#sk-container-id-28 div.sk-parallel-item:last-child::after {align-self: flex-start;width: 50%;}#sk-container-id-28 div.sk-parallel-item:only-child::after {width: 0;}#sk-container-id-28 div.sk-dashed-wrapped {border: 1px dashed gray;margin: 0 0.4em 0.5em 0.4em;box-sizing: border-box;padding-bottom: 0.4em;background-color: white;}#sk-container-id-28 div.sk-label label {font-family: monospace;font-weight: bold;display: inline-block;line-height: 1.2em;}#sk-container-id-28 div.sk-label-container {text-align: center;}#sk-container-id-28 div.sk-container {/* jupyter's `normalize.less` sets `[hidden] { display: none; }` but bootstrap.min.css set `[hidden] { display: none !important; }` so we also need the `!important` here to be able to override the default hidden behavior on the sphinx rendered scikit-learn.org. See: https://github.com/scikit-learn/scikit-learn/issues/21755 */display: inline-block !important;position: relative;}#sk-container-id-28 div.sk-text-repr-fallback {display: none;}</style><div id=\"sk-container-id-28\" class=\"sk-top-container\"><div class=\"sk-text-repr-fallback\"><pre>MLPClassifier(hidden_layer_sizes=(100, 100), max_iter=1000, verbose=True)</pre><b>In a Jupyter environment, please rerun this cell to show the HTML representation or trust the notebook. <br />On GitHub, the HTML representation is unable to render, please try loading this page with nbviewer.org.</b></div><div class=\"sk-container\" hidden><div class=\"sk-item\"><div class=\"sk-estimator sk-toggleable\"><input class=\"sk-toggleable__control sk-hidden--visually\" id=\"sk-estimator-id-28\" type=\"checkbox\" checked><label for=\"sk-estimator-id-28\" class=\"sk-toggleable__label sk-toggleable__label-arrow\">MLPClassifier</label><div class=\"sk-toggleable__content\"><pre>MLPClassifier(hidden_layer_sizes=(100, 100), max_iter=1000, verbose=True)</pre></div></div></div></div></div>"
      ],
      "text/plain": [
       "MLPClassifier(hidden_layer_sizes=(100, 100), max_iter=1000, verbose=True)"
      ]
     },
     "execution_count": 184,
     "metadata": {},
     "output_type": "execute_result"
    }
   ],
   "source": [
    "from sklearn.neural_network import MLPClassifier\n",
    "rede_neural_estrutura = MLPClassifier(max_iter=1000, verbose=True, solver=\"adam\", activation=\"relu\", hidden_layer_sizes=(100, 100))\n",
    "rede_neural_estrutura.fit(x_estruturas_treining, y_estruturas_treining)"
   ]
  },
  {
   "cell_type": "code",
   "execution_count": 185,
   "id": "28bb550d",
   "metadata": {},
   "outputs": [
    {
     "data": {
      "text/plain": [
       "0.6703601108033241"
      ]
     },
     "execution_count": 185,
     "metadata": {},
     "output_type": "execute_result"
    }
   ],
   "source": [
    "previsoes = rede_neural_estrutura.predict(x_estruturas_testing)\n",
    "accuracy_score(y_estruturas_testing, previsoes)"
   ]
  },
  {
   "cell_type": "code",
   "execution_count": null,
   "id": "80300bf9",
   "metadata": {},
   "outputs": [],
   "source": []
  }
 ],
 "metadata": {
  "kernelspec": {
   "display_name": "Python 3 (ipykernel)",
   "language": "python",
   "name": "python3"
  },
  "language_info": {
   "codemirror_mode": {
    "name": "ipython",
    "version": 3
   },
   "file_extension": ".py",
   "mimetype": "text/x-python",
   "name": "python",
   "nbconvert_exporter": "python",
   "pygments_lexer": "ipython3",
   "version": "3.10.9"
  }
 },
 "nbformat": 4,
 "nbformat_minor": 5
}
