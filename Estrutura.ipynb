{
 "cells": [
  {
   "cell_type": "code",
   "execution_count": 1,
   "id": "e5255eda",
   "metadata": {},
   "outputs": [],
   "source": [
    "import pandas as pd\n",
    "import numpy as np\n",
    "import seaborn as sns\n",
    "import matplotlib.pyplot as plt\n",
    "import plotly.express as px\n",
    "!pip -q install yellowbrick"
   ]
  },
  {
   "cell_type": "code",
   "execution_count": 24,
   "id": "b6ef940f",
   "metadata": {},
   "outputs": [],
   "source": [
    "# Este código tem como objetivo estruturar meus conhecimentos em Machine Learning\n",
    "# Abordo os principais temas\n",
    "\n",
    "# Limpeza e tratamento de Dados\n",
    "# Pré Processamento de Dados\n",
    "# Aprendizagem Bayesiana\n",
    "# Regressão Logística\n",
    "# Árvores de Decisão\n",
    "\n",
    "# Todos esses modeloes de ML são aplicados em uma base real de Produtos Estruturados tendo como objetivo dar uma experiência mais precisa"
   ]
  },
  {
   "cell_type": "code",
   "execution_count": 25,
   "id": "2f301a91",
   "metadata": {},
   "outputs": [],
   "source": [
    "base_pe = pd.read_excel(r'C:\\Users\\gabri\\OneDrive - XP Investimentos\\Settima - BI\\Python Scripts\\7. Análise de Dados\\Bases\\base_estruturas.xlsx')\n",
    "base_pe.set_index('Cliente', inplace=True)"
   ]
  },
  {
   "cell_type": "code",
   "execution_count": 26,
   "id": "9e23a73d",
   "metadata": {},
   "outputs": [],
   "source": [
    "x_estruturas = base_pe.iloc[:, 0:15].values\n",
    "y_estruturas = base_pe.iloc[:, 16].values\n"
   ]
  },
  {
   "cell_type": "code",
   "execution_count": 27,
   "id": "da2e90cc",
   "metadata": {},
   "outputs": [],
   "source": [
    "from sklearn.preprocessing import LabelEncoder"
   ]
  },
  {
   "cell_type": "code",
   "execution_count": 28,
   "id": "fcc4a794",
   "metadata": {},
   "outputs": [],
   "source": [
    "label_encoder_profissao = LabelEncoder()\n",
    "label_encoder_sexo = LabelEncoder()\n",
    "label_encoder_segmento = LabelEncoder()\n",
    "label_encoder_perfil = LabelEncoder()\n",
    "label_encoder_saporte = LabelEncoder()\n",
    "label_encoder_idade = LabelEncoder()\n",
    "label_encoder_status = LabelEncoder()\n",
    "label_encoder_bolsa = LabelEncoder()\n",
    "label_encoder_afd = LabelEncoder()\n",
    "label_encoder_capLiqui = LabelEncoder()\n",
    "label_encoder_netM1 = LabelEncoder()\n",
    "label_encoder_netM = LabelEncoder()\n",
    "label_encoder_fii = LabelEncoder()\n",
    "label_encoder_rv = LabelEncoder()\n",
    "label_encoder_financeiro = LabelEncoder()"
   ]
  },
  {
   "cell_type": "code",
   "execution_count": 29,
   "id": "4a4e1566",
   "metadata": {},
   "outputs": [],
   "source": [
    "x_estruturas[:, 0] = label_encoder_profissao.fit_transform(x_estruturas[:, 0])\n",
    "x_estruturas[:, 1] = label_encoder_sexo.fit_transform(x_estruturas[:, 1])\n",
    "x_estruturas[:, 2] = label_encoder_segmento.fit_transform(x_estruturas[:, 2])\n",
    "x_estruturas[:, 3] = label_encoder_perfil.fit_transform(x_estruturas[:, 3])\n",
    "x_estruturas[:, 4] = label_encoder_saporte.fit_transform(x_estruturas[:, 4])\n",
    "x_estruturas[:, 5] = label_encoder_idade.fit_transform(x_estruturas[:, 5])\n",
    "x_estruturas[:, 6] = label_encoder_status.fit_transform(x_estruturas[:, 6])\n",
    "x_estruturas[:, 7] = label_encoder_bolsa.fit_transform(x_estruturas[:, 7])\n",
    "x_estruturas[:, 8] = label_encoder_afd.fit_transform(x_estruturas[:, 8])\n",
    "x_estruturas[:, 9] = label_encoder_capLiqui.fit_transform(x_estruturas[:, 9])\n",
    "x_estruturas[:, 10] = label_encoder_netM1.fit_transform(x_estruturas[:, 10])\n",
    "x_estruturas[:, 11] = label_encoder_netM.fit_transform(x_estruturas[:, 11])\n",
    "x_estruturas[:, 12] = label_encoder_fii.fit_transform(x_estruturas[:, 12])\n",
    "x_estruturas[:, 13] = label_encoder_rv.fit_transform(x_estruturas[:, 13])\n",
    "x_estruturas[:, 14] = label_encoder_financeiro.fit_transform(x_estruturas[:, 14])"
   ]
  },
  {
   "cell_type": "code",
   "execution_count": 30,
   "id": "5faf1bc2",
   "metadata": {},
   "outputs": [
    {
     "data": {
      "text/plain": [
       "array([[1, 1, 0, ..., 943, 2275, 822],\n",
       "       [74, 1, 0, ..., 996, 2274, 1365],\n",
       "       [75, 1, 0, ..., 1011, 2273, 1092],\n",
       "       ...,\n",
       "       [39, 1, 0, ..., 0, 1, 78],\n",
       "       [82, 1, 0, ..., 0, 0, 25],\n",
       "       [7, 1, 0, ..., 0, 0, 113]], dtype=object)"
      ]
     },
     "execution_count": 30,
     "metadata": {},
     "output_type": "execute_result"
    }
   ],
   "source": [
    "x_estruturas"
   ]
  },
  {
   "cell_type": "code",
   "execution_count": 31,
   "id": "9b78c6ff",
   "metadata": {},
   "outputs": [],
   "source": [
    "from sklearn.preprocessing import OneHotEncoder\n",
    "from sklearn.compose import ColumnTransformer"
   ]
  },
  {
   "cell_type": "code",
   "execution_count": 32,
   "id": "dc1932ab",
   "metadata": {},
   "outputs": [
    {
     "data": {
      "text/plain": [
       "array([[-1.4040642 ,  0.64195651, -0.55758313, ...,  2.30889279,\n",
       "         1.7772591 , -0.21656789],\n",
       "       [ 0.7298589 ,  0.64195651, -0.55758313, ...,  2.47756734,\n",
       "         1.77573194,  0.59965602],\n",
       "       [ 0.75909072,  0.64195651, -0.55758313, ...,  2.52530542,\n",
       "         1.77420479,  0.1892893 ],\n",
       "       ...,\n",
       "       [-0.29325492,  0.64195651, -0.55758313, ..., -0.69224125,\n",
       "        -1.69549179, -1.33492994],\n",
       "       [ 0.96371348,  0.64195651, -0.55758313, ..., -0.69224125,\n",
       "        -1.69701895, -1.4145982 ],\n",
       "       [-1.22867326,  0.64195651, -0.55758313, ..., -0.69224125,\n",
       "        -1.69701895, -1.28231882]])"
      ]
     },
     "execution_count": 32,
     "metadata": {},
     "output_type": "execute_result"
    }
   ],
   "source": [
    "from sklearn.preprocessing import StandardScaler\n",
    "scaler_estruturas = StandardScaler()\n",
    "x_estruturas = scaler_estruturas.fit_transform(x_estruturas)\n",
    "x_estruturas"
   ]
  },
  {
   "cell_type": "code",
   "execution_count": 33,
   "id": "18784933",
   "metadata": {},
   "outputs": [],
   "source": [
    "from sklearn.model_selection import train_test_split\n",
    "x_estruturas_treining, x_estruturas_testing, y_estruturas_treining, y_estruturas_testing = train_test_split(x_estruturas, y_estruturas, test_size=0.15, random_state=0)"
   ]
  },
  {
   "cell_type": "code",
   "execution_count": 34,
   "id": "9dea9164",
   "metadata": {},
   "outputs": [],
   "source": [
    "import pickle\n",
    "with open('estruturas.pkl', mode = 'wb') as f:\n",
    "    pickle.dump([x_estruturas_treining, y_estruturas_treining, x_estruturas_testing, y_estruturas_testing], f)"
   ]
  },
  {
   "cell_type": "code",
   "execution_count": 35,
   "id": "98d2a7b5",
   "metadata": {},
   "outputs": [],
   "source": [
    "import pandas as pd\n",
    "import pickle\n",
    "from sklearn.naive_bayes import GaussianNB"
   ]
  },
  {
   "cell_type": "code",
   "execution_count": 36,
   "id": "42393ab0",
   "metadata": {},
   "outputs": [
    {
     "data": {
      "text/plain": [
       "((2042, 16), (2042,), (361, 16), (361,))"
      ]
     },
     "execution_count": 36,
     "metadata": {},
     "output_type": "execute_result"
    }
   ],
   "source": [
    "with open(r'C:\\Users\\gabri\\OneDrive - XP Investimentos\\Settima - BI\\Python Scripts\\7. Análise de Dados\\Renda Variável\\estruturas.pkl', 'rb') as f:\n",
    "    x_estruturas_treining, y_estruturas_treining, x_estruturas_testing, y_estruturas_testing = pickle.load(f)\n",
    "    \n",
    "    \n",
    "x_estruturas_treining.shape, y_estruturas_treining.shape, x_estruturas_testing.shape, y_estruturas_testing.shape"
   ]
  },
  {
   "cell_type": "code",
   "execution_count": 37,
   "id": "08208715",
   "metadata": {},
   "outputs": [
    {
     "data": {
      "text/plain": [
       "((361,), (361,))"
      ]
     },
     "execution_count": 37,
     "metadata": {},
     "output_type": "execute_result"
    }
   ],
   "source": [
    "naive_estrutura_data = GaussianNB()\n",
    "naive_estrutura_data.fit(x_estruturas_treining, y_estruturas_treining)\n",
    "previsoes = naive_estrutura_data.predict(x_estruturas_testing)\n",
    "previsoes.shape, y_estruturas_testing.shape"
   ]
  },
  {
   "cell_type": "code",
   "execution_count": 38,
   "id": "f9a3bce7",
   "metadata": {},
   "outputs": [
    {
     "data": {
      "text/plain": [
       "0.6398891966759003"
      ]
     },
     "execution_count": 38,
     "metadata": {},
     "output_type": "execute_result"
    }
   ],
   "source": [
    "from sklearn.metrics import accuracy_score\n",
    "accuracy_score(y_estruturas_testing, previsoes)"
   ]
  },
  {
   "cell_type": "code",
   "execution_count": 39,
   "id": "7796cbd9",
   "metadata": {},
   "outputs": [],
   "source": [
    "from sklearn.linear_model import LogisticRegression"
   ]
  },
  {
   "cell_type": "code",
   "execution_count": 40,
   "id": "2dbab981",
   "metadata": {},
   "outputs": [
    {
     "data": {
      "text/html": [
       "<style>#sk-container-id-2 {color: black;background-color: white;}#sk-container-id-2 pre{padding: 0;}#sk-container-id-2 div.sk-toggleable {background-color: white;}#sk-container-id-2 label.sk-toggleable__label {cursor: pointer;display: block;width: 100%;margin-bottom: 0;padding: 0.3em;box-sizing: border-box;text-align: center;}#sk-container-id-2 label.sk-toggleable__label-arrow:before {content: \"▸\";float: left;margin-right: 0.25em;color: #696969;}#sk-container-id-2 label.sk-toggleable__label-arrow:hover:before {color: black;}#sk-container-id-2 div.sk-estimator:hover label.sk-toggleable__label-arrow:before {color: black;}#sk-container-id-2 div.sk-toggleable__content {max-height: 0;max-width: 0;overflow: hidden;text-align: left;background-color: #f0f8ff;}#sk-container-id-2 div.sk-toggleable__content pre {margin: 0.2em;color: black;border-radius: 0.25em;background-color: #f0f8ff;}#sk-container-id-2 input.sk-toggleable__control:checked~div.sk-toggleable__content {max-height: 200px;max-width: 100%;overflow: auto;}#sk-container-id-2 input.sk-toggleable__control:checked~label.sk-toggleable__label-arrow:before {content: \"▾\";}#sk-container-id-2 div.sk-estimator input.sk-toggleable__control:checked~label.sk-toggleable__label {background-color: #d4ebff;}#sk-container-id-2 div.sk-label input.sk-toggleable__control:checked~label.sk-toggleable__label {background-color: #d4ebff;}#sk-container-id-2 input.sk-hidden--visually {border: 0;clip: rect(1px 1px 1px 1px);clip: rect(1px, 1px, 1px, 1px);height: 1px;margin: -1px;overflow: hidden;padding: 0;position: absolute;width: 1px;}#sk-container-id-2 div.sk-estimator {font-family: monospace;background-color: #f0f8ff;border: 1px dotted black;border-radius: 0.25em;box-sizing: border-box;margin-bottom: 0.5em;}#sk-container-id-2 div.sk-estimator:hover {background-color: #d4ebff;}#sk-container-id-2 div.sk-parallel-item::after {content: \"\";width: 100%;border-bottom: 1px solid gray;flex-grow: 1;}#sk-container-id-2 div.sk-label:hover label.sk-toggleable__label {background-color: #d4ebff;}#sk-container-id-2 div.sk-serial::before {content: \"\";position: absolute;border-left: 1px solid gray;box-sizing: border-box;top: 0;bottom: 0;left: 50%;z-index: 0;}#sk-container-id-2 div.sk-serial {display: flex;flex-direction: column;align-items: center;background-color: white;padding-right: 0.2em;padding-left: 0.2em;position: relative;}#sk-container-id-2 div.sk-item {position: relative;z-index: 1;}#sk-container-id-2 div.sk-parallel {display: flex;align-items: stretch;justify-content: center;background-color: white;position: relative;}#sk-container-id-2 div.sk-item::before, #sk-container-id-2 div.sk-parallel-item::before {content: \"\";position: absolute;border-left: 1px solid gray;box-sizing: border-box;top: 0;bottom: 0;left: 50%;z-index: -1;}#sk-container-id-2 div.sk-parallel-item {display: flex;flex-direction: column;z-index: 1;position: relative;background-color: white;}#sk-container-id-2 div.sk-parallel-item:first-child::after {align-self: flex-end;width: 50%;}#sk-container-id-2 div.sk-parallel-item:last-child::after {align-self: flex-start;width: 50%;}#sk-container-id-2 div.sk-parallel-item:only-child::after {width: 0;}#sk-container-id-2 div.sk-dashed-wrapped {border: 1px dashed gray;margin: 0 0.4em 0.5em 0.4em;box-sizing: border-box;padding-bottom: 0.4em;background-color: white;}#sk-container-id-2 div.sk-label label {font-family: monospace;font-weight: bold;display: inline-block;line-height: 1.2em;}#sk-container-id-2 div.sk-label-container {text-align: center;}#sk-container-id-2 div.sk-container {/* jupyter's `normalize.less` sets `[hidden] { display: none; }` but bootstrap.min.css set `[hidden] { display: none !important; }` so we also need the `!important` here to be able to override the default hidden behavior on the sphinx rendered scikit-learn.org. See: https://github.com/scikit-learn/scikit-learn/issues/21755 */display: inline-block !important;position: relative;}#sk-container-id-2 div.sk-text-repr-fallback {display: none;}</style><div id=\"sk-container-id-2\" class=\"sk-top-container\"><div class=\"sk-text-repr-fallback\"><pre>LogisticRegression(random_state=1)</pre><b>In a Jupyter environment, please rerun this cell to show the HTML representation or trust the notebook. <br />On GitHub, the HTML representation is unable to render, please try loading this page with nbviewer.org.</b></div><div class=\"sk-container\" hidden><div class=\"sk-item\"><div class=\"sk-estimator sk-toggleable\"><input class=\"sk-toggleable__control sk-hidden--visually\" id=\"sk-estimator-id-2\" type=\"checkbox\" checked><label for=\"sk-estimator-id-2\" class=\"sk-toggleable__label sk-toggleable__label-arrow\">LogisticRegression</label><div class=\"sk-toggleable__content\"><pre>LogisticRegression(random_state=1)</pre></div></div></div></div></div>"
      ],
      "text/plain": [
       "LogisticRegression(random_state=1)"
      ]
     },
     "execution_count": 40,
     "metadata": {},
     "output_type": "execute_result"
    }
   ],
   "source": [
    "logistic_estrutura = LogisticRegression(random_state=1)\n",
    "logistic_estrutura.fit(x_estruturas_treining, y_estruturas_treining)"
   ]
  },
  {
   "cell_type": "code",
   "execution_count": 41,
   "id": "31a32c97",
   "metadata": {},
   "outputs": [
    {
     "data": {
      "text/plain": [
       "array([-0.65394599])"
      ]
     },
     "execution_count": 41,
     "metadata": {},
     "output_type": "execute_result"
    }
   ],
   "source": [
    "logistic_estrutura.intercept_"
   ]
  },
  {
   "cell_type": "code",
   "execution_count": 42,
   "id": "a369b516",
   "metadata": {},
   "outputs": [
    {
     "data": {
      "text/plain": [
       "array([[ 0.06219198, -0.11252974, -0.05642497, -0.31160442,  0.07449824,\n",
       "        -0.22564725, -0.0065238 ,  0.        ,  0.4088645 , -0.23997347,\n",
       "        -0.01046219,  0.20163772,  0.52669968, -0.3314238 ,  0.19632974,\n",
       "         0.04591595]])"
      ]
     },
     "execution_count": 42,
     "metadata": {},
     "output_type": "execute_result"
    }
   ],
   "source": [
    "logistic_estrutura.coef_"
   ]
  },
  {
   "cell_type": "code",
   "execution_count": 43,
   "id": "5a51677e",
   "metadata": {},
   "outputs": [
    {
     "data": {
      "text/plain": [
       "array([0, 0, 0, 1, 1, 0, 0, 1, 0, 0, 1, 0, 0, 0, 0, 1, 0, 1, 0, 0, 1, 0,\n",
       "       0, 1, 1, 1, 1, 0, 0, 0, 0, 0, 0, 0, 1, 0, 1, 0, 1, 1, 0, 1, 0, 1,\n",
       "       0, 1, 0, 0, 0, 1, 0, 0, 1, 0, 0, 1, 0, 1, 1, 0, 1, 1, 1, 0, 0, 0,\n",
       "       0, 0, 0, 1, 1, 0, 1, 0, 0, 0, 0, 1, 0, 0, 1, 1, 0, 0, 1, 0, 0, 0,\n",
       "       1, 0, 1, 1, 0, 0, 1, 0, 0, 0, 0, 0, 0, 1, 0, 0, 0, 1, 0, 1, 0, 0,\n",
       "       0, 0, 0, 0, 0, 0, 1, 1, 1, 1, 0, 0, 0, 1, 0, 0, 0, 0, 0, 0, 0, 0,\n",
       "       0, 1, 0, 0, 0, 0, 1, 0, 0, 1, 0, 0, 1, 0, 0, 0, 1, 1, 0, 0, 1, 1,\n",
       "       1, 0, 1, 0, 0, 1, 0, 0, 0, 0, 0, 0, 0, 0, 0, 0, 0, 0, 1, 0, 0, 0,\n",
       "       1, 0, 1, 1, 1, 0, 0, 0, 0, 1, 0, 0, 0, 0, 0, 0, 0, 0, 0, 0, 1, 1,\n",
       "       0, 0, 0, 1, 0, 1, 0, 0, 0, 0, 0, 0, 0, 1, 0, 0, 0, 0, 1, 1, 0, 0,\n",
       "       0, 0, 0, 0, 0, 1, 0, 0, 1, 0, 0, 0, 0, 1, 1, 1, 1, 0, 0, 0, 0, 1,\n",
       "       0, 1, 0, 0, 0, 0, 0, 0, 1, 0, 0, 0, 1, 0, 0, 0, 0, 1, 1, 0, 0, 0,\n",
       "       0, 1, 0, 1, 0, 0, 0, 0, 0, 0, 1, 0, 0, 0, 0, 1, 1, 1, 0, 0, 0, 1,\n",
       "       1, 1, 1, 1, 0, 0, 0, 0, 0, 0, 0, 0, 0, 1, 1, 0, 0, 0, 0, 0, 0, 1,\n",
       "       1, 1, 0, 1, 0, 1, 0, 1, 0, 1, 0, 0, 0, 0, 0, 1, 0, 1, 0, 1, 1, 0,\n",
       "       0, 1, 0, 1, 0, 1, 0, 0, 1, 1, 0, 1, 1, 1, 0, 0, 0, 1, 0, 0, 0, 0,\n",
       "       0, 0, 0, 0, 0, 0, 0, 0, 0], dtype=int64)"
      ]
     },
     "execution_count": 43,
     "metadata": {},
     "output_type": "execute_result"
    }
   ],
   "source": [
    "previsoes = logistic_estrutura.predict(x_estruturas_testing)\n",
    "previsoes"
   ]
  },
  {
   "cell_type": "code",
   "execution_count": 44,
   "id": "52929b98",
   "metadata": {},
   "outputs": [
    {
     "data": {
      "text/plain": [
       "0.6897506925207756"
      ]
     },
     "execution_count": 44,
     "metadata": {},
     "output_type": "execute_result"
    }
   ],
   "source": [
    "from sklearn.metrics import accuracy_score, classification_report\n",
    "accuracy_score(y_estruturas_testing, previsoes)"
   ]
  },
  {
   "cell_type": "code",
   "execution_count": 45,
   "id": "229dae7f",
   "metadata": {},
   "outputs": [
    {
     "data": {
      "text/plain": [
       "0.6897506925207756"
      ]
     },
     "execution_count": 45,
     "metadata": {},
     "output_type": "execute_result"
    },
    {
     "data": {
      "image/png": "[encoded data removed]",
      "text/plain": [
       "<Figure size 800x550 with 1 Axes>"
      ]
     },
     "metadata": {},
     "output_type": "display_data"
    }
   ],
   "source": [
    "from yellowbrick.classifier import ConfusionMatrix\n",
    "cm = ConfusionMatrix(logistic_estrutura)\n",
    "cm.fit(x_estruturas_treining, y_estruturas_treining)\n",
    "cm.score(x_estruturas_testing, y_estruturas_testing)"
   ]
  },
  {
   "cell_type": "code",
   "execution_count": 46,
   "id": "232413cf",
   "metadata": {},
   "outputs": [
    {
     "name": "stdout",
     "output_type": "stream",
     "text": [
      "              precision    recall  f1-score   support\n",
      "\n",
      "           0       0.75      0.78      0.77       237\n",
      "           1       0.55      0.51      0.53       124\n",
      "\n",
      "    accuracy                           0.69       361\n",
      "   macro avg       0.65      0.65      0.65       361\n",
      "weighted avg       0.68      0.69      0.69       361\n",
      "\n"
     ]
    }
   ],
   "source": [
    "print(classification_report(y_estruturas_testing, previsoes))"
   ]
  },
  {
   "cell_type": "code",
   "execution_count": 47,
   "id": "9d4e7af9",
   "metadata": {},
   "outputs": [],
   "source": [
    "# Árvores de Decisão\n",
    "from sklearn.tree import DecisionTreeClassifier\n",
    "\n"
   ]
  },
  {
   "cell_type": "code",
   "execution_count": 48,
   "id": "2f7a742c",
   "metadata": {},
   "outputs": [
    {
     "data": {
      "text/plain": [
       "((361, 16), (361,))"
      ]
     },
     "execution_count": 48,
     "metadata": {},
     "output_type": "execute_result"
    }
   ],
   "source": [
    "x_estruturas_treining.shape, y_estruturas_treining.shape\n",
    "x_estruturas_testing.shape, y_estruturas_testing.shape"
   ]
  },
  {
   "cell_type": "code",
   "execution_count": 49,
   "id": "9ef09c1d",
   "metadata": {},
   "outputs": [
    {
     "data": {
      "text/html": [
       "<style>#sk-container-id-3 {color: black;background-color: white;}#sk-container-id-3 pre{padding: 0;}#sk-container-id-3 div.sk-toggleable {background-color: white;}#sk-container-id-3 label.sk-toggleable__label {cursor: pointer;display: block;width: 100%;margin-bottom: 0;padding: 0.3em;box-sizing: border-box;text-align: center;}#sk-container-id-3 label.sk-toggleable__label-arrow:before {content: \"▸\";float: left;margin-right: 0.25em;color: #696969;}#sk-container-id-3 label.sk-toggleable__label-arrow:hover:before {color: black;}#sk-container-id-3 div.sk-estimator:hover label.sk-toggleable__label-arrow:before {color: black;}#sk-container-id-3 div.sk-toggleable__content {max-height: 0;max-width: 0;overflow: hidden;text-align: left;background-color: #f0f8ff;}#sk-container-id-3 div.sk-toggleable__content pre {margin: 0.2em;color: black;border-radius: 0.25em;background-color: #f0f8ff;}#sk-container-id-3 input.sk-toggleable__control:checked~div.sk-toggleable__content {max-height: 200px;max-width: 100%;overflow: auto;}#sk-container-id-3 input.sk-toggleable__control:checked~label.sk-toggleable__label-arrow:before {content: \"▾\";}#sk-container-id-3 div.sk-estimator input.sk-toggleable__control:checked~label.sk-toggleable__label {background-color: #d4ebff;}#sk-container-id-3 div.sk-label input.sk-toggleable__control:checked~label.sk-toggleable__label {background-color: #d4ebff;}#sk-container-id-3 input.sk-hidden--visually {border: 0;clip: rect(1px 1px 1px 1px);clip: rect(1px, 1px, 1px, 1px);height: 1px;margin: -1px;overflow: hidden;padding: 0;position: absolute;width: 1px;}#sk-container-id-3 div.sk-estimator {font-family: monospace;background-color: #f0f8ff;border: 1px dotted black;border-radius: 0.25em;box-sizing: border-box;margin-bottom: 0.5em;}#sk-container-id-3 div.sk-estimator:hover {background-color: #d4ebff;}#sk-container-id-3 div.sk-parallel-item::after {content: \"\";width: 100%;border-bottom: 1px solid gray;flex-grow: 1;}#sk-container-id-3 div.sk-label:hover label.sk-toggleable__label {background-color: #d4ebff;}#sk-container-id-3 div.sk-serial::before {content: \"\";position: absolute;border-left: 1px solid gray;box-sizing: border-box;top: 0;bottom: 0;left: 50%;z-index: 0;}#sk-container-id-3 div.sk-serial {display: flex;flex-direction: column;align-items: center;background-color: white;padding-right: 0.2em;padding-left: 0.2em;position: relative;}#sk-container-id-3 div.sk-item {position: relative;z-index: 1;}#sk-container-id-3 div.sk-parallel {display: flex;align-items: stretch;justify-content: center;background-color: white;position: relative;}#sk-container-id-3 div.sk-item::before, #sk-container-id-3 div.sk-parallel-item::before {content: \"\";position: absolute;border-left: 1px solid gray;box-sizing: border-box;top: 0;bottom: 0;left: 50%;z-index: -1;}#sk-container-id-3 div.sk-parallel-item {display: flex;flex-direction: column;z-index: 1;position: relative;background-color: white;}#sk-container-id-3 div.sk-parallel-item:first-child::after {align-self: flex-end;width: 50%;}#sk-container-id-3 div.sk-parallel-item:last-child::after {align-self: flex-start;width: 50%;}#sk-container-id-3 div.sk-parallel-item:only-child::after {width: 0;}#sk-container-id-3 div.sk-dashed-wrapped {border: 1px dashed gray;margin: 0 0.4em 0.5em 0.4em;box-sizing: border-box;padding-bottom: 0.4em;background-color: white;}#sk-container-id-3 div.sk-label label {font-family: monospace;font-weight: bold;display: inline-block;line-height: 1.2em;}#sk-container-id-3 div.sk-label-container {text-align: center;}#sk-container-id-3 div.sk-container {/* jupyter's `normalize.less` sets `[hidden] { display: none; }` but bootstrap.min.css set `[hidden] { display: none !important; }` so we also need the `!important` here to be able to override the default hidden behavior on the sphinx rendered scikit-learn.org. See: https://github.com/scikit-learn/scikit-learn/issues/21755 */display: inline-block !important;position: relative;}#sk-container-id-3 div.sk-text-repr-fallback {display: none;}</style><div id=\"sk-container-id-3\" class=\"sk-top-container\"><div class=\"sk-text-repr-fallback\"><pre>DecisionTreeClassifier(criterion=&#x27;entropy&#x27;, random_state=0)</pre><b>In a Jupyter environment, please rerun this cell to show the HTML representation or trust the notebook. <br />On GitHub, the HTML representation is unable to render, please try loading this page with nbviewer.org.</b></div><div class=\"sk-container\" hidden><div class=\"sk-item\"><div class=\"sk-estimator sk-toggleable\"><input class=\"sk-toggleable__control sk-hidden--visually\" id=\"sk-estimator-id-3\" type=\"checkbox\" checked><label for=\"sk-estimator-id-3\" class=\"sk-toggleable__label sk-toggleable__label-arrow\">DecisionTreeClassifier</label><div class=\"sk-toggleable__content\"><pre>DecisionTreeClassifier(criterion=&#x27;entropy&#x27;, random_state=0)</pre></div></div></div></div></div>"
      ],
      "text/plain": [
       "DecisionTreeClassifier(criterion='entropy', random_state=0)"
      ]
     },
     "execution_count": 49,
     "metadata": {},
     "output_type": "execute_result"
    }
   ],
   "source": [
    "arvore_estrutura = DecisionTreeClassifier(criterion='entropy', random_state=0)\n",
    "arvore_estrutura.fit(x_estruturas_treining, y_estruturas_treining)"
   ]
  },
  {
   "cell_type": "code",
   "execution_count": 50,
   "id": "9d1c934d",
   "metadata": {},
   "outputs": [
    {
     "data": {
      "text/plain": [
       "array([0, 1, 0, 1, 0, 0, 0, 0, 0, 0, 1, 1, 1, 0, 0, 1, 0, 1, 0, 1, 0, 0,\n",
       "       0, 0, 0, 0, 0, 1, 0, 0, 0, 1, 1, 1, 1, 0, 1, 0, 0, 1, 0, 1, 0, 1,\n",
       "       0, 1, 0, 1, 1, 0, 0, 1, 1, 1, 0, 1, 0, 0, 1, 1, 1, 0, 1, 0, 0, 0,\n",
       "       0, 0, 0, 0, 0, 1, 0, 0, 0, 0, 0, 1, 0, 0, 0, 0, 1, 0, 1, 0, 1, 0,\n",
       "       1, 0, 1, 1, 0, 0, 0, 0, 0, 0, 1, 0, 1, 1, 0, 0, 0, 0, 0, 0, 0, 0,\n",
       "       0, 1, 1, 0, 1, 0, 1, 1, 0, 1, 1, 0, 0, 1, 1, 0, 1, 0, 0, 1, 0, 0,\n",
       "       0, 1, 1, 0, 0, 1, 1, 0, 0, 0, 0, 0, 1, 1, 0, 0, 0, 0, 0, 0, 1, 0,\n",
       "       1, 0, 0, 0, 0, 0, 1, 0, 0, 1, 0, 0, 0, 0, 0, 1, 0, 0, 0, 0, 0, 1,\n",
       "       1, 1, 1, 0, 0, 0, 1, 0, 0, 1, 0, 1, 0, 0, 0, 0, 0, 1, 0, 0, 0, 0,\n",
       "       0, 0, 0, 1, 0, 1, 1, 0, 0, 1, 0, 0, 0, 0, 0, 0, 0, 1, 1, 1, 1, 0,\n",
       "       1, 0, 1, 1, 0, 0, 0, 1, 0, 0, 0, 0, 0, 1, 1, 1, 0, 1, 0, 0, 0, 0,\n",
       "       0, 0, 0, 1, 0, 0, 1, 1, 1, 0, 0, 0, 0, 0, 0, 0, 1, 1, 0, 0, 0, 0,\n",
       "       1, 1, 0, 0, 0, 1, 0, 0, 0, 0, 0, 1, 1, 0, 0, 1, 1, 0, 0, 1, 1, 1,\n",
       "       1, 0, 1, 1, 0, 0, 0, 0, 1, 0, 1, 1, 0, 1, 1, 1, 1, 1, 0, 0, 0, 1,\n",
       "       1, 0, 0, 0, 0, 1, 0, 0, 0, 1, 0, 1, 0, 0, 1, 1, 0, 0, 1, 0, 1, 1,\n",
       "       1, 1, 1, 1, 1, 1, 0, 0, 1, 1, 0, 0, 0, 1, 1, 0, 0, 1, 0, 0, 0, 0,\n",
       "       0, 1, 0, 0, 1, 0, 0, 0, 1], dtype=int64)"
      ]
     },
     "execution_count": 50,
     "metadata": {},
     "output_type": "execute_result"
    }
   ],
   "source": [
    "previsoes = arvore_estrutura.predict(x_estruturas_testing)\n",
    "previsoes"
   ]
  },
  {
   "cell_type": "code",
   "execution_count": 51,
   "id": "7f2e122f",
   "metadata": {},
   "outputs": [
    {
     "data": {
      "text/plain": [
       "0.590027700831025"
      ]
     },
     "execution_count": 51,
     "metadata": {},
     "output_type": "execute_result"
    }
   ],
   "source": [
    "accuracy_score(y_estruturas_testing, previsoes)"
   ]
  },
  {
   "cell_type": "code",
   "execution_count": 52,
   "id": "b03dc286",
   "metadata": {},
   "outputs": [
    {
     "data": {
      "text/plain": [
       "0.590027700831025"
      ]
     },
     "execution_count": 52,
     "metadata": {},
     "output_type": "execute_result"
    },
    {
     "data": {
      "image/png": "[encoded data removed]",
      "text/plain": [
       "<Figure size 800x550 with 1 Axes>"
      ]
     },
     "metadata": {},
     "output_type": "display_data"
    }
   ],
   "source": [
    "from yellowbrick.classifier import ConfusionMatrix\n",
    "cm = ConfusionMatrix(arvore_estrutura)\n",
    "cm.fit(x_estruturas_treining, y_estruturas_treining)\n",
    "cm.score(x_estruturas_testing, y_estruturas_testing)"
   ]
  },
  {
   "cell_type": "code",
   "execution_count": 53,
   "id": "18bb6496",
   "metadata": {},
   "outputs": [
    {
     "name": "stdout",
     "output_type": "stream",
     "text": [
      "              precision    recall  f1-score   support\n",
      "\n",
      "           0       0.70      0.66      0.68       237\n",
      "           1       0.41      0.45      0.43       124\n",
      "\n",
      "    accuracy                           0.59       361\n",
      "   macro avg       0.55      0.56      0.56       361\n",
      "weighted avg       0.60      0.59      0.59       361\n",
      "\n"
     ]
    }
   ],
   "source": [
    "print(classification_report(y_estruturas_testing, previsoes))"
   ]
  },
  {
   "cell_type": "code",
   "execution_count": 54,
   "id": "8ce8ee1a",
   "metadata": {},
   "outputs": [],
   "source": [
    "# Random Forest\n",
    "from sklearn.ensemble import RandomForestClassifier"
   ]
  },
  {
   "cell_type": "code",
   "execution_count": 55,
   "id": "9f75ffdf",
   "metadata": {},
   "outputs": [
    {
     "data": {
      "text/html": [
       "<style>#sk-container-id-4 {color: black;background-color: white;}#sk-container-id-4 pre{padding: 0;}#sk-container-id-4 div.sk-toggleable {background-color: white;}#sk-container-id-4 label.sk-toggleable__label {cursor: pointer;display: block;width: 100%;margin-bottom: 0;padding: 0.3em;box-sizing: border-box;text-align: center;}#sk-container-id-4 label.sk-toggleable__label-arrow:before {content: \"▸\";float: left;margin-right: 0.25em;color: #696969;}#sk-container-id-4 label.sk-toggleable__label-arrow:hover:before {color: black;}#sk-container-id-4 div.sk-estimator:hover label.sk-toggleable__label-arrow:before {color: black;}#sk-container-id-4 div.sk-toggleable__content {max-height: 0;max-width: 0;overflow: hidden;text-align: left;background-color: #f0f8ff;}#sk-container-id-4 div.sk-toggleable__content pre {margin: 0.2em;color: black;border-radius: 0.25em;background-color: #f0f8ff;}#sk-container-id-4 input.sk-toggleable__control:checked~div.sk-toggleable__content {max-height: 200px;max-width: 100%;overflow: auto;}#sk-container-id-4 input.sk-toggleable__control:checked~label.sk-toggleable__label-arrow:before {content: \"▾\";}#sk-container-id-4 div.sk-estimator input.sk-toggleable__control:checked~label.sk-toggleable__label {background-color: #d4ebff;}#sk-container-id-4 div.sk-label input.sk-toggleable__control:checked~label.sk-toggleable__label {background-color: #d4ebff;}#sk-container-id-4 input.sk-hidden--visually {border: 0;clip: rect(1px 1px 1px 1px);clip: rect(1px, 1px, 1px, 1px);height: 1px;margin: -1px;overflow: hidden;padding: 0;position: absolute;width: 1px;}#sk-container-id-4 div.sk-estimator {font-family: monospace;background-color: #f0f8ff;border: 1px dotted black;border-radius: 0.25em;box-sizing: border-box;margin-bottom: 0.5em;}#sk-container-id-4 div.sk-estimator:hover {background-color: #d4ebff;}#sk-container-id-4 div.sk-parallel-item::after {content: \"\";width: 100%;border-bottom: 1px solid gray;flex-grow: 1;}#sk-container-id-4 div.sk-label:hover label.sk-toggleable__label {background-color: #d4ebff;}#sk-container-id-4 div.sk-serial::before {content: \"\";position: absolute;border-left: 1px solid gray;box-sizing: border-box;top: 0;bottom: 0;left: 50%;z-index: 0;}#sk-container-id-4 div.sk-serial {display: flex;flex-direction: column;align-items: center;background-color: white;padding-right: 0.2em;padding-left: 0.2em;position: relative;}#sk-container-id-4 div.sk-item {position: relative;z-index: 1;}#sk-container-id-4 div.sk-parallel {display: flex;align-items: stretch;justify-content: center;background-color: white;position: relative;}#sk-container-id-4 div.sk-item::before, #sk-container-id-4 div.sk-parallel-item::before {content: \"\";position: absolute;border-left: 1px solid gray;box-sizing: border-box;top: 0;bottom: 0;left: 50%;z-index: -1;}#sk-container-id-4 div.sk-parallel-item {display: flex;flex-direction: column;z-index: 1;position: relative;background-color: white;}#sk-container-id-4 div.sk-parallel-item:first-child::after {align-self: flex-end;width: 50%;}#sk-container-id-4 div.sk-parallel-item:last-child::after {align-self: flex-start;width: 50%;}#sk-container-id-4 div.sk-parallel-item:only-child::after {width: 0;}#sk-container-id-4 div.sk-dashed-wrapped {border: 1px dashed gray;margin: 0 0.4em 0.5em 0.4em;box-sizing: border-box;padding-bottom: 0.4em;background-color: white;}#sk-container-id-4 div.sk-label label {font-family: monospace;font-weight: bold;display: inline-block;line-height: 1.2em;}#sk-container-id-4 div.sk-label-container {text-align: center;}#sk-container-id-4 div.sk-container {/* jupyter's `normalize.less` sets `[hidden] { display: none; }` but bootstrap.min.css set `[hidden] { display: none !important; }` so we also need the `!important` here to be able to override the default hidden behavior on the sphinx rendered scikit-learn.org. See: https://github.com/scikit-learn/scikit-learn/issues/21755 */display: inline-block !important;position: relative;}#sk-container-id-4 div.sk-text-repr-fallback {display: none;}</style><div id=\"sk-container-id-4\" class=\"sk-top-container\"><div class=\"sk-text-repr-fallback\"><pre>RandomForestClassifier(criterion=&#x27;entropy&#x27;, n_estimators=50, random_state=0)</pre><b>In a Jupyter environment, please rerun this cell to show the HTML representation or trust the notebook. <br />On GitHub, the HTML representation is unable to render, please try loading this page with nbviewer.org.</b></div><div class=\"sk-container\" hidden><div class=\"sk-item\"><div class=\"sk-estimator sk-toggleable\"><input class=\"sk-toggleable__control sk-hidden--visually\" id=\"sk-estimator-id-4\" type=\"checkbox\" checked><label for=\"sk-estimator-id-4\" class=\"sk-toggleable__label sk-toggleable__label-arrow\">RandomForestClassifier</label><div class=\"sk-toggleable__content\"><pre>RandomForestClassifier(criterion=&#x27;entropy&#x27;, n_estimators=50, random_state=0)</pre></div></div></div></div></div>"
      ],
      "text/plain": [
       "RandomForestClassifier(criterion='entropy', n_estimators=50, random_state=0)"
      ]
     },
     "execution_count": 55,
     "metadata": {},
     "output_type": "execute_result"
    }
   ],
   "source": [
    "random_forest_estrutura = RandomForestClassifier(n_estimators=50, criterion=\"entropy\", random_state=0)\n",
    "random_forest_estrutura.fit(x_estruturas_treining, y_estruturas_treining)"
   ]
  },
  {
   "cell_type": "code",
   "execution_count": 56,
   "id": "8f2ea131",
   "metadata": {},
   "outputs": [
    {
     "data": {
      "text/plain": [
       "array([0, 0, 0, 1, 1, 0, 0, 0, 1, 0, 1, 0, 0, 0, 0, 1, 0, 1, 1, 0, 1, 0,\n",
       "       0, 1, 0, 1, 1, 1, 0, 0, 0, 0, 1, 0, 1, 0, 1, 0, 1, 1, 0, 1, 0, 1,\n",
       "       0, 1, 0, 0, 0, 0, 0, 0, 1, 1, 0, 1, 1, 1, 1, 0, 1, 1, 0, 0, 0, 0,\n",
       "       0, 0, 0, 0, 0, 0, 1, 0, 0, 0, 0, 0, 0, 1, 0, 1, 0, 0, 1, 0, 1, 0,\n",
       "       1, 0, 1, 1, 0, 0, 1, 0, 0, 0, 0, 0, 0, 0, 0, 0, 0, 0, 0, 0, 0, 0,\n",
       "       0, 1, 0, 1, 0, 0, 1, 1, 0, 1, 0, 0, 0, 1, 0, 0, 0, 0, 0, 0, 0, 0,\n",
       "       0, 0, 0, 1, 0, 0, 1, 0, 0, 1, 0, 0, 0, 1, 0, 0, 1, 0, 0, 0, 1, 0,\n",
       "       1, 0, 0, 0, 0, 0, 1, 0, 1, 1, 0, 0, 0, 0, 0, 0, 0, 1, 1, 0, 0, 1,\n",
       "       1, 0, 1, 0, 0, 0, 1, 0, 1, 0, 0, 1, 0, 0, 0, 0, 0, 0, 0, 0, 0, 1,\n",
       "       0, 0, 0, 1, 0, 1, 0, 0, 0, 0, 0, 0, 0, 1, 0, 1, 0, 0, 0, 1, 0, 0,\n",
       "       0, 0, 0, 1, 0, 1, 0, 0, 1, 0, 0, 0, 0, 1, 1, 1, 1, 1, 0, 0, 0, 1,\n",
       "       0, 1, 0, 0, 0, 0, 0, 0, 1, 0, 0, 0, 0, 0, 0, 0, 0, 1, 0, 1, 0, 0,\n",
       "       0, 0, 0, 1, 1, 0, 0, 0, 0, 0, 0, 0, 0, 0, 1, 1, 1, 1, 0, 0, 0, 1,\n",
       "       1, 0, 0, 1, 0, 0, 1, 0, 0, 0, 0, 0, 0, 1, 1, 0, 0, 0, 0, 0, 0, 1,\n",
       "       1, 1, 0, 1, 0, 1, 0, 1, 0, 1, 0, 1, 0, 0, 0, 1, 0, 1, 0, 0, 1, 0,\n",
       "       0, 1, 1, 1, 0, 1, 0, 0, 1, 1, 0, 0, 1, 1, 0, 0, 0, 0, 0, 0, 0, 0,\n",
       "       0, 0, 0, 1, 1, 0, 0, 0, 0], dtype=int64)"
      ]
     },
     "execution_count": 56,
     "metadata": {},
     "output_type": "execute_result"
    }
   ],
   "source": [
    "previsoes = random_forest_estrutura.predict(x_estruturas_testing)\n",
    "previsoes"
   ]
  },
  {
   "cell_type": "code",
   "execution_count": 57,
   "id": "449d3a65",
   "metadata": {},
   "outputs": [
    {
     "data": {
      "text/plain": [
       "0.7202216066481995"
      ]
     },
     "execution_count": 57,
     "metadata": {},
     "output_type": "execute_result"
    }
   ],
   "source": [
    "accuracy_score(y_estruturas_testing, previsoes)"
   ]
  },
  {
   "cell_type": "code",
   "execution_count": 58,
   "id": "9c0482d2",
   "metadata": {},
   "outputs": [
    {
     "data": {
      "text/plain": [
       "0.7202216066481995"
      ]
     },
     "execution_count": 58,
     "metadata": {},
     "output_type": "execute_result"
    },
    {
     "data": {
      "image/png": "[encoded data removed]",
      "text/plain": [
       "<Figure size 800x550 with 1 Axes>"
      ]
     },
     "metadata": {},
     "output_type": "display_data"
    }
   ],
   "source": [
    "from yellowbrick.classifier import ConfusionMatrix\n",
    "cm = ConfusionMatrix(random_forest_estrutura)\n",
    "cm.fit(x_estruturas_treining, y_estruturas_treining)\n",
    "cm.score(x_estruturas_testing, y_estruturas_testing)"
   ]
  },
  {
   "cell_type": "code",
   "execution_count": 59,
   "id": "bc66181c",
   "metadata": {},
   "outputs": [],
   "source": [
    "# kNN\n",
    "from sklearn.neighbors import KNeighborsClassifier"
   ]
  },
  {
   "cell_type": "code",
   "execution_count": 60,
   "id": "a50b9307",
   "metadata": {},
   "outputs": [
    {
     "data": {
      "text/html": [
       "<style>#sk-container-id-5 {color: black;background-color: white;}#sk-container-id-5 pre{padding: 0;}#sk-container-id-5 div.sk-toggleable {background-color: white;}#sk-container-id-5 label.sk-toggleable__label {cursor: pointer;display: block;width: 100%;margin-bottom: 0;padding: 0.3em;box-sizing: border-box;text-align: center;}#sk-container-id-5 label.sk-toggleable__label-arrow:before {content: \"▸\";float: left;margin-right: 0.25em;color: #696969;}#sk-container-id-5 label.sk-toggleable__label-arrow:hover:before {color: black;}#sk-container-id-5 div.sk-estimator:hover label.sk-toggleable__label-arrow:before {color: black;}#sk-container-id-5 div.sk-toggleable__content {max-height: 0;max-width: 0;overflow: hidden;text-align: left;background-color: #f0f8ff;}#sk-container-id-5 div.sk-toggleable__content pre {margin: 0.2em;color: black;border-radius: 0.25em;background-color: #f0f8ff;}#sk-container-id-5 input.sk-toggleable__control:checked~div.sk-toggleable__content {max-height: 200px;max-width: 100%;overflow: auto;}#sk-container-id-5 input.sk-toggleable__control:checked~label.sk-toggleable__label-arrow:before {content: \"▾\";}#sk-container-id-5 div.sk-estimator input.sk-toggleable__control:checked~label.sk-toggleable__label {background-color: #d4ebff;}#sk-container-id-5 div.sk-label input.sk-toggleable__control:checked~label.sk-toggleable__label {background-color: #d4ebff;}#sk-container-id-5 input.sk-hidden--visually {border: 0;clip: rect(1px 1px 1px 1px);clip: rect(1px, 1px, 1px, 1px);height: 1px;margin: -1px;overflow: hidden;padding: 0;position: absolute;width: 1px;}#sk-container-id-5 div.sk-estimator {font-family: monospace;background-color: #f0f8ff;border: 1px dotted black;border-radius: 0.25em;box-sizing: border-box;margin-bottom: 0.5em;}#sk-container-id-5 div.sk-estimator:hover {background-color: #d4ebff;}#sk-container-id-5 div.sk-parallel-item::after {content: \"\";width: 100%;border-bottom: 1px solid gray;flex-grow: 1;}#sk-container-id-5 div.sk-label:hover label.sk-toggleable__label {background-color: #d4ebff;}#sk-container-id-5 div.sk-serial::before {content: \"\";position: absolute;border-left: 1px solid gray;box-sizing: border-box;top: 0;bottom: 0;left: 50%;z-index: 0;}#sk-container-id-5 div.sk-serial {display: flex;flex-direction: column;align-items: center;background-color: white;padding-right: 0.2em;padding-left: 0.2em;position: relative;}#sk-container-id-5 div.sk-item {position: relative;z-index: 1;}#sk-container-id-5 div.sk-parallel {display: flex;align-items: stretch;justify-content: center;background-color: white;position: relative;}#sk-container-id-5 div.sk-item::before, #sk-container-id-5 div.sk-parallel-item::before {content: \"\";position: absolute;border-left: 1px solid gray;box-sizing: border-box;top: 0;bottom: 0;left: 50%;z-index: -1;}#sk-container-id-5 div.sk-parallel-item {display: flex;flex-direction: column;z-index: 1;position: relative;background-color: white;}#sk-container-id-5 div.sk-parallel-item:first-child::after {align-self: flex-end;width: 50%;}#sk-container-id-5 div.sk-parallel-item:last-child::after {align-self: flex-start;width: 50%;}#sk-container-id-5 div.sk-parallel-item:only-child::after {width: 0;}#sk-container-id-5 div.sk-dashed-wrapped {border: 1px dashed gray;margin: 0 0.4em 0.5em 0.4em;box-sizing: border-box;padding-bottom: 0.4em;background-color: white;}#sk-container-id-5 div.sk-label label {font-family: monospace;font-weight: bold;display: inline-block;line-height: 1.2em;}#sk-container-id-5 div.sk-label-container {text-align: center;}#sk-container-id-5 div.sk-container {/* jupyter's `normalize.less` sets `[hidden] { display: none; }` but bootstrap.min.css set `[hidden] { display: none !important; }` so we also need the `!important` here to be able to override the default hidden behavior on the sphinx rendered scikit-learn.org. See: https://github.com/scikit-learn/scikit-learn/issues/21755 */display: inline-block !important;position: relative;}#sk-container-id-5 div.sk-text-repr-fallback {display: none;}</style><div id=\"sk-container-id-5\" class=\"sk-top-container\"><div class=\"sk-text-repr-fallback\"><pre>KNeighborsClassifier()</pre><b>In a Jupyter environment, please rerun this cell to show the HTML representation or trust the notebook. <br />On GitHub, the HTML representation is unable to render, please try loading this page with nbviewer.org.</b></div><div class=\"sk-container\" hidden><div class=\"sk-item\"><div class=\"sk-estimator sk-toggleable\"><input class=\"sk-toggleable__control sk-hidden--visually\" id=\"sk-estimator-id-5\" type=\"checkbox\" checked><label for=\"sk-estimator-id-5\" class=\"sk-toggleable__label sk-toggleable__label-arrow\">KNeighborsClassifier</label><div class=\"sk-toggleable__content\"><pre>KNeighborsClassifier()</pre></div></div></div></div></div>"
      ],
      "text/plain": [
       "KNeighborsClassifier()"
      ]
     },
     "execution_count": 60,
     "metadata": {},
     "output_type": "execute_result"
    }
   ],
   "source": [
    "knn_estrutura = KNeighborsClassifier(n_neighbors=5, metric='minkowski', p=2)\n",
    "knn_estrutura.fit(x_estruturas_treining, y_estruturas_treining)\n"
   ]
  },
  {
   "cell_type": "code",
   "execution_count": 61,
   "id": "d9b06955",
   "metadata": {},
   "outputs": [
    {
     "data": {
      "text/plain": [
       "array([0, 1, 0, 1, 1, 0, 0, 1, 1, 0, 1, 0, 0, 0, 0, 1, 0, 1, 0, 0, 1, 0,\n",
       "       0, 0, 1, 0, 1, 1, 0, 0, 1, 0, 1, 0, 1, 0, 1, 1, 1, 0, 0, 0, 1, 1,\n",
       "       0, 1, 0, 0, 0, 1, 0, 1, 0, 1, 0, 1, 0, 1, 1, 0, 1, 1, 0, 1, 0, 0,\n",
       "       0, 0, 0, 0, 1, 1, 1, 0, 0, 0, 0, 1, 0, 1, 0, 1, 0, 0, 1, 0, 1, 0,\n",
       "       1, 1, 1, 0, 0, 0, 1, 0, 0, 0, 0, 0, 0, 1, 0, 1, 1, 1, 0, 1, 0, 0,\n",
       "       0, 1, 0, 1, 0, 0, 1, 1, 1, 1, 1, 0, 0, 1, 0, 0, 0, 1, 0, 0, 0, 0,\n",
       "       0, 1, 1, 1, 0, 0, 0, 0, 1, 0, 0, 0, 0, 1, 1, 0, 0, 1, 0, 1, 1, 1,\n",
       "       0, 0, 1, 0, 0, 0, 1, 0, 0, 1, 0, 0, 0, 0, 0, 0, 0, 0, 0, 0, 0, 1,\n",
       "       1, 1, 1, 1, 1, 0, 1, 0, 0, 1, 0, 1, 0, 0, 1, 0, 0, 0, 0, 1, 0, 1,\n",
       "       1, 0, 0, 1, 0, 1, 1, 0, 0, 0, 0, 0, 0, 0, 0, 1, 1, 1, 1, 1, 0, 0,\n",
       "       0, 0, 1, 0, 0, 1, 1, 0, 1, 0, 0, 0, 0, 1, 1, 1, 1, 0, 0, 0, 0, 1,\n",
       "       0, 0, 0, 0, 0, 0, 0, 0, 1, 0, 0, 0, 0, 0, 0, 0, 1, 1, 0, 1, 0, 0,\n",
       "       0, 1, 0, 0, 1, 0, 0, 1, 0, 1, 1, 0, 0, 0, 1, 1, 0, 1, 0, 0, 0, 1,\n",
       "       1, 1, 1, 1, 0, 0, 0, 0, 0, 0, 0, 0, 0, 0, 0, 1, 1, 0, 0, 0, 0, 1,\n",
       "       1, 0, 0, 1, 0, 1, 1, 1, 0, 1, 0, 1, 0, 0, 1, 1, 0, 0, 1, 0, 1, 0,\n",
       "       0, 1, 1, 1, 0, 1, 0, 0, 0, 1, 0, 1, 1, 0, 0, 0, 0, 0, 0, 0, 0, 1,\n",
       "       1, 0, 0, 0, 0, 0, 0, 0, 1], dtype=int64)"
      ]
     },
     "execution_count": 61,
     "metadata": {},
     "output_type": "execute_result"
    }
   ],
   "source": [
    "previsoes = knn_estrutura.predict(x_estruturas_testing)\n",
    "previsoes"
   ]
  },
  {
   "cell_type": "code",
   "execution_count": 62,
   "id": "6d2f87a3",
   "metadata": {},
   "outputs": [
    {
     "data": {
      "text/plain": [
       "array([0, 0, 0, 1, 1, 0, 0, 0, 0, 0, 1, 0, 1, 0, 0, 0, 0, 1, 0, 1, 1, 0,\n",
       "       0, 0, 1, 1, 1, 1, 0, 0, 0, 0, 0, 0, 1, 0, 1, 1, 0, 1, 0, 0, 0, 1,\n",
       "       0, 0, 0, 0, 0, 0, 0, 1, 0, 1, 0, 0, 0, 1, 1, 1, 1, 1, 0, 0, 0, 0,\n",
       "       1, 0, 0, 1, 0, 1, 0, 0, 0, 0, 1, 0, 0, 1, 0, 1, 0, 1, 0, 0, 1, 0,\n",
       "       1, 0, 0, 1, 0, 0, 1, 0, 0, 0, 0, 0, 0, 1, 1, 0, 0, 1, 1, 0, 0, 1,\n",
       "       0, 1, 0, 1, 0, 0, 1, 0, 1, 1, 1, 1, 1, 1, 0, 0, 0, 1, 0, 0, 0, 1,\n",
       "       0, 0, 0, 0, 0, 0, 0, 0, 0, 1, 0, 0, 0, 0, 0, 0, 1, 0, 0, 0, 1, 0,\n",
       "       0, 1, 0, 0, 0, 1, 1, 1, 1, 0, 0, 1, 1, 1, 0, 0, 0, 1, 0, 0, 0, 0,\n",
       "       1, 0, 1, 1, 0, 0, 0, 0, 0, 1, 0, 0, 0, 0, 1, 1, 0, 0, 0, 0, 0, 0,\n",
       "       0, 0, 0, 1, 0, 0, 0, 1, 0, 0, 0, 0, 0, 1, 1, 1, 0, 1, 0, 0, 0, 0,\n",
       "       0, 1, 0, 0, 0, 1, 1, 0, 0, 1, 0, 1, 0, 1, 1, 1, 1, 1, 1, 0, 0, 0,\n",
       "       0, 1, 0, 1, 0, 1, 0, 0, 0, 1, 0, 0, 0, 0, 1, 0, 0, 1, 0, 1, 1, 0,\n",
       "       0, 0, 0, 0, 0, 0, 0, 0, 0, 1, 1, 0, 0, 0, 1, 0, 0, 1, 0, 0, 0, 0,\n",
       "       0, 0, 0, 1, 0, 0, 0, 0, 1, 0, 0, 0, 0, 1, 1, 1, 0, 0, 0, 1, 0, 1,\n",
       "       0, 1, 0, 1, 0, 0, 0, 1, 1, 0, 0, 1, 0, 0, 1, 1, 0, 1, 0, 0, 1, 0,\n",
       "       0, 1, 0, 1, 0, 1, 0, 0, 1, 0, 0, 1, 1, 1, 1, 0, 0, 0, 1, 0, 0, 0,\n",
       "       0, 0, 0, 0, 1, 0, 0, 0, 1], dtype=int64)"
      ]
     },
     "execution_count": 62,
     "metadata": {},
     "output_type": "execute_result"
    }
   ],
   "source": [
    "y_estruturas_testing"
   ]
  },
  {
   "cell_type": "code",
   "execution_count": 63,
   "id": "23093d41",
   "metadata": {},
   "outputs": [
    {
     "data": {
      "text/plain": [
       "0.6620498614958449"
      ]
     },
     "execution_count": 63,
     "metadata": {},
     "output_type": "execute_result"
    }
   ],
   "source": [
    "accuracy_score(y_estruturas_testing, previsoes)"
   ]
  },
  {
   "cell_type": "code",
   "execution_count": 64,
   "id": "85c10b46",
   "metadata": {},
   "outputs": [
    {
     "data": {
      "text/plain": [
       "0.6620498614958449"
      ]
     },
     "execution_count": 64,
     "metadata": {},
     "output_type": "execute_result"
    },
    {
     "data": {
      "image/png": "[encoded data removed]",
      "text/plain": [
       "<Figure size 800x550 with 1 Axes>"
      ]
     },
     "metadata": {},
     "output_type": "display_data"
    }
   ],
   "source": [
    "from yellowbrick.classifier import ConfusionMatrix\n",
    "cm = ConfusionMatrix(knn_estrutura)\n",
    "cm.fit(x_estruturas_treining, y_estruturas_treining)\n",
    "cm.score(x_estruturas_testing, y_estruturas_testing)"
   ]
  },
  {
   "cell_type": "code",
   "execution_count": 65,
   "id": "d404d631",
   "metadata": {},
   "outputs": [],
   "source": [
    "from sklearn.svm import SVC"
   ]
  },
  {
   "cell_type": "code",
   "execution_count": 66,
   "id": "8ff4e259",
   "metadata": {},
   "outputs": [
    {
     "data": {
      "text/html": [
       "<style>#sk-container-id-6 {color: black;background-color: white;}#sk-container-id-6 pre{padding: 0;}#sk-container-id-6 div.sk-toggleable {background-color: white;}#sk-container-id-6 label.sk-toggleable__label {cursor: pointer;display: block;width: 100%;margin-bottom: 0;padding: 0.3em;box-sizing: border-box;text-align: center;}#sk-container-id-6 label.sk-toggleable__label-arrow:before {content: \"▸\";float: left;margin-right: 0.25em;color: #696969;}#sk-container-id-6 label.sk-toggleable__label-arrow:hover:before {color: black;}#sk-container-id-6 div.sk-estimator:hover label.sk-toggleable__label-arrow:before {color: black;}#sk-container-id-6 div.sk-toggleable__content {max-height: 0;max-width: 0;overflow: hidden;text-align: left;background-color: #f0f8ff;}#sk-container-id-6 div.sk-toggleable__content pre {margin: 0.2em;color: black;border-radius: 0.25em;background-color: #f0f8ff;}#sk-container-id-6 input.sk-toggleable__control:checked~div.sk-toggleable__content {max-height: 200px;max-width: 100%;overflow: auto;}#sk-container-id-6 input.sk-toggleable__control:checked~label.sk-toggleable__label-arrow:before {content: \"▾\";}#sk-container-id-6 div.sk-estimator input.sk-toggleable__control:checked~label.sk-toggleable__label {background-color: #d4ebff;}#sk-container-id-6 div.sk-label input.sk-toggleable__control:checked~label.sk-toggleable__label {background-color: #d4ebff;}#sk-container-id-6 input.sk-hidden--visually {border: 0;clip: rect(1px 1px 1px 1px);clip: rect(1px, 1px, 1px, 1px);height: 1px;margin: -1px;overflow: hidden;padding: 0;position: absolute;width: 1px;}#sk-container-id-6 div.sk-estimator {font-family: monospace;background-color: #f0f8ff;border: 1px dotted black;border-radius: 0.25em;box-sizing: border-box;margin-bottom: 0.5em;}#sk-container-id-6 div.sk-estimator:hover {background-color: #d4ebff;}#sk-container-id-6 div.sk-parallel-item::after {content: \"\";width: 100%;border-bottom: 1px solid gray;flex-grow: 1;}#sk-container-id-6 div.sk-label:hover label.sk-toggleable__label {background-color: #d4ebff;}#sk-container-id-6 div.sk-serial::before {content: \"\";position: absolute;border-left: 1px solid gray;box-sizing: border-box;top: 0;bottom: 0;left: 50%;z-index: 0;}#sk-container-id-6 div.sk-serial {display: flex;flex-direction: column;align-items: center;background-color: white;padding-right: 0.2em;padding-left: 0.2em;position: relative;}#sk-container-id-6 div.sk-item {position: relative;z-index: 1;}#sk-container-id-6 div.sk-parallel {display: flex;align-items: stretch;justify-content: center;background-color: white;position: relative;}#sk-container-id-6 div.sk-item::before, #sk-container-id-6 div.sk-parallel-item::before {content: \"\";position: absolute;border-left: 1px solid gray;box-sizing: border-box;top: 0;bottom: 0;left: 50%;z-index: -1;}#sk-container-id-6 div.sk-parallel-item {display: flex;flex-direction: column;z-index: 1;position: relative;background-color: white;}#sk-container-id-6 div.sk-parallel-item:first-child::after {align-self: flex-end;width: 50%;}#sk-container-id-6 div.sk-parallel-item:last-child::after {align-self: flex-start;width: 50%;}#sk-container-id-6 div.sk-parallel-item:only-child::after {width: 0;}#sk-container-id-6 div.sk-dashed-wrapped {border: 1px dashed gray;margin: 0 0.4em 0.5em 0.4em;box-sizing: border-box;padding-bottom: 0.4em;background-color: white;}#sk-container-id-6 div.sk-label label {font-family: monospace;font-weight: bold;display: inline-block;line-height: 1.2em;}#sk-container-id-6 div.sk-label-container {text-align: center;}#sk-container-id-6 div.sk-container {/* jupyter's `normalize.less` sets `[hidden] { display: none; }` but bootstrap.min.css set `[hidden] { display: none !important; }` so we also need the `!important` here to be able to override the default hidden behavior on the sphinx rendered scikit-learn.org. See: https://github.com/scikit-learn/scikit-learn/issues/21755 */display: inline-block !important;position: relative;}#sk-container-id-6 div.sk-text-repr-fallback {display: none;}</style><div id=\"sk-container-id-6\" class=\"sk-top-container\"><div class=\"sk-text-repr-fallback\"><pre>SVC(C=10.0, kernel=&#x27;linear&#x27;, random_state=1)</pre><b>In a Jupyter environment, please rerun this cell to show the HTML representation or trust the notebook. <br />On GitHub, the HTML representation is unable to render, please try loading this page with nbviewer.org.</b></div><div class=\"sk-container\" hidden><div class=\"sk-item\"><div class=\"sk-estimator sk-toggleable\"><input class=\"sk-toggleable__control sk-hidden--visually\" id=\"sk-estimator-id-6\" type=\"checkbox\" checked><label for=\"sk-estimator-id-6\" class=\"sk-toggleable__label sk-toggleable__label-arrow\">SVC</label><div class=\"sk-toggleable__content\"><pre>SVC(C=10.0, kernel=&#x27;linear&#x27;, random_state=1)</pre></div></div></div></div></div>"
      ],
      "text/plain": [
       "SVC(C=10.0, kernel='linear', random_state=1)"
      ]
     },
     "execution_count": 66,
     "metadata": {},
     "output_type": "execute_result"
    }
   ],
   "source": [
    "svm_estrutura = SVC(kernel='linear', random_state=1, C=10.0)\n",
    "svm_estrutura.fit(x_estruturas_treining, y_estruturas_treining)"
   ]
  },
  {
   "cell_type": "code",
   "execution_count": 67,
   "id": "3a27af11",
   "metadata": {},
   "outputs": [
    {
     "data": {
      "text/plain": [
       "array([0, 0, 0, 1, 1, 0, 0, 1, 0, 0, 1, 0, 0, 0, 0, 1, 0, 1, 0, 0, 1, 0,\n",
       "       0, 1, 1, 1, 1, 1, 0, 0, 0, 0, 0, 0, 1, 0, 1, 0, 1, 1, 0, 1, 0, 1,\n",
       "       0, 1, 0, 1, 0, 1, 0, 0, 1, 0, 0, 1, 0, 1, 1, 0, 1, 1, 1, 0, 0, 0,\n",
       "       0, 0, 0, 1, 1, 1, 1, 0, 0, 0, 0, 1, 0, 0, 1, 1, 0, 0, 1, 0, 0, 0,\n",
       "       1, 0, 1, 1, 0, 0, 1, 0, 0, 0, 0, 0, 0, 1, 0, 0, 0, 1, 1, 1, 0, 0,\n",
       "       0, 0, 0, 0, 0, 0, 1, 1, 1, 1, 0, 0, 0, 1, 0, 0, 0, 0, 0, 0, 0, 0,\n",
       "       0, 1, 0, 0, 0, 0, 1, 0, 0, 1, 0, 0, 1, 0, 0, 0, 1, 1, 0, 1, 1, 1,\n",
       "       1, 0, 1, 0, 0, 1, 0, 0, 0, 1, 0, 0, 0, 0, 0, 0, 0, 0, 1, 0, 0, 0,\n",
       "       1, 0, 1, 1, 1, 0, 0, 0, 0, 1, 0, 0, 0, 0, 1, 0, 0, 0, 0, 0, 1, 1,\n",
       "       0, 0, 0, 1, 0, 1, 0, 0, 0, 0, 0, 0, 0, 1, 0, 0, 0, 0, 1, 1, 0, 0,\n",
       "       0, 0, 1, 1, 0, 1, 0, 0, 1, 0, 0, 0, 0, 1, 1, 1, 1, 0, 0, 0, 0, 1,\n",
       "       1, 1, 0, 0, 0, 0, 0, 0, 1, 0, 0, 0, 1, 0, 0, 0, 0, 1, 1, 0, 0, 0,\n",
       "       0, 1, 0, 1, 0, 0, 0, 0, 0, 0, 1, 0, 0, 0, 0, 1, 1, 1, 0, 0, 0, 1,\n",
       "       1, 1, 1, 1, 0, 0, 0, 0, 0, 0, 0, 0, 0, 1, 1, 0, 0, 0, 0, 0, 0, 1,\n",
       "       1, 1, 0, 1, 0, 1, 0, 1, 0, 1, 0, 1, 0, 0, 0, 1, 0, 1, 0, 1, 1, 0,\n",
       "       0, 1, 0, 1, 0, 1, 0, 0, 1, 1, 0, 1, 1, 1, 0, 0, 0, 1, 0, 0, 0, 0,\n",
       "       0, 0, 0, 0, 0, 0, 0, 0, 0], dtype=int64)"
      ]
     },
     "execution_count": 67,
     "metadata": {},
     "output_type": "execute_result"
    }
   ],
   "source": [
    "previsoes = svm_estrutura.predict(x_estruturas_testing)\n",
    "previsoes"
   ]
  },
  {
   "cell_type": "code",
   "execution_count": 68,
   "id": "0a483578",
   "metadata": {},
   "outputs": [
    {
     "data": {
      "text/plain": [
       "0.6869806094182825"
      ]
     },
     "execution_count": 68,
     "metadata": {},
     "output_type": "execute_result"
    }
   ],
   "source": [
    "accuracy_score(y_estruturas_testing, previsoes)"
   ]
  },
  {
   "cell_type": "code",
   "execution_count": 69,
   "id": "87f40159",
   "metadata": {},
   "outputs": [
    {
     "name": "stdout",
     "output_type": "stream",
     "text": [
      "Iteration 1, loss = 0.63206406\n",
      "Iteration 2, loss = 0.57059885\n",
      "Iteration 3, loss = 0.55414360\n",
      "Iteration 4, loss = 0.54392357\n",
      "Iteration 5, loss = 0.53715076\n",
      "Iteration 6, loss = 0.53180322\n",
      "Iteration 7, loss = 0.52671523\n",
      "Iteration 8, loss = 0.52330496\n",
      "Iteration 9, loss = 0.51956544\n",
      "Iteration 10, loss = 0.51458446\n",
      "Iteration 11, loss = 0.51156681\n",
      "Iteration 12, loss = 0.50739198\n",
      "Iteration 13, loss = 0.50426788\n",
      "Iteration 14, loss = 0.50110762\n",
      "Iteration 15, loss = 0.49807240\n",
      "Iteration 16, loss = 0.49675066\n",
      "Iteration 17, loss = 0.49149322\n",
      "Iteration 18, loss = 0.48881137\n",
      "Iteration 19, loss = 0.48518083\n",
      "Iteration 20, loss = 0.48326474\n",
      "Iteration 21, loss = 0.47889124\n",
      "Iteration 22, loss = 0.47578777\n",
      "Iteration 23, loss = 0.47193298\n",
      "Iteration 24, loss = 0.46760817\n",
      "Iteration 25, loss = 0.46479039\n",
      "Iteration 26, loss = 0.46476410\n",
      "Iteration 27, loss = 0.46061709\n",
      "Iteration 28, loss = 0.45594318\n",
      "Iteration 29, loss = 0.45342478\n",
      "Iteration 30, loss = 0.45097657\n",
      "Iteration 31, loss = 0.44956396\n",
      "Iteration 32, loss = 0.44324834\n",
      "Iteration 33, loss = 0.44149134\n",
      "Iteration 34, loss = 0.43963188\n",
      "Iteration 35, loss = 0.43616001\n",
      "Iteration 36, loss = 0.43151697\n",
      "Iteration 37, loss = 0.42883040\n",
      "Iteration 38, loss = 0.42448031\n",
      "Iteration 39, loss = 0.42714291\n",
      "Iteration 40, loss = 0.42380818\n",
      "Iteration 41, loss = 0.41703092\n",
      "Iteration 42, loss = 0.41284411\n",
      "Iteration 43, loss = 0.40983209\n",
      "Iteration 44, loss = 0.40740673\n",
      "Iteration 45, loss = 0.40577143\n",
      "Iteration 46, loss = 0.40505510\n",
      "Iteration 47, loss = 0.40599423\n",
      "Iteration 48, loss = 0.39940827\n",
      "Iteration 49, loss = 0.39478374\n",
      "Iteration 50, loss = 0.38905681\n",
      "Iteration 51, loss = 0.38744588\n",
      "Iteration 52, loss = 0.38659419\n",
      "Iteration 53, loss = 0.38208476\n",
      "Iteration 54, loss = 0.37882111\n",
      "Iteration 55, loss = 0.37887316\n",
      "Iteration 56, loss = 0.37631206\n",
      "Iteration 57, loss = 0.37051646\n",
      "Iteration 58, loss = 0.36794013\n",
      "Iteration 59, loss = 0.36304654\n",
      "Iteration 60, loss = 0.36337120\n",
      "Iteration 61, loss = 0.36036275\n",
      "Iteration 62, loss = 0.35371975\n",
      "Iteration 63, loss = 0.35354169\n",
      "Iteration 64, loss = 0.34989984\n",
      "Iteration 65, loss = 0.35027560\n",
      "Iteration 66, loss = 0.34281579\n",
      "Iteration 67, loss = 0.33901131\n",
      "Iteration 68, loss = 0.34151351\n",
      "Iteration 69, loss = 0.33746824\n",
      "Iteration 70, loss = 0.33191845\n",
      "Iteration 71, loss = 0.33083252\n",
      "Iteration 72, loss = 0.32866063\n",
      "Iteration 73, loss = 0.32667229\n",
      "Iteration 74, loss = 0.32264175\n",
      "Iteration 75, loss = 0.32597662\n",
      "Iteration 76, loss = 0.31968258\n",
      "Iteration 77, loss = 0.31382180\n",
      "Iteration 78, loss = 0.30969877\n",
      "Iteration 79, loss = 0.30813316\n",
      "Iteration 80, loss = 0.30657046\n",
      "Iteration 81, loss = 0.30320166\n",
      "Iteration 82, loss = 0.30179104\n",
      "Iteration 83, loss = 0.29665802\n",
      "Iteration 84, loss = 0.29412769\n",
      "Iteration 85, loss = 0.29046441\n",
      "Iteration 86, loss = 0.28935821\n",
      "Iteration 87, loss = 0.28538194\n",
      "Iteration 88, loss = 0.28786735\n",
      "Iteration 89, loss = 0.28395896\n",
      "Iteration 90, loss = 0.28718288\n",
      "Iteration 91, loss = 0.27632804\n",
      "Iteration 92, loss = 0.27280610\n",
      "Iteration 93, loss = 0.27321340\n",
      "Iteration 94, loss = 0.27062568\n",
      "Iteration 95, loss = 0.27038808\n",
      "Iteration 96, loss = 0.26399354\n",
      "Iteration 97, loss = 0.26055529\n",
      "Iteration 98, loss = 0.26246569\n",
      "Iteration 99, loss = 0.25355011\n",
      "Iteration 100, loss = 0.25425699\n",
      "Iteration 101, loss = 0.25277370\n",
      "Iteration 102, loss = 0.25117854\n",
      "Iteration 103, loss = 0.25068986\n",
      "Iteration 104, loss = 0.24925225\n",
      "Iteration 105, loss = 0.24234727\n",
      "Iteration 106, loss = 0.24436206\n",
      "Iteration 107, loss = 0.24414922\n",
      "Iteration 108, loss = 0.23595566\n",
      "Iteration 109, loss = 0.23113214\n",
      "Iteration 110, loss = 0.23452274\n",
      "Iteration 111, loss = 0.23321802\n",
      "Iteration 112, loss = 0.22949389\n",
      "Iteration 113, loss = 0.22297267\n",
      "Iteration 114, loss = 0.22342827\n",
      "Iteration 115, loss = 0.23359810\n",
      "Iteration 116, loss = 0.22605149\n",
      "Iteration 117, loss = 0.21921613\n",
      "Iteration 118, loss = 0.21483416\n",
      "Iteration 119, loss = 0.21308813\n",
      "Iteration 120, loss = 0.20941912\n",
      "Iteration 121, loss = 0.20966070\n",
      "Iteration 122, loss = 0.20507429\n",
      "Iteration 123, loss = 0.20050996\n",
      "Iteration 124, loss = 0.20073853\n",
      "Iteration 125, loss = 0.20013024\n",
      "Iteration 126, loss = 0.20158814\n",
      "Iteration 127, loss = 0.19501084\n",
      "Iteration 128, loss = 0.19852906\n",
      "Iteration 129, loss = 0.19249204\n",
      "Iteration 130, loss = 0.19212109\n",
      "Iteration 131, loss = 0.18770583\n",
      "Iteration 132, loss = 0.18798180\n",
      "Iteration 133, loss = 0.19090834\n",
      "Iteration 134, loss = 0.19304225\n",
      "Iteration 135, loss = 0.18340954\n",
      "Iteration 136, loss = 0.18100103\n",
      "Iteration 137, loss = 0.17932180\n",
      "Iteration 138, loss = 0.18112636\n",
      "Iteration 139, loss = 0.17508558\n",
      "Iteration 140, loss = 0.17504071\n",
      "Iteration 141, loss = 0.17279694\n",
      "Iteration 142, loss = 0.17118584\n",
      "Iteration 143, loss = 0.16752930\n",
      "Iteration 144, loss = 0.17001989\n",
      "Iteration 145, loss = 0.16566767\n",
      "Iteration 146, loss = 0.16443102\n",
      "Iteration 147, loss = 0.16091989\n",
      "Iteration 148, loss = 0.16369142\n",
      "Iteration 149, loss = 0.15812779\n",
      "Iteration 150, loss = 0.15858991\n",
      "Iteration 151, loss = 0.15962276\n",
      "Iteration 152, loss = 0.15299883\n",
      "Iteration 153, loss = 0.15195594\n",
      "Iteration 154, loss = 0.14997179\n",
      "Iteration 155, loss = 0.14982794\n",
      "Iteration 156, loss = 0.14839736\n",
      "Iteration 157, loss = 0.15105845\n",
      "Iteration 158, loss = 0.14486644\n",
      "Iteration 159, loss = 0.14855239\n",
      "Iteration 160, loss = 0.14222543\n",
      "Iteration 161, loss = 0.14433615\n",
      "Iteration 162, loss = 0.14459185\n",
      "Iteration 163, loss = 0.13861050\n",
      "Iteration 164, loss = 0.13719770\n",
      "Iteration 165, loss = 0.13818595\n",
      "Iteration 166, loss = 0.13392919\n",
      "Iteration 167, loss = 0.13109014\n",
      "Iteration 168, loss = 0.12889030\n",
      "Iteration 169, loss = 0.13406960\n",
      "Iteration 170, loss = 0.12804379\n",
      "Iteration 171, loss = 0.12820160\n",
      "Iteration 172, loss = 0.13076558\n",
      "Iteration 173, loss = 0.13521175\n",
      "Iteration 174, loss = 0.13187845\n",
      "Iteration 175, loss = 0.12504988\n",
      "Iteration 176, loss = 0.12222471\n",
      "Iteration 177, loss = 0.12059998\n",
      "Iteration 178, loss = 0.11959527\n",
      "Iteration 179, loss = 0.11757284\n",
      "Iteration 180, loss = 0.11621861\n",
      "Iteration 181, loss = 0.12109367\n",
      "Iteration 182, loss = 0.11794001\n",
      "Iteration 183, loss = 0.11689208\n",
      "Iteration 184, loss = 0.11340476\n",
      "Iteration 185, loss = 0.11590712\n",
      "Iteration 186, loss = 0.11729111\n",
      "Iteration 187, loss = 0.11188634\n",
      "Iteration 188, loss = 0.11255632\n",
      "Iteration 189, loss = 0.10693093\n",
      "Iteration 190, loss = 0.10877553\n",
      "Iteration 191, loss = 0.10834614\n",
      "Iteration 192, loss = 0.10320572\n",
      "Iteration 193, loss = 0.10646001\n",
      "Iteration 194, loss = 0.10253829\n",
      "Iteration 195, loss = 0.10357654\n",
      "Iteration 196, loss = 0.10065987\n",
      "Iteration 197, loss = 0.10010865\n",
      "Iteration 198, loss = 0.09688575\n",
      "Iteration 199, loss = 0.09580293\n",
      "Iteration 200, loss = 0.09925268\n",
      "Iteration 201, loss = 0.09436832\n",
      "Iteration 202, loss = 0.09435942\n",
      "Iteration 203, loss = 0.09345933\n",
      "Iteration 204, loss = 0.09050672\n",
      "Iteration 205, loss = 0.09437882\n",
      "Iteration 206, loss = 0.08983872\n",
      "Iteration 207, loss = 0.08944172\n",
      "Iteration 208, loss = 0.09543705\n",
      "Iteration 209, loss = 0.09889627\n",
      "Iteration 210, loss = 0.08845781\n",
      "Iteration 211, loss = 0.08773796\n",
      "Iteration 212, loss = 0.08393166\n",
      "Iteration 213, loss = 0.08541449\n",
      "Iteration 214, loss = 0.08614201\n",
      "Iteration 215, loss = 0.08251390\n",
      "Iteration 216, loss = 0.08187640\n",
      "Iteration 217, loss = 0.08251342\n",
      "Iteration 218, loss = 0.07885976\n",
      "Iteration 219, loss = 0.07985758\n",
      "Iteration 220, loss = 0.07983780\n",
      "Iteration 221, loss = 0.07719060\n",
      "Iteration 222, loss = 0.08004872\n",
      "Iteration 223, loss = 0.07410939\n",
      "Iteration 224, loss = 0.07403504\n",
      "Iteration 225, loss = 0.07412773\n",
      "Iteration 226, loss = 0.07711132\n",
      "Iteration 227, loss = 0.07320462\n",
      "Iteration 228, loss = 0.07334336\n",
      "Iteration 229, loss = 0.07546499\n",
      "Iteration 230, loss = 0.07523983\n",
      "Iteration 231, loss = 0.07257463\n",
      "Iteration 232, loss = 0.06977830\n",
      "Iteration 233, loss = 0.06845637\n",
      "Iteration 234, loss = 0.06711770\n",
      "Iteration 235, loss = 0.06693642\n",
      "Iteration 236, loss = 0.06559943\n",
      "Iteration 237, loss = 0.06841201\n",
      "Iteration 238, loss = 0.06868179\n",
      "Iteration 239, loss = 0.06975539\n",
      "Iteration 240, loss = 0.06505097\n",
      "Iteration 241, loss = 0.06259645\n",
      "Iteration 242, loss = 0.06307860\n",
      "Iteration 243, loss = 0.06094236\n",
      "Iteration 244, loss = 0.06191990\n",
      "Iteration 245, loss = 0.06560525\n",
      "Iteration 246, loss = 0.07005013\n",
      "Iteration 247, loss = 0.07164981\n",
      "Iteration 248, loss = 0.06229127\n",
      "Iteration 249, loss = 0.05901072\n",
      "Iteration 250, loss = 0.05699406\n",
      "Iteration 251, loss = 0.05754029\n",
      "Iteration 252, loss = 0.05792790\n",
      "Iteration 253, loss = 0.05502683\n",
      "Iteration 254, loss = 0.05632594\n",
      "Iteration 255, loss = 0.05460121\n",
      "Iteration 256, loss = 0.05214929\n",
      "Iteration 257, loss = 0.05585681\n",
      "Iteration 258, loss = 0.05348089\n",
      "Iteration 259, loss = 0.05193334\n",
      "Iteration 260, loss = 0.05169022\n",
      "Iteration 261, loss = 0.05086954\n",
      "Iteration 262, loss = 0.05061764\n"
     ]
    },
    {
     "name": "stdout",
     "output_type": "stream",
     "text": [
      "Iteration 263, loss = 0.05105526\n",
      "Iteration 264, loss = 0.05118552\n",
      "Iteration 265, loss = 0.05316740\n",
      "Iteration 266, loss = 0.05080981\n",
      "Iteration 267, loss = 0.04865926\n",
      "Iteration 268, loss = 0.04963585\n",
      "Iteration 269, loss = 0.05302135\n",
      "Iteration 270, loss = 0.04961586\n",
      "Iteration 271, loss = 0.04827592\n",
      "Iteration 272, loss = 0.04734919\n",
      "Iteration 273, loss = 0.04787170\n",
      "Iteration 274, loss = 0.04597910\n",
      "Iteration 275, loss = 0.04623972\n",
      "Iteration 276, loss = 0.04415700\n",
      "Iteration 277, loss = 0.04882601\n",
      "Iteration 278, loss = 0.04396785\n",
      "Iteration 279, loss = 0.04373560\n",
      "Iteration 280, loss = 0.04236141\n",
      "Iteration 281, loss = 0.04276556\n",
      "Iteration 282, loss = 0.04194443\n",
      "Iteration 283, loss = 0.04516351\n",
      "Iteration 284, loss = 0.04555171\n",
      "Iteration 285, loss = 0.04400660\n",
      "Iteration 286, loss = 0.04363233\n",
      "Iteration 287, loss = 0.04241271\n",
      "Iteration 288, loss = 0.03905682\n",
      "Iteration 289, loss = 0.04232623\n",
      "Iteration 290, loss = 0.04027916\n",
      "Iteration 291, loss = 0.04411770\n",
      "Iteration 292, loss = 0.04123027\n",
      "Iteration 293, loss = 0.04235712\n",
      "Iteration 294, loss = 0.04168508\n",
      "Iteration 295, loss = 0.03784283\n",
      "Iteration 296, loss = 0.03708393\n",
      "Iteration 297, loss = 0.03575070\n",
      "Iteration 298, loss = 0.03628773\n",
      "Iteration 299, loss = 0.03553533\n",
      "Iteration 300, loss = 0.03833303\n",
      "Iteration 301, loss = 0.03517367\n",
      "Iteration 302, loss = 0.03418758\n",
      "Iteration 303, loss = 0.03588425\n",
      "Iteration 304, loss = 0.03599608\n",
      "Iteration 305, loss = 0.03384325\n",
      "Iteration 306, loss = 0.03512072\n",
      "Iteration 307, loss = 0.03351420\n",
      "Iteration 308, loss = 0.03543983\n",
      "Iteration 309, loss = 0.03412709\n",
      "Iteration 310, loss = 0.03304168\n",
      "Iteration 311, loss = 0.03304482\n",
      "Iteration 312, loss = 0.03176838\n",
      "Iteration 313, loss = 0.03231971\n",
      "Iteration 314, loss = 0.03059996\n",
      "Iteration 315, loss = 0.02989725\n",
      "Iteration 316, loss = 0.03568856\n",
      "Iteration 317, loss = 0.03313626\n",
      "Iteration 318, loss = 0.03079134\n",
      "Iteration 319, loss = 0.03004358\n",
      "Iteration 320, loss = 0.02847555\n",
      "Iteration 321, loss = 0.02820210\n",
      "Iteration 322, loss = 0.02804719\n",
      "Iteration 323, loss = 0.02800867\n",
      "Iteration 324, loss = 0.02999743\n",
      "Iteration 325, loss = 0.02887935\n",
      "Iteration 326, loss = 0.03010506\n",
      "Iteration 327, loss = 0.03206635\n",
      "Iteration 328, loss = 0.02916989\n",
      "Iteration 329, loss = 0.02686654\n",
      "Iteration 330, loss = 0.02732275\n",
      "Iteration 331, loss = 0.02749547\n",
      "Iteration 332, loss = 0.02759687\n",
      "Iteration 333, loss = 0.02926566\n",
      "Iteration 334, loss = 0.02771079\n",
      "Iteration 335, loss = 0.02712551\n",
      "Iteration 336, loss = 0.02725600\n",
      "Iteration 337, loss = 0.02539346\n",
      "Iteration 338, loss = 0.02668008\n",
      "Iteration 339, loss = 0.02606588\n",
      "Iteration 340, loss = 0.02465818\n",
      "Iteration 341, loss = 0.02384713\n",
      "Iteration 342, loss = 0.02354023\n",
      "Iteration 343, loss = 0.02412012\n",
      "Iteration 344, loss = 0.02440502\n",
      "Iteration 345, loss = 0.02466120\n",
      "Iteration 346, loss = 0.02284003\n",
      "Iteration 347, loss = 0.02339149\n",
      "Iteration 348, loss = 0.02419608\n",
      "Iteration 349, loss = 0.02351502\n",
      "Iteration 350, loss = 0.02307430\n",
      "Iteration 351, loss = 0.02288449\n",
      "Iteration 352, loss = 0.02335683\n",
      "Iteration 353, loss = 0.02228585\n",
      "Iteration 354, loss = 0.02205060\n",
      "Iteration 355, loss = 0.02068260\n",
      "Iteration 356, loss = 0.02045645\n",
      "Iteration 357, loss = 0.01986750\n",
      "Iteration 358, loss = 0.01973964\n",
      "Iteration 359, loss = 0.02064514\n",
      "Iteration 360, loss = 0.02012707\n",
      "Iteration 361, loss = 0.02043987\n",
      "Iteration 362, loss = 0.01923829\n",
      "Iteration 363, loss = 0.01975098\n",
      "Iteration 364, loss = 0.01958925\n",
      "Iteration 365, loss = 0.01952391\n",
      "Iteration 366, loss = 0.01856127\n",
      "Iteration 367, loss = 0.02002781\n",
      "Iteration 368, loss = 0.01936614\n",
      "Iteration 369, loss = 0.01873489\n",
      "Iteration 370, loss = 0.01931447\n",
      "Iteration 371, loss = 0.01923536\n",
      "Iteration 372, loss = 0.01836288\n",
      "Iteration 373, loss = 0.01783027\n",
      "Iteration 374, loss = 0.01740135\n",
      "Iteration 375, loss = 0.01726328\n",
      "Iteration 376, loss = 0.01836267\n",
      "Iteration 377, loss = 0.01816932\n",
      "Iteration 378, loss = 0.01805321\n",
      "Iteration 379, loss = 0.01984246\n",
      "Iteration 380, loss = 0.01902888\n",
      "Iteration 381, loss = 0.01849817\n",
      "Iteration 382, loss = 0.01753660\n",
      "Iteration 383, loss = 0.01681178\n",
      "Iteration 384, loss = 0.01652628\n",
      "Iteration 385, loss = 0.01633844\n",
      "Iteration 386, loss = 0.01656712\n",
      "Iteration 387, loss = 0.01619621\n",
      "Iteration 388, loss = 0.01534340\n",
      "Iteration 389, loss = 0.01739982\n",
      "Iteration 390, loss = 0.02001778\n",
      "Iteration 391, loss = 0.01922001\n",
      "Iteration 392, loss = 0.01746301\n",
      "Iteration 393, loss = 0.01589117\n",
      "Iteration 394, loss = 0.01507566\n",
      "Iteration 395, loss = 0.01588123\n",
      "Iteration 396, loss = 0.01614057\n",
      "Iteration 397, loss = 0.01790922\n",
      "Iteration 398, loss = 0.01521106\n",
      "Iteration 399, loss = 0.01440757\n",
      "Iteration 400, loss = 0.01481218\n",
      "Iteration 401, loss = 0.01399919\n",
      "Iteration 402, loss = 0.01375153\n",
      "Iteration 403, loss = 0.01502848\n",
      "Iteration 404, loss = 0.01596531\n",
      "Iteration 405, loss = 0.01430351\n",
      "Iteration 406, loss = 0.01334527\n",
      "Iteration 407, loss = 0.01321015\n",
      "Iteration 408, loss = 0.01379297\n",
      "Iteration 409, loss = 0.01336599\n",
      "Iteration 410, loss = 0.01782004\n",
      "Iteration 411, loss = 0.01948952\n",
      "Iteration 412, loss = 0.01849058\n",
      "Iteration 413, loss = 0.01825583\n",
      "Iteration 414, loss = 0.01456016\n",
      "Iteration 415, loss = 0.01301412\n",
      "Iteration 416, loss = 0.01368500\n",
      "Iteration 417, loss = 0.01240472\n",
      "Iteration 418, loss = 0.01270419\n",
      "Iteration 419, loss = 0.01321749\n",
      "Iteration 420, loss = 0.01378584\n",
      "Iteration 421, loss = 0.01235750\n",
      "Iteration 422, loss = 0.01218669\n",
      "Iteration 423, loss = 0.01289579\n",
      "Iteration 424, loss = 0.01332835\n",
      "Iteration 425, loss = 0.01286351\n",
      "Iteration 426, loss = 0.01220343\n",
      "Iteration 427, loss = 0.01171452\n",
      "Iteration 428, loss = 0.01122091\n",
      "Iteration 429, loss = 0.01093234\n",
      "Iteration 430, loss = 0.01217053\n",
      "Iteration 431, loss = 0.01107524\n",
      "Iteration 432, loss = 0.01064874\n",
      "Iteration 433, loss = 0.01105949\n",
      "Iteration 434, loss = 0.01177044\n",
      "Iteration 435, loss = 0.01122808\n",
      "Iteration 436, loss = 0.01047777\n",
      "Iteration 437, loss = 0.01002088\n",
      "Iteration 438, loss = 0.01063757\n",
      "Iteration 439, loss = 0.01103671\n",
      "Iteration 440, loss = 0.01100672\n",
      "Iteration 441, loss = 0.01077777\n",
      "Iteration 442, loss = 0.01013219\n",
      "Iteration 443, loss = 0.01011033\n",
      "Iteration 444, loss = 0.00983936\n",
      "Iteration 445, loss = 0.00972013\n",
      "Iteration 446, loss = 0.01172969\n",
      "Iteration 447, loss = 0.01064240\n",
      "Iteration 448, loss = 0.00963241\n",
      "Iteration 449, loss = 0.00979241\n",
      "Iteration 450, loss = 0.00966175\n",
      "Iteration 451, loss = 0.00933567\n",
      "Iteration 452, loss = 0.00965844\n",
      "Iteration 453, loss = 0.00902414\n",
      "Iteration 454, loss = 0.00888787\n",
      "Iteration 455, loss = 0.00885187\n",
      "Iteration 456, loss = 0.00944620\n",
      "Iteration 457, loss = 0.01058508\n",
      "Iteration 458, loss = 0.01020187\n",
      "Iteration 459, loss = 0.00949649\n",
      "Iteration 460, loss = 0.00931306\n",
      "Iteration 461, loss = 0.00914164\n",
      "Iteration 462, loss = 0.00891612\n",
      "Iteration 463, loss = 0.00868225\n",
      "Iteration 464, loss = 0.00873652\n",
      "Iteration 465, loss = 0.00829636\n",
      "Iteration 466, loss = 0.00900328\n",
      "Iteration 467, loss = 0.00891284\n",
      "Iteration 468, loss = 0.00874025\n",
      "Iteration 469, loss = 0.00834524\n",
      "Iteration 470, loss = 0.00853282\n",
      "Iteration 471, loss = 0.00911569\n",
      "Iteration 472, loss = 0.00810258\n",
      "Iteration 473, loss = 0.00839076\n",
      "Iteration 474, loss = 0.00783598\n",
      "Iteration 475, loss = 0.00806687\n",
      "Iteration 476, loss = 0.00760371\n",
      "Iteration 477, loss = 0.00783670\n",
      "Iteration 478, loss = 0.00763443\n",
      "Iteration 479, loss = 0.00738652\n",
      "Iteration 480, loss = 0.00744852\n",
      "Iteration 481, loss = 0.00744536\n",
      "Iteration 482, loss = 0.00802304\n",
      "Iteration 483, loss = 0.00819120\n",
      "Iteration 484, loss = 0.00729828\n",
      "Iteration 485, loss = 0.00700091\n",
      "Iteration 486, loss = 0.00681744\n",
      "Iteration 487, loss = 0.00679708\n",
      "Iteration 488, loss = 0.00699031\n",
      "Iteration 489, loss = 0.00685883\n",
      "Iteration 490, loss = 0.00658964\n",
      "Iteration 491, loss = 0.00659501\n",
      "Iteration 492, loss = 0.00667792\n",
      "Iteration 493, loss = 0.00689574\n",
      "Iteration 494, loss = 0.00750011\n",
      "Iteration 495, loss = 0.00835168\n",
      "Iteration 496, loss = 0.00704000\n",
      "Iteration 497, loss = 0.00664419\n",
      "Iteration 498, loss = 0.00628896\n",
      "Iteration 499, loss = 0.00644161\n",
      "Iteration 500, loss = 0.00665839\n",
      "Iteration 501, loss = 0.00642889\n",
      "Iteration 502, loss = 0.00637075\n",
      "Iteration 503, loss = 0.00665805\n",
      "Iteration 504, loss = 0.00701802\n",
      "Iteration 505, loss = 0.00606926\n",
      "Iteration 506, loss = 0.00617640\n",
      "Iteration 507, loss = 0.00599095\n",
      "Iteration 508, loss = 0.00571167\n",
      "Iteration 509, loss = 0.00614610\n",
      "Iteration 510, loss = 0.00589975\n",
      "Iteration 511, loss = 0.00559829\n",
      "Iteration 512, loss = 0.00582320\n",
      "Iteration 513, loss = 0.00572332\n"
     ]
    },
    {
     "name": "stdout",
     "output_type": "stream",
     "text": [
      "Iteration 514, loss = 0.00576787\n",
      "Iteration 515, loss = 0.00546276\n",
      "Iteration 516, loss = 0.00620683\n",
      "Iteration 517, loss = 0.00612951\n",
      "Iteration 518, loss = 0.00607775\n",
      "Iteration 519, loss = 0.00593633\n",
      "Iteration 520, loss = 0.00650458\n",
      "Iteration 521, loss = 0.00627000\n",
      "Iteration 522, loss = 0.00908684\n",
      "Iteration 523, loss = 0.00874292\n",
      "Iteration 524, loss = 0.00732925\n",
      "Iteration 525, loss = 0.00651957\n",
      "Iteration 526, loss = 0.00594348\n",
      "Training loss did not improve more than tol=0.000100 for 10 consecutive epochs. Stopping.\n"
     ]
    },
    {
     "data": {
      "text/html": [
       "<style>#sk-container-id-7 {color: black;background-color: white;}#sk-container-id-7 pre{padding: 0;}#sk-container-id-7 div.sk-toggleable {background-color: white;}#sk-container-id-7 label.sk-toggleable__label {cursor: pointer;display: block;width: 100%;margin-bottom: 0;padding: 0.3em;box-sizing: border-box;text-align: center;}#sk-container-id-7 label.sk-toggleable__label-arrow:before {content: \"▸\";float: left;margin-right: 0.25em;color: #696969;}#sk-container-id-7 label.sk-toggleable__label-arrow:hover:before {color: black;}#sk-container-id-7 div.sk-estimator:hover label.sk-toggleable__label-arrow:before {color: black;}#sk-container-id-7 div.sk-toggleable__content {max-height: 0;max-width: 0;overflow: hidden;text-align: left;background-color: #f0f8ff;}#sk-container-id-7 div.sk-toggleable__content pre {margin: 0.2em;color: black;border-radius: 0.25em;background-color: #f0f8ff;}#sk-container-id-7 input.sk-toggleable__control:checked~div.sk-toggleable__content {max-height: 200px;max-width: 100%;overflow: auto;}#sk-container-id-7 input.sk-toggleable__control:checked~label.sk-toggleable__label-arrow:before {content: \"▾\";}#sk-container-id-7 div.sk-estimator input.sk-toggleable__control:checked~label.sk-toggleable__label {background-color: #d4ebff;}#sk-container-id-7 div.sk-label input.sk-toggleable__control:checked~label.sk-toggleable__label {background-color: #d4ebff;}#sk-container-id-7 input.sk-hidden--visually {border: 0;clip: rect(1px 1px 1px 1px);clip: rect(1px, 1px, 1px, 1px);height: 1px;margin: -1px;overflow: hidden;padding: 0;position: absolute;width: 1px;}#sk-container-id-7 div.sk-estimator {font-family: monospace;background-color: #f0f8ff;border: 1px dotted black;border-radius: 0.25em;box-sizing: border-box;margin-bottom: 0.5em;}#sk-container-id-7 div.sk-estimator:hover {background-color: #d4ebff;}#sk-container-id-7 div.sk-parallel-item::after {content: \"\";width: 100%;border-bottom: 1px solid gray;flex-grow: 1;}#sk-container-id-7 div.sk-label:hover label.sk-toggleable__label {background-color: #d4ebff;}#sk-container-id-7 div.sk-serial::before {content: \"\";position: absolute;border-left: 1px solid gray;box-sizing: border-box;top: 0;bottom: 0;left: 50%;z-index: 0;}#sk-container-id-7 div.sk-serial {display: flex;flex-direction: column;align-items: center;background-color: white;padding-right: 0.2em;padding-left: 0.2em;position: relative;}#sk-container-id-7 div.sk-item {position: relative;z-index: 1;}#sk-container-id-7 div.sk-parallel {display: flex;align-items: stretch;justify-content: center;background-color: white;position: relative;}#sk-container-id-7 div.sk-item::before, #sk-container-id-7 div.sk-parallel-item::before {content: \"\";position: absolute;border-left: 1px solid gray;box-sizing: border-box;top: 0;bottom: 0;left: 50%;z-index: -1;}#sk-container-id-7 div.sk-parallel-item {display: flex;flex-direction: column;z-index: 1;position: relative;background-color: white;}#sk-container-id-7 div.sk-parallel-item:first-child::after {align-self: flex-end;width: 50%;}#sk-container-id-7 div.sk-parallel-item:last-child::after {align-self: flex-start;width: 50%;}#sk-container-id-7 div.sk-parallel-item:only-child::after {width: 0;}#sk-container-id-7 div.sk-dashed-wrapped {border: 1px dashed gray;margin: 0 0.4em 0.5em 0.4em;box-sizing: border-box;padding-bottom: 0.4em;background-color: white;}#sk-container-id-7 div.sk-label label {font-family: monospace;font-weight: bold;display: inline-block;line-height: 1.2em;}#sk-container-id-7 div.sk-label-container {text-align: center;}#sk-container-id-7 div.sk-container {/* jupyter's `normalize.less` sets `[hidden] { display: none; }` but bootstrap.min.css set `[hidden] { display: none !important; }` so we also need the `!important` here to be able to override the default hidden behavior on the sphinx rendered scikit-learn.org. See: https://github.com/scikit-learn/scikit-learn/issues/21755 */display: inline-block !important;position: relative;}#sk-container-id-7 div.sk-text-repr-fallback {display: none;}</style><div id=\"sk-container-id-7\" class=\"sk-top-container\"><div class=\"sk-text-repr-fallback\"><pre>MLPClassifier(hidden_layer_sizes=(100, 100), max_iter=1000, verbose=True)</pre><b>In a Jupyter environment, please rerun this cell to show the HTML representation or trust the notebook. <br />On GitHub, the HTML representation is unable to render, please try loading this page with nbviewer.org.</b></div><div class=\"sk-container\" hidden><div class=\"sk-item\"><div class=\"sk-estimator sk-toggleable\"><input class=\"sk-toggleable__control sk-hidden--visually\" id=\"sk-estimator-id-7\" type=\"checkbox\" checked><label for=\"sk-estimator-id-7\" class=\"sk-toggleable__label sk-toggleable__label-arrow\">MLPClassifier</label><div class=\"sk-toggleable__content\"><pre>MLPClassifier(hidden_layer_sizes=(100, 100), max_iter=1000, verbose=True)</pre></div></div></div></div></div>"
      ],
      "text/plain": [
       "MLPClassifier(hidden_layer_sizes=(100, 100), max_iter=1000, verbose=True)"
      ]
     },
     "execution_count": 69,
     "metadata": {},
     "output_type": "execute_result"
    }
   ],
   "source": [
    "from sklearn.neural_network import MLPClassifier\n",
    "rede_neural_estrutura = MLPClassifier(max_iter=1000, verbose=True, solver=\"adam\", activation=\"relu\", hidden_layer_sizes=(100, 100))\n",
    "rede_neural_estrutura.fit(x_estruturas_treining, y_estruturas_treining)"
   ]
  },
  {
   "cell_type": "code",
   "execution_count": 70,
   "id": "28bb550d",
   "metadata": {},
   "outputs": [
    {
     "data": {
      "text/plain": [
       "0.6398891966759003"
      ]
     },
     "execution_count": 70,
     "metadata": {},
     "output_type": "execute_result"
    }
   ],
   "source": [
    "previsoes = rede_neural_estrutura.predict(x_estruturas_testing)\n",
    "accuracy_score(y_estruturas_testing, previsoes)"
   ]
  },
  {
   "cell_type": "code",
   "execution_count": null,
   "id": "80300bf9",
   "metadata": {},
   "outputs": [],
   "source": []
  },
  {
   "cell_type": "code",
   "execution_count": null,
   "id": "b1a39bcf",
   "metadata": {},
   "outputs": [],
   "source": []
  }
 ],
 "metadata": {
  "kernelspec": {
   "display_name": "Python 3 (ipykernel)",
   "language": "python",
   "name": "python3"
  },
  "language_info": {
   "codemirror_mode": {
    "name": "ipython",
    "version": 3
   },
   "file_extension": ".py",
   "mimetype": "text/x-python",
   "name": "python",
   "nbconvert_exporter": "python",
   "pygments_lexer": "ipython3",
   "version": "3.10.9"
  }
 },
 "nbformat": 4,
 "nbformat_minor": 5
}
